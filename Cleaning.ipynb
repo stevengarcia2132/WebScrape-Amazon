{
 "cells": [
  {
   "cell_type": "code",
   "execution_count": 2,
   "id": "c3850545-6308-48ac-99b2-3432cb9479d2",
   "metadata": {},
   "outputs": [
    {
     "name": "stdout",
     "output_type": "stream",
     "text": [
      "                                         link  \\\n",
      "0    ./index_files/71G2ktlRotL._AC_UY218_.jpg   \n",
      "1    ./index_files/81A5jQHA+lL._AC_UY218_.jpg   \n",
      "2    ./index_files/81gByv+FhjL._AC_UY218_.jpg   \n",
      "3    ./index_files/71AHFDEpkdL._AC_UY218_.jpg   \n",
      "4    ./index_files/810+SBbizeL._AC_UY218_.jpg   \n",
      "..                                        ...   \n",
      "203  ./index_files/81gVBP23vBL._AC_UY218_.jpg   \n",
      "204  ./index_files/81em9kpgL1L._AC_UY218_.jpg   \n",
      "205  ./index_files/81xgjNa6EbL._AC_UY218_.jpg   \n",
      "206  ./index_files/81I2HYzFPSL._AC_UY218_.jpg   \n",
      "207  ./index_files/81dlwaFEejL._AC_UY218_.jpg   \n",
      "\n",
      "                                                 title              rating  \\\n",
      "0    The Greatness Mindset: Unlock the Power of You...  4.9 out of 5 stars   \n",
      "1    The Subtle Art of Not Giving a F*ck: A Counter...  4.6 out of 5 stars   \n",
      "2    Can't Hurt Me: Master Your Mind and Defy the Odds  4.8 out of 5 stars   \n",
      "3    The Mountain Is You: Transforming Self-Sabotag...  4.8 out of 5 stars   \n",
      "4                    Think and Grow Rich: 1937 Edition  4.7 out of 5 stars   \n",
      "..                                                 ...                 ...   \n",
      "203                       The Artist's Way Starter Kit  4.8 out of 5 stars   \n",
      "204  Change Starts with You: Following Your Fire to...  4.7 out of 5 stars   \n",
      "205  CSB Study Bible For Women, Teal Flowers Leathe...  4.9 out of 5 stars   \n",
      "206  The Home Edit Life: The No-Guilt Guide to Owni...  4.8 out of 5 stars   \n",
      "207  All Along You Were Blooming: Thoughts for Boun...  4.8 out of 5 stars   \n",
      "\n",
      "     price     review  \n",
      "0       16       (84)  \n",
      "1        0  (102,446)  \n",
      "2        0   (70,998)  \n",
      "3       22   (11,777)  \n",
      "4        0   (88,390)  \n",
      "..     ...        ...  \n",
      "203     30    (1,960)  \n",
      "204      0        (4)  \n",
      "205     53    (1,202)  \n",
      "206     14   (13,070)  \n",
      "207     11    (3,902)  \n",
      "\n",
      "[208 rows x 5 columns]\n"
     ]
    }
   ],
   "source": [
    "import os\n",
    "import pandas as pd\n",
    "\n",
    "# Set the directory containing the JSON files\n",
    "directory = 'C:/Users/tinom/Downloads/'\n",
    "\n",
    "# Get a list of all JSON files in the directory\n",
    "json_files = [f for f in os.listdir(directory) if f.endswith('.json')]\n",
    "\n",
    "# Read each JSON file into a Pandas DataFrame\n",
    "dfs = []\n",
    "for json_file in json_files:\n",
    "    filepath = os.path.join(directory, json_file)\n",
    "    df = pd.read_json(filepath)\n",
    "    dfs.append(df)\n",
    "\n",
    "# Concatenate the DataFrames into a single DataFrame\n",
    "merged_df = pd.concat(dfs, ignore_index=True)\n",
    "\n",
    "# Print the merged DataFrame\n",
    "print(merged_df)"
   ]
  },
  {
   "cell_type": "code",
   "execution_count": 13,
   "id": "1351a04f-8542-4c3f-be9a-fa1873e6aa26",
   "metadata": {},
   "outputs": [
    {
     "name": "stdout",
     "output_type": "stream",
     "text": [
      "                                         link  \\\n",
      "0    ./index_files/71G2ktlRotL._AC_UY218_.jpg   \n",
      "1    ./index_files/81A5jQHA+lL._AC_UY218_.jpg   \n",
      "2    ./index_files/81gByv+FhjL._AC_UY218_.jpg   \n",
      "3    ./index_files/71AHFDEpkdL._AC_UY218_.jpg   \n",
      "4    ./index_files/810+SBbizeL._AC_UY218_.jpg   \n",
      "..                                        ...   \n",
      "203  ./index_files/81gVBP23vBL._AC_UY218_.jpg   \n",
      "204  ./index_files/81em9kpgL1L._AC_UY218_.jpg   \n",
      "205  ./index_files/81xgjNa6EbL._AC_UY218_.jpg   \n",
      "206  ./index_files/81I2HYzFPSL._AC_UY218_.jpg   \n",
      "207  ./index_files/81dlwaFEejL._AC_UY218_.jpg   \n",
      "\n",
      "                                                 title  price     review  \\\n",
      "0    The Greatness Mindset: Unlock the Power of You...     16       (84)   \n",
      "1    The Subtle Art of Not Giving a F*ck: A Counter...      0  (102,446)   \n",
      "2    Can't Hurt Me: Master Your Mind and Defy the Odds      0   (70,998)   \n",
      "3    The Mountain Is You: Transforming Self-Sabotag...     22   (11,777)   \n",
      "4                    Think and Grow Rich: 1937 Edition      0   (88,390)   \n",
      "..                                                 ...    ...        ...   \n",
      "203                       The Artist's Way Starter Kit     30    (1,960)   \n",
      "204  Change Starts with You: Following Your Fire to...      0        (4)   \n",
      "205  CSB Study Bible For Women, Teal Flowers Leathe...     53    (1,202)   \n",
      "206  The Home Edit Life: The No-Guilt Guide to Owni...     14   (13,070)   \n",
      "207  All Along You Were Blooming: Thoughts for Boun...     11    (3,902)   \n",
      "\n",
      "     rating_value  \n",
      "0             4.9  \n",
      "1             4.6  \n",
      "2             4.8  \n",
      "3             4.8  \n",
      "4             4.7  \n",
      "..            ...  \n",
      "203           4.8  \n",
      "204           4.7  \n",
      "205           4.9  \n",
      "206           4.8  \n",
      "207           4.8  \n",
      "\n",
      "[208 rows x 5 columns]\n"
     ]
    }
   ],
   "source": [
    "# assuming the column containing the ratings is called \"rating\"\n",
    "# and the DataFrame is called \"df\"\n",
    "\n",
    "# create a new column called \"rating_value\"\n",
    "merged_df['rating_value'] = merged_df['rating'].apply(lambda x: float(x.split()[0]))\n",
    "\n",
    "merged_df.drop('rating', axis=1, inplace=True)\n",
    "\n",
    "# print the updated DataFrame\n",
    "print(merged_df)\n"
   ]
  },
  {
   "cell_type": "code",
   "execution_count": 14,
   "id": "054a40ba-2884-4169-9895-784d956eba12",
   "metadata": {},
   "outputs": [
    {
     "name": "stdout",
     "output_type": "stream",
     "text": [
      "                                         link  \\\n",
      "0    ./index_files/71G2ktlRotL._AC_UY218_.jpg   \n",
      "1    ./index_files/81A5jQHA+lL._AC_UY218_.jpg   \n",
      "2    ./index_files/81gByv+FhjL._AC_UY218_.jpg   \n",
      "3    ./index_files/71AHFDEpkdL._AC_UY218_.jpg   \n",
      "4    ./index_files/810+SBbizeL._AC_UY218_.jpg   \n",
      "..                                        ...   \n",
      "203  ./index_files/81gVBP23vBL._AC_UY218_.jpg   \n",
      "204  ./index_files/81em9kpgL1L._AC_UY218_.jpg   \n",
      "205  ./index_files/81xgjNa6EbL._AC_UY218_.jpg   \n",
      "206  ./index_files/81I2HYzFPSL._AC_UY218_.jpg   \n",
      "207  ./index_files/81dlwaFEejL._AC_UY218_.jpg   \n",
      "\n",
      "                                                 title  price   review  \\\n",
      "0    The Greatness Mindset: Unlock the Power of You...     16       84   \n",
      "1    The Subtle Art of Not Giving a F*ck: A Counter...      0  102,446   \n",
      "2    Can't Hurt Me: Master Your Mind and Defy the Odds      0   70,998   \n",
      "3    The Mountain Is You: Transforming Self-Sabotag...     22   11,777   \n",
      "4                    Think and Grow Rich: 1937 Edition      0   88,390   \n",
      "..                                                 ...    ...      ...   \n",
      "203                       The Artist's Way Starter Kit     30    1,960   \n",
      "204  Change Starts with You: Following Your Fire to...      0        4   \n",
      "205  CSB Study Bible For Women, Teal Flowers Leathe...     53    1,202   \n",
      "206  The Home Edit Life: The No-Guilt Guide to Owni...     14   13,070   \n",
      "207  All Along You Were Blooming: Thoughts for Boun...     11    3,902   \n",
      "\n",
      "     rating_value  \n",
      "0             4.9  \n",
      "1             4.6  \n",
      "2             4.8  \n",
      "3             4.8  \n",
      "4             4.7  \n",
      "..            ...  \n",
      "203           4.8  \n",
      "204           4.7  \n",
      "205           4.9  \n",
      "206           4.8  \n",
      "207           4.8  \n",
      "\n",
      "[208 rows x 5 columns]\n"
     ]
    },
    {
     "name": "stderr",
     "output_type": "stream",
     "text": [
      "C:\\Users\\tinom\\AppData\\Local\\Temp\\ipykernel_16160\\1487937859.py:5: FutureWarning: The default value of regex will change from True to False in a future version.\n",
      "  merged_df['review'] = merged_df['review'].str.replace(r'[\\(\\)]', '')\n"
     ]
    }
   ],
   "source": [
    "# assuming the column containing the review values is called \"reviews\"\n",
    "# and the DataFrame is called \"df\"\n",
    "\n",
    "# replace the opening and closing parentheses with empty strings\n",
    "merged_df['review'] = merged_df['review'].str.replace(r'[\\(\\)]', '')\n",
    "\n",
    "# print the updated DataFrame\n",
    "print(merged_df)\n"
   ]
  },
  {
   "cell_type": "code",
   "execution_count": 28,
   "id": "bf5c856d-9ad0-4e1a-b7c1-8ae445296c02",
   "metadata": {},
   "outputs": [
    {
     "data": {
      "text/plain": [
       "link             object\n",
       "title            object\n",
       "price             int64\n",
       "review           object\n",
       "rating_value    float64\n",
       "dtype: object"
      ]
     },
     "execution_count": 28,
     "metadata": {},
     "output_type": "execute_result"
    }
   ],
   "source": [
    "merged_df.dtypes"
   ]
  },
  {
   "cell_type": "code",
   "execution_count": 71,
   "id": "dd187033-017f-4a2c-a067-0872e58b0664",
   "metadata": {},
   "outputs": [
    {
     "name": "stdout",
     "output_type": "stream",
     "text": [
      "                                                 title   review  price  \\\n",
      "0    The Greatness Mindset: Unlock the Power of You...       84     16   \n",
      "1    The Subtle Art of Not Giving a F*ck: A Counter...  102,446      0   \n",
      "2    Can't Hurt Me: Master Your Mind and Defy the Odds   70,998      0   \n",
      "3    The Mountain Is You: Transforming Self-Sabotag...   11,777     22   \n",
      "4                    Think and Grow Rich: 1937 Edition   88,390      0   \n",
      "..                                                 ...      ...    ...   \n",
      "203                       The Artist's Way Starter Kit    1,960     30   \n",
      "204  Change Starts with You: Following Your Fire to...        4      0   \n",
      "205  CSB Study Bible For Women, Teal Flowers Leathe...    1,202     53   \n",
      "206  The Home Edit Life: The No-Guilt Guide to Owni...   13,070     14   \n",
      "207  All Along You Were Blooming: Thoughts for Boun...    3,902     11   \n",
      "\n",
      "     rating_value                                      link  \n",
      "0             4.9  ./index_files/71G2ktlRotL._AC_UY218_.jpg  \n",
      "1             4.6  ./index_files/81A5jQHA+lL._AC_UY218_.jpg  \n",
      "2             4.8  ./index_files/81gByv+FhjL._AC_UY218_.jpg  \n",
      "3             4.8  ./index_files/71AHFDEpkdL._AC_UY218_.jpg  \n",
      "4             4.7  ./index_files/810+SBbizeL._AC_UY218_.jpg  \n",
      "..            ...                                       ...  \n",
      "203           4.8  ./index_files/81gVBP23vBL._AC_UY218_.jpg  \n",
      "204           4.7  ./index_files/81em9kpgL1L._AC_UY218_.jpg  \n",
      "205           4.9  ./index_files/81xgjNa6EbL._AC_UY218_.jpg  \n",
      "206           4.8  ./index_files/81I2HYzFPSL._AC_UY218_.jpg  \n",
      "207           4.8  ./index_files/81dlwaFEejL._AC_UY218_.jpg  \n",
      "\n",
      "[208 rows x 5 columns]\n"
     ]
    }
   ],
   "source": [
    "#print(merged_df)\n",
    "original_columns = merged_df.columns.tolist()\n",
    "new_col = ['title','review','price','rating_value','link']\n",
    "new_df = merged_df.reindex(columns=new_col)\n",
    "print(new_df)"
   ]
  }
 ],
 "metadata": {
  "kernelspec": {
   "display_name": "Python 3 (ipykernel)",
   "language": "python",
   "name": "python3"
  },
  "language_info": {
   "codemirror_mode": {
    "name": "ipython",
    "version": 3
   },
   "file_extension": ".py",
   "mimetype": "text/x-python",
   "name": "python",
   "nbconvert_exporter": "python",
   "pygments_lexer": "ipython3",
   "version": "3.9.13"
  }
 },
 "nbformat": 4,
 "nbformat_minor": 5
}
