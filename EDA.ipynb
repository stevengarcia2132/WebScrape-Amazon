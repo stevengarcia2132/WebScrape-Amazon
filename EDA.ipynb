{
 "cells": [
  {
   "cell_type": "code",
   "execution_count": 41,
   "id": "8eeb38ea-b5c7-48ef-8c09-f0667f2fb521",
   "metadata": {},
   "outputs": [],
   "source": [
    "import plotly.express as px\n",
    "import pandas as pd\n",
    "import plotly.graph_objects as go\n",
    "import numpy as np\n",
    "from scipy.stats import norm\n",
    "import matplotlib.pyplot as plt\n"
   ]
  },
  {
   "cell_type": "code",
   "execution_count": 33,
   "id": "cbc13d92-f27d-422e-9131-da064c306556",
   "metadata": {},
   "outputs": [],
   "source": [
    "url = \"https://raw.githubusercontent.com/stevengarcia2132/WebScrape-Amazon/main/self-help%20books.csv\""
   ]
  },
  {
   "cell_type": "code",
   "execution_count": 34,
   "id": "d6981c75-2e83-4af3-96d0-aea1fc5fd284",
   "metadata": {},
   "outputs": [],
   "source": [
    "df = pd.read_csv(url)\n",
    "df = df.rename(columns={'rating_value': 'rating','review': 'number of reviews'})"
   ]
  },
  {
   "cell_type": "code",
   "execution_count": 35,
   "id": "f6c6b8ba-7e41-4943-be6b-ebfaabe4e685",
   "metadata": {},
   "outputs": [
    {
     "data": {
      "text/html": [
       "<div>\n",
       "<style scoped>\n",
       "    .dataframe tbody tr th:only-of-type {\n",
       "        vertical-align: middle;\n",
       "    }\n",
       "\n",
       "    .dataframe tbody tr th {\n",
       "        vertical-align: top;\n",
       "    }\n",
       "\n",
       "    .dataframe thead th {\n",
       "        text-align: right;\n",
       "    }\n",
       "</style>\n",
       "<table border=\"1\" class=\"dataframe\">\n",
       "  <thead>\n",
       "    <tr style=\"text-align: right;\">\n",
       "      <th></th>\n",
       "      <th>title</th>\n",
       "      <th>number of reviews</th>\n",
       "      <th>price</th>\n",
       "      <th>rating</th>\n",
       "      <th>link</th>\n",
       "    </tr>\n",
       "  </thead>\n",
       "  <tbody>\n",
       "    <tr>\n",
       "      <th>0</th>\n",
       "      <td>The Greatness Mindset: Unlock the Power of You...</td>\n",
       "      <td>84</td>\n",
       "      <td>16</td>\n",
       "      <td>4.9</td>\n",
       "      <td>./index_files/71G2ktlRotL._AC_UY218_.jpg</td>\n",
       "    </tr>\n",
       "    <tr>\n",
       "      <th>1</th>\n",
       "      <td>The Subtle Art of Not Giving a F*ck: A Counter...</td>\n",
       "      <td>102446</td>\n",
       "      <td>0</td>\n",
       "      <td>4.6</td>\n",
       "      <td>./index_files/81A5jQHA+lL._AC_UY218_.jpg</td>\n",
       "    </tr>\n",
       "    <tr>\n",
       "      <th>2</th>\n",
       "      <td>Can't Hurt Me: Master Your Mind and Defy the Odds</td>\n",
       "      <td>70998</td>\n",
       "      <td>0</td>\n",
       "      <td>4.8</td>\n",
       "      <td>./index_files/81gByv+FhjL._AC_UY218_.jpg</td>\n",
       "    </tr>\n",
       "    <tr>\n",
       "      <th>3</th>\n",
       "      <td>The Mountain Is You: Transforming Self-Sabotag...</td>\n",
       "      <td>11777</td>\n",
       "      <td>22</td>\n",
       "      <td>4.8</td>\n",
       "      <td>./index_files/71AHFDEpkdL._AC_UY218_.jpg</td>\n",
       "    </tr>\n",
       "    <tr>\n",
       "      <th>4</th>\n",
       "      <td>Think and Grow Rich: 1937 Edition</td>\n",
       "      <td>88390</td>\n",
       "      <td>0</td>\n",
       "      <td>4.7</td>\n",
       "      <td>./index_files/810+SBbizeL._AC_UY218_.jpg</td>\n",
       "    </tr>\n",
       "  </tbody>\n",
       "</table>\n",
       "</div>"
      ],
      "text/plain": [
       "                                               title  number of reviews  \\\n",
       "0  The Greatness Mindset: Unlock the Power of You...                 84   \n",
       "1  The Subtle Art of Not Giving a F*ck: A Counter...             102446   \n",
       "2  Can't Hurt Me: Master Your Mind and Defy the Odds              70998   \n",
       "3  The Mountain Is You: Transforming Self-Sabotag...              11777   \n",
       "4                  Think and Grow Rich: 1937 Edition              88390   \n",
       "\n",
       "   price  rating                                      link  \n",
       "0     16     4.9  ./index_files/71G2ktlRotL._AC_UY218_.jpg  \n",
       "1      0     4.6  ./index_files/81A5jQHA+lL._AC_UY218_.jpg  \n",
       "2      0     4.8  ./index_files/81gByv+FhjL._AC_UY218_.jpg  \n",
       "3     22     4.8  ./index_files/71AHFDEpkdL._AC_UY218_.jpg  \n",
       "4      0     4.7  ./index_files/810+SBbizeL._AC_UY218_.jpg  "
      ]
     },
     "execution_count": 35,
     "metadata": {},
     "output_type": "execute_result"
    }
   ],
   "source": [
    "df['number of reviews'] = df['number of reviews'].str.replace(',', '')\n",
    "df['number of reviews'] = pd.to_numeric(df['number of reviews'])\n",
    "\n",
    "df.head()"
   ]
  },
  {
   "cell_type": "code",
   "execution_count": 36,
   "id": "1ea62b0b-eeec-44be-89bc-2e5ad743a39c",
   "metadata": {},
   "outputs": [
    {
     "data": {
      "text/html": [
       "<div>\n",
       "<style scoped>\n",
       "    .dataframe tbody tr th:only-of-type {\n",
       "        vertical-align: middle;\n",
       "    }\n",
       "\n",
       "    .dataframe tbody tr th {\n",
       "        vertical-align: top;\n",
       "    }\n",
       "\n",
       "    .dataframe thead th {\n",
       "        text-align: right;\n",
       "    }\n",
       "</style>\n",
       "<table border=\"1\" class=\"dataframe\">\n",
       "  <thead>\n",
       "    <tr style=\"text-align: right;\">\n",
       "      <th></th>\n",
       "      <th>title</th>\n",
       "      <th>number of reviews</th>\n",
       "      <th>price</th>\n",
       "      <th>rating</th>\n",
       "      <th>link</th>\n",
       "      <th>cost</th>\n",
       "    </tr>\n",
       "  </thead>\n",
       "  <tbody>\n",
       "    <tr>\n",
       "      <th>0</th>\n",
       "      <td>The Greatness Mindset: Unlock the Power of You...</td>\n",
       "      <td>84</td>\n",
       "      <td>16</td>\n",
       "      <td>4.9</td>\n",
       "      <td>./index_files/71G2ktlRotL._AC_UY218_.jpg</td>\n",
       "      <td>Not Free</td>\n",
       "    </tr>\n",
       "    <tr>\n",
       "      <th>1</th>\n",
       "      <td>The Subtle Art of Not Giving a F*ck: A Counter...</td>\n",
       "      <td>102446</td>\n",
       "      <td>0</td>\n",
       "      <td>4.6</td>\n",
       "      <td>./index_files/81A5jQHA+lL._AC_UY218_.jpg</td>\n",
       "      <td>Free</td>\n",
       "    </tr>\n",
       "    <tr>\n",
       "      <th>2</th>\n",
       "      <td>Can't Hurt Me: Master Your Mind and Defy the Odds</td>\n",
       "      <td>70998</td>\n",
       "      <td>0</td>\n",
       "      <td>4.8</td>\n",
       "      <td>./index_files/81gByv+FhjL._AC_UY218_.jpg</td>\n",
       "      <td>Free</td>\n",
       "    </tr>\n",
       "    <tr>\n",
       "      <th>3</th>\n",
       "      <td>The Mountain Is You: Transforming Self-Sabotag...</td>\n",
       "      <td>11777</td>\n",
       "      <td>22</td>\n",
       "      <td>4.8</td>\n",
       "      <td>./index_files/71AHFDEpkdL._AC_UY218_.jpg</td>\n",
       "      <td>Not Free</td>\n",
       "    </tr>\n",
       "    <tr>\n",
       "      <th>4</th>\n",
       "      <td>Think and Grow Rich: 1937 Edition</td>\n",
       "      <td>88390</td>\n",
       "      <td>0</td>\n",
       "      <td>4.7</td>\n",
       "      <td>./index_files/810+SBbizeL._AC_UY218_.jpg</td>\n",
       "      <td>Free</td>\n",
       "    </tr>\n",
       "    <tr>\n",
       "      <th>...</th>\n",
       "      <td>...</td>\n",
       "      <td>...</td>\n",
       "      <td>...</td>\n",
       "      <td>...</td>\n",
       "      <td>...</td>\n",
       "      <td>...</td>\n",
       "    </tr>\n",
       "    <tr>\n",
       "      <th>203</th>\n",
       "      <td>The Artist's Way Starter Kit</td>\n",
       "      <td>1960</td>\n",
       "      <td>30</td>\n",
       "      <td>4.8</td>\n",
       "      <td>./index_files/81gVBP23vBL._AC_UY218_.jpg</td>\n",
       "      <td>Not Free</td>\n",
       "    </tr>\n",
       "    <tr>\n",
       "      <th>204</th>\n",
       "      <td>Change Starts with You: Following Your Fire to...</td>\n",
       "      <td>4</td>\n",
       "      <td>0</td>\n",
       "      <td>4.7</td>\n",
       "      <td>./index_files/81em9kpgL1L._AC_UY218_.jpg</td>\n",
       "      <td>Free</td>\n",
       "    </tr>\n",
       "    <tr>\n",
       "      <th>205</th>\n",
       "      <td>CSB Study Bible For Women, Teal Flowers Leathe...</td>\n",
       "      <td>1202</td>\n",
       "      <td>53</td>\n",
       "      <td>4.9</td>\n",
       "      <td>./index_files/81xgjNa6EbL._AC_UY218_.jpg</td>\n",
       "      <td>Not Free</td>\n",
       "    </tr>\n",
       "    <tr>\n",
       "      <th>206</th>\n",
       "      <td>The Home Edit Life: The No-Guilt Guide to Owni...</td>\n",
       "      <td>13070</td>\n",
       "      <td>14</td>\n",
       "      <td>4.8</td>\n",
       "      <td>./index_files/81I2HYzFPSL._AC_UY218_.jpg</td>\n",
       "      <td>Not Free</td>\n",
       "    </tr>\n",
       "    <tr>\n",
       "      <th>207</th>\n",
       "      <td>All Along You Were Blooming: Thoughts for Boun...</td>\n",
       "      <td>3902</td>\n",
       "      <td>11</td>\n",
       "      <td>4.8</td>\n",
       "      <td>./index_files/81dlwaFEejL._AC_UY218_.jpg</td>\n",
       "      <td>Not Free</td>\n",
       "    </tr>\n",
       "  </tbody>\n",
       "</table>\n",
       "<p>208 rows × 6 columns</p>\n",
       "</div>"
      ],
      "text/plain": [
       "                                                 title  number of reviews  \\\n",
       "0    The Greatness Mindset: Unlock the Power of You...                 84   \n",
       "1    The Subtle Art of Not Giving a F*ck: A Counter...             102446   \n",
       "2    Can't Hurt Me: Master Your Mind and Defy the Odds              70998   \n",
       "3    The Mountain Is You: Transforming Self-Sabotag...              11777   \n",
       "4                    Think and Grow Rich: 1937 Edition              88390   \n",
       "..                                                 ...                ...   \n",
       "203                       The Artist's Way Starter Kit               1960   \n",
       "204  Change Starts with You: Following Your Fire to...                  4   \n",
       "205  CSB Study Bible For Women, Teal Flowers Leathe...               1202   \n",
       "206  The Home Edit Life: The No-Guilt Guide to Owni...              13070   \n",
       "207  All Along You Were Blooming: Thoughts for Boun...               3902   \n",
       "\n",
       "     price  rating                                      link      cost  \n",
       "0       16     4.9  ./index_files/71G2ktlRotL._AC_UY218_.jpg  Not Free  \n",
       "1        0     4.6  ./index_files/81A5jQHA+lL._AC_UY218_.jpg      Free  \n",
       "2        0     4.8  ./index_files/81gByv+FhjL._AC_UY218_.jpg      Free  \n",
       "3       22     4.8  ./index_files/71AHFDEpkdL._AC_UY218_.jpg  Not Free  \n",
       "4        0     4.7  ./index_files/810+SBbizeL._AC_UY218_.jpg      Free  \n",
       "..     ...     ...                                       ...       ...  \n",
       "203     30     4.8  ./index_files/81gVBP23vBL._AC_UY218_.jpg  Not Free  \n",
       "204      0     4.7  ./index_files/81em9kpgL1L._AC_UY218_.jpg      Free  \n",
       "205     53     4.9  ./index_files/81xgjNa6EbL._AC_UY218_.jpg  Not Free  \n",
       "206     14     4.8  ./index_files/81I2HYzFPSL._AC_UY218_.jpg  Not Free  \n",
       "207     11     4.8  ./index_files/81dlwaFEejL._AC_UY218_.jpg  Not Free  \n",
       "\n",
       "[208 rows x 6 columns]"
      ]
     },
     "execution_count": 36,
     "metadata": {},
     "output_type": "execute_result"
    }
   ],
   "source": [
    "#create new  column on if the book has a price\n",
    "df['cost'] = df['price'].apply(lambda x: 'Not Free' if x > 0 else 'Free')\n",
    "\n",
    "df"
   ]
  },
  {
   "cell_type": "code",
   "execution_count": 56,
   "id": "2f3a9b9e-44d6-4e58-bb65-589e4ad25858",
   "metadata": {},
   "outputs": [
    {
     "data": {
      "application/vnd.plotly.v1+json": {
       "config": {
        "plotlyServerURL": "https://plot.ly"
       },
       "data": [
        {
         "alignmentgroup": "True",
         "bingroup": "x",
         "hovertemplate": "cost=%{x}<br>count=%{y}<extra></extra>",
         "legendgroup": "Not Free",
         "marker": {
          "color": "rgb(252,163,17)",
          "pattern": {
           "shape": ""
          }
         },
         "name": "Not Free",
         "offsetgroup": "Not Free",
         "orientation": "v",
         "showlegend": true,
         "type": "histogram",
         "x": [
          "Not Free",
          "Not Free",
          "Not Free",
          "Not Free",
          "Not Free",
          "Not Free",
          "Not Free",
          "Not Free",
          "Not Free",
          "Not Free",
          "Not Free",
          "Not Free",
          "Not Free",
          "Not Free",
          "Not Free",
          "Not Free",
          "Not Free",
          "Not Free",
          "Not Free",
          "Not Free",
          "Not Free",
          "Not Free",
          "Not Free",
          "Not Free",
          "Not Free",
          "Not Free",
          "Not Free",
          "Not Free",
          "Not Free",
          "Not Free",
          "Not Free",
          "Not Free",
          "Not Free",
          "Not Free",
          "Not Free",
          "Not Free",
          "Not Free",
          "Not Free",
          "Not Free",
          "Not Free",
          "Not Free",
          "Not Free",
          "Not Free",
          "Not Free",
          "Not Free",
          "Not Free",
          "Not Free",
          "Not Free",
          "Not Free",
          "Not Free",
          "Not Free",
          "Not Free",
          "Not Free",
          "Not Free",
          "Not Free",
          "Not Free",
          "Not Free",
          "Not Free",
          "Not Free",
          "Not Free",
          "Not Free",
          "Not Free",
          "Not Free",
          "Not Free",
          "Not Free",
          "Not Free",
          "Not Free",
          "Not Free",
          "Not Free",
          "Not Free",
          "Not Free",
          "Not Free",
          "Not Free",
          "Not Free",
          "Not Free",
          "Not Free",
          "Not Free",
          "Not Free",
          "Not Free",
          "Not Free",
          "Not Free",
          "Not Free",
          "Not Free",
          "Not Free",
          "Not Free",
          "Not Free",
          "Not Free"
         ],
         "xaxis": "x",
         "yaxis": "y"
        },
        {
         "alignmentgroup": "True",
         "bingroup": "x",
         "hovertemplate": "cost=%{x}<br>count=%{y}<extra></extra>",
         "legendgroup": "Free",
         "marker": {
          "color": "rgb(20,33,61)",
          "pattern": {
           "shape": ""
          }
         },
         "name": "Free",
         "offsetgroup": "Free",
         "orientation": "v",
         "showlegend": true,
         "type": "histogram",
         "x": [
          "Free",
          "Free",
          "Free",
          "Free",
          "Free",
          "Free",
          "Free",
          "Free",
          "Free",
          "Free",
          "Free",
          "Free",
          "Free",
          "Free",
          "Free",
          "Free",
          "Free",
          "Free",
          "Free",
          "Free",
          "Free",
          "Free",
          "Free",
          "Free",
          "Free",
          "Free",
          "Free",
          "Free",
          "Free",
          "Free",
          "Free",
          "Free",
          "Free",
          "Free",
          "Free",
          "Free",
          "Free",
          "Free",
          "Free",
          "Free",
          "Free",
          "Free",
          "Free",
          "Free",
          "Free",
          "Free",
          "Free",
          "Free",
          "Free",
          "Free",
          "Free",
          "Free",
          "Free",
          "Free",
          "Free",
          "Free",
          "Free",
          "Free",
          "Free",
          "Free",
          "Free",
          "Free",
          "Free",
          "Free",
          "Free",
          "Free",
          "Free",
          "Free",
          "Free",
          "Free",
          "Free",
          "Free",
          "Free",
          "Free",
          "Free",
          "Free",
          "Free",
          "Free",
          "Free",
          "Free",
          "Free",
          "Free",
          "Free",
          "Free",
          "Free",
          "Free",
          "Free",
          "Free",
          "Free",
          "Free",
          "Free",
          "Free",
          "Free",
          "Free",
          "Free",
          "Free",
          "Free",
          "Free",
          "Free",
          "Free",
          "Free",
          "Free",
          "Free",
          "Free",
          "Free",
          "Free",
          "Free",
          "Free",
          "Free",
          "Free",
          "Free",
          "Free",
          "Free",
          "Free",
          "Free",
          "Free",
          "Free",
          "Free",
          "Free",
          "Free",
          "Free"
         ],
         "xaxis": "x",
         "yaxis": "y"
        }
       ],
       "layout": {
        "barmode": "relative",
        "font": {
         "size": 18
        },
        "height": 600,
        "legend": {
         "title": {
          "text": "cost"
         },
         "tracegroupgap": 0
        },
        "margin": {
         "t": 60
        },
        "template": {
         "data": {
          "bar": [
           {
            "error_x": {
             "color": "#2a3f5f"
            },
            "error_y": {
             "color": "#2a3f5f"
            },
            "marker": {
             "line": {
              "color": "#E5ECF6",
              "width": 0.5
             },
             "pattern": {
              "fillmode": "overlay",
              "size": 10,
              "solidity": 0.2
             }
            },
            "type": "bar"
           }
          ],
          "barpolar": [
           {
            "marker": {
             "line": {
              "color": "#E5ECF6",
              "width": 0.5
             },
             "pattern": {
              "fillmode": "overlay",
              "size": 10,
              "solidity": 0.2
             }
            },
            "type": "barpolar"
           }
          ],
          "carpet": [
           {
            "aaxis": {
             "endlinecolor": "#2a3f5f",
             "gridcolor": "white",
             "linecolor": "white",
             "minorgridcolor": "white",
             "startlinecolor": "#2a3f5f"
            },
            "baxis": {
             "endlinecolor": "#2a3f5f",
             "gridcolor": "white",
             "linecolor": "white",
             "minorgridcolor": "white",
             "startlinecolor": "#2a3f5f"
            },
            "type": "carpet"
           }
          ],
          "choropleth": [
           {
            "colorbar": {
             "outlinewidth": 0,
             "ticks": ""
            },
            "type": "choropleth"
           }
          ],
          "contour": [
           {
            "colorbar": {
             "outlinewidth": 0,
             "ticks": ""
            },
            "colorscale": [
             [
              0,
              "#0d0887"
             ],
             [
              0.1111111111111111,
              "#46039f"
             ],
             [
              0.2222222222222222,
              "#7201a8"
             ],
             [
              0.3333333333333333,
              "#9c179e"
             ],
             [
              0.4444444444444444,
              "#bd3786"
             ],
             [
              0.5555555555555556,
              "#d8576b"
             ],
             [
              0.6666666666666666,
              "#ed7953"
             ],
             [
              0.7777777777777778,
              "#fb9f3a"
             ],
             [
              0.8888888888888888,
              "#fdca26"
             ],
             [
              1,
              "#f0f921"
             ]
            ],
            "type": "contour"
           }
          ],
          "contourcarpet": [
           {
            "colorbar": {
             "outlinewidth": 0,
             "ticks": ""
            },
            "type": "contourcarpet"
           }
          ],
          "heatmap": [
           {
            "colorbar": {
             "outlinewidth": 0,
             "ticks": ""
            },
            "colorscale": [
             [
              0,
              "#0d0887"
             ],
             [
              0.1111111111111111,
              "#46039f"
             ],
             [
              0.2222222222222222,
              "#7201a8"
             ],
             [
              0.3333333333333333,
              "#9c179e"
             ],
             [
              0.4444444444444444,
              "#bd3786"
             ],
             [
              0.5555555555555556,
              "#d8576b"
             ],
             [
              0.6666666666666666,
              "#ed7953"
             ],
             [
              0.7777777777777778,
              "#fb9f3a"
             ],
             [
              0.8888888888888888,
              "#fdca26"
             ],
             [
              1,
              "#f0f921"
             ]
            ],
            "type": "heatmap"
           }
          ],
          "heatmapgl": [
           {
            "colorbar": {
             "outlinewidth": 0,
             "ticks": ""
            },
            "colorscale": [
             [
              0,
              "#0d0887"
             ],
             [
              0.1111111111111111,
              "#46039f"
             ],
             [
              0.2222222222222222,
              "#7201a8"
             ],
             [
              0.3333333333333333,
              "#9c179e"
             ],
             [
              0.4444444444444444,
              "#bd3786"
             ],
             [
              0.5555555555555556,
              "#d8576b"
             ],
             [
              0.6666666666666666,
              "#ed7953"
             ],
             [
              0.7777777777777778,
              "#fb9f3a"
             ],
             [
              0.8888888888888888,
              "#fdca26"
             ],
             [
              1,
              "#f0f921"
             ]
            ],
            "type": "heatmapgl"
           }
          ],
          "histogram": [
           {
            "marker": {
             "pattern": {
              "fillmode": "overlay",
              "size": 10,
              "solidity": 0.2
             }
            },
            "type": "histogram"
           }
          ],
          "histogram2d": [
           {
            "colorbar": {
             "outlinewidth": 0,
             "ticks": ""
            },
            "colorscale": [
             [
              0,
              "#0d0887"
             ],
             [
              0.1111111111111111,
              "#46039f"
             ],
             [
              0.2222222222222222,
              "#7201a8"
             ],
             [
              0.3333333333333333,
              "#9c179e"
             ],
             [
              0.4444444444444444,
              "#bd3786"
             ],
             [
              0.5555555555555556,
              "#d8576b"
             ],
             [
              0.6666666666666666,
              "#ed7953"
             ],
             [
              0.7777777777777778,
              "#fb9f3a"
             ],
             [
              0.8888888888888888,
              "#fdca26"
             ],
             [
              1,
              "#f0f921"
             ]
            ],
            "type": "histogram2d"
           }
          ],
          "histogram2dcontour": [
           {
            "colorbar": {
             "outlinewidth": 0,
             "ticks": ""
            },
            "colorscale": [
             [
              0,
              "#0d0887"
             ],
             [
              0.1111111111111111,
              "#46039f"
             ],
             [
              0.2222222222222222,
              "#7201a8"
             ],
             [
              0.3333333333333333,
              "#9c179e"
             ],
             [
              0.4444444444444444,
              "#bd3786"
             ],
             [
              0.5555555555555556,
              "#d8576b"
             ],
             [
              0.6666666666666666,
              "#ed7953"
             ],
             [
              0.7777777777777778,
              "#fb9f3a"
             ],
             [
              0.8888888888888888,
              "#fdca26"
             ],
             [
              1,
              "#f0f921"
             ]
            ],
            "type": "histogram2dcontour"
           }
          ],
          "mesh3d": [
           {
            "colorbar": {
             "outlinewidth": 0,
             "ticks": ""
            },
            "type": "mesh3d"
           }
          ],
          "parcoords": [
           {
            "line": {
             "colorbar": {
              "outlinewidth": 0,
              "ticks": ""
             }
            },
            "type": "parcoords"
           }
          ],
          "pie": [
           {
            "automargin": true,
            "type": "pie"
           }
          ],
          "scatter": [
           {
            "fillpattern": {
             "fillmode": "overlay",
             "size": 10,
             "solidity": 0.2
            },
            "type": "scatter"
           }
          ],
          "scatter3d": [
           {
            "line": {
             "colorbar": {
              "outlinewidth": 0,
              "ticks": ""
             }
            },
            "marker": {
             "colorbar": {
              "outlinewidth": 0,
              "ticks": ""
             }
            },
            "type": "scatter3d"
           }
          ],
          "scattercarpet": [
           {
            "marker": {
             "colorbar": {
              "outlinewidth": 0,
              "ticks": ""
             }
            },
            "type": "scattercarpet"
           }
          ],
          "scattergeo": [
           {
            "marker": {
             "colorbar": {
              "outlinewidth": 0,
              "ticks": ""
             }
            },
            "type": "scattergeo"
           }
          ],
          "scattergl": [
           {
            "marker": {
             "colorbar": {
              "outlinewidth": 0,
              "ticks": ""
             }
            },
            "type": "scattergl"
           }
          ],
          "scattermapbox": [
           {
            "marker": {
             "colorbar": {
              "outlinewidth": 0,
              "ticks": ""
             }
            },
            "type": "scattermapbox"
           }
          ],
          "scatterpolar": [
           {
            "marker": {
             "colorbar": {
              "outlinewidth": 0,
              "ticks": ""
             }
            },
            "type": "scatterpolar"
           }
          ],
          "scatterpolargl": [
           {
            "marker": {
             "colorbar": {
              "outlinewidth": 0,
              "ticks": ""
             }
            },
            "type": "scatterpolargl"
           }
          ],
          "scatterternary": [
           {
            "marker": {
             "colorbar": {
              "outlinewidth": 0,
              "ticks": ""
             }
            },
            "type": "scatterternary"
           }
          ],
          "surface": [
           {
            "colorbar": {
             "outlinewidth": 0,
             "ticks": ""
            },
            "colorscale": [
             [
              0,
              "#0d0887"
             ],
             [
              0.1111111111111111,
              "#46039f"
             ],
             [
              0.2222222222222222,
              "#7201a8"
             ],
             [
              0.3333333333333333,
              "#9c179e"
             ],
             [
              0.4444444444444444,
              "#bd3786"
             ],
             [
              0.5555555555555556,
              "#d8576b"
             ],
             [
              0.6666666666666666,
              "#ed7953"
             ],
             [
              0.7777777777777778,
              "#fb9f3a"
             ],
             [
              0.8888888888888888,
              "#fdca26"
             ],
             [
              1,
              "#f0f921"
             ]
            ],
            "type": "surface"
           }
          ],
          "table": [
           {
            "cells": {
             "fill": {
              "color": "#EBF0F8"
             },
             "line": {
              "color": "white"
             }
            },
            "header": {
             "fill": {
              "color": "#C8D4E3"
             },
             "line": {
              "color": "white"
             }
            },
            "type": "table"
           }
          ]
         },
         "layout": {
          "annotationdefaults": {
           "arrowcolor": "#2a3f5f",
           "arrowhead": 0,
           "arrowwidth": 1
          },
          "autotypenumbers": "strict",
          "coloraxis": {
           "colorbar": {
            "outlinewidth": 0,
            "ticks": ""
           }
          },
          "colorscale": {
           "diverging": [
            [
             0,
             "#8e0152"
            ],
            [
             0.1,
             "#c51b7d"
            ],
            [
             0.2,
             "#de77ae"
            ],
            [
             0.3,
             "#f1b6da"
            ],
            [
             0.4,
             "#fde0ef"
            ],
            [
             0.5,
             "#f7f7f7"
            ],
            [
             0.6,
             "#e6f5d0"
            ],
            [
             0.7,
             "#b8e186"
            ],
            [
             0.8,
             "#7fbc41"
            ],
            [
             0.9,
             "#4d9221"
            ],
            [
             1,
             "#276419"
            ]
           ],
           "sequential": [
            [
             0,
             "#0d0887"
            ],
            [
             0.1111111111111111,
             "#46039f"
            ],
            [
             0.2222222222222222,
             "#7201a8"
            ],
            [
             0.3333333333333333,
             "#9c179e"
            ],
            [
             0.4444444444444444,
             "#bd3786"
            ],
            [
             0.5555555555555556,
             "#d8576b"
            ],
            [
             0.6666666666666666,
             "#ed7953"
            ],
            [
             0.7777777777777778,
             "#fb9f3a"
            ],
            [
             0.8888888888888888,
             "#fdca26"
            ],
            [
             1,
             "#f0f921"
            ]
           ],
           "sequentialminus": [
            [
             0,
             "#0d0887"
            ],
            [
             0.1111111111111111,
             "#46039f"
            ],
            [
             0.2222222222222222,
             "#7201a8"
            ],
            [
             0.3333333333333333,
             "#9c179e"
            ],
            [
             0.4444444444444444,
             "#bd3786"
            ],
            [
             0.5555555555555556,
             "#d8576b"
            ],
            [
             0.6666666666666666,
             "#ed7953"
            ],
            [
             0.7777777777777778,
             "#fb9f3a"
            ],
            [
             0.8888888888888888,
             "#fdca26"
            ],
            [
             1,
             "#f0f921"
            ]
           ]
          },
          "colorway": [
           "#636efa",
           "#EF553B",
           "#00cc96",
           "#ab63fa",
           "#FFA15A",
           "#19d3f3",
           "#FF6692",
           "#B6E880",
           "#FF97FF",
           "#FECB52"
          ],
          "font": {
           "color": "#2a3f5f"
          },
          "geo": {
           "bgcolor": "white",
           "lakecolor": "white",
           "landcolor": "#E5ECF6",
           "showlakes": true,
           "showland": true,
           "subunitcolor": "white"
          },
          "hoverlabel": {
           "align": "left"
          },
          "hovermode": "closest",
          "mapbox": {
           "style": "light"
          },
          "paper_bgcolor": "white",
          "plot_bgcolor": "#E5ECF6",
          "polar": {
           "angularaxis": {
            "gridcolor": "white",
            "linecolor": "white",
            "ticks": ""
           },
           "bgcolor": "#E5ECF6",
           "radialaxis": {
            "gridcolor": "white",
            "linecolor": "white",
            "ticks": ""
           }
          },
          "scene": {
           "xaxis": {
            "backgroundcolor": "#E5ECF6",
            "gridcolor": "white",
            "gridwidth": 2,
            "linecolor": "white",
            "showbackground": true,
            "ticks": "",
            "zerolinecolor": "white"
           },
           "yaxis": {
            "backgroundcolor": "#E5ECF6",
            "gridcolor": "white",
            "gridwidth": 2,
            "linecolor": "white",
            "showbackground": true,
            "ticks": "",
            "zerolinecolor": "white"
           },
           "zaxis": {
            "backgroundcolor": "#E5ECF6",
            "gridcolor": "white",
            "gridwidth": 2,
            "linecolor": "white",
            "showbackground": true,
            "ticks": "",
            "zerolinecolor": "white"
           }
          },
          "shapedefaults": {
           "line": {
            "color": "#2a3f5f"
           }
          },
          "ternary": {
           "aaxis": {
            "gridcolor": "white",
            "linecolor": "white",
            "ticks": ""
           },
           "baxis": {
            "gridcolor": "white",
            "linecolor": "white",
            "ticks": ""
           },
           "bgcolor": "#E5ECF6",
           "caxis": {
            "gridcolor": "white",
            "linecolor": "white",
            "ticks": ""
           }
          },
          "title": {
           "x": 0.05
          },
          "xaxis": {
           "automargin": true,
           "gridcolor": "white",
           "linecolor": "white",
           "ticks": "",
           "title": {
            "standoff": 15
           },
           "zerolinecolor": "white",
           "zerolinewidth": 2
          },
          "yaxis": {
           "automargin": true,
           "gridcolor": "white",
           "linecolor": "white",
           "ticks": "",
           "title": {
            "standoff": 15
           },
           "zerolinecolor": "white",
           "zerolinewidth": 2
          }
         }
        },
        "width": 800,
        "xaxis": {
         "anchor": "y",
         "autorange": true,
         "categoryarray": [
          "Not Free",
          "Free"
         ],
         "categoryorder": "array",
         "domain": [
          0,
          1
         ],
         "range": [
          -0.5,
          1.5
         ],
         "title": {
          "text": "cost"
         },
         "type": "category"
        },
        "yaxis": {
         "anchor": "x",
         "autorange": true,
         "domain": [
          0,
          1
         ],
         "range": [
          0,
          127.36842105263158
         ],
         "title": {
          "text": "count"
         }
        }
       }
      },
      "image/png": "[encoded data removed]",
      "text/html": [
       "<div>                            <div id=\"625fa78e-2e32-4766-8d33-ceeabe12225f\" class=\"plotly-graph-div\" style=\"height:600px; width:800px;\"></div>            <script type=\"text/javascript\">                require([\"plotly\"], function(Plotly) {                    window.PLOTLYENV=window.PLOTLYENV || {};                                    if (document.getElementById(\"625fa78e-2e32-4766-8d33-ceeabe12225f\")) {                    Plotly.newPlot(                        \"625fa78e-2e32-4766-8d33-ceeabe12225f\",                        [{\"alignmentgroup\":\"True\",\"bingroup\":\"x\",\"hovertemplate\":\"cost=%{x}<br>count=%{y}<extra></extra>\",\"legendgroup\":\"Not Free\",\"marker\":{\"color\":\"rgb(252,163,17)\",\"pattern\":{\"shape\":\"\"}},\"name\":\"Not Free\",\"offsetgroup\":\"Not Free\",\"orientation\":\"v\",\"showlegend\":true,\"x\":[\"Not Free\",\"Not Free\",\"Not Free\",\"Not Free\",\"Not Free\",\"Not Free\",\"Not Free\",\"Not Free\",\"Not Free\",\"Not Free\",\"Not Free\",\"Not Free\",\"Not Free\",\"Not Free\",\"Not Free\",\"Not Free\",\"Not Free\",\"Not Free\",\"Not Free\",\"Not Free\",\"Not Free\",\"Not Free\",\"Not Free\",\"Not Free\",\"Not Free\",\"Not Free\",\"Not Free\",\"Not Free\",\"Not Free\",\"Not Free\",\"Not Free\",\"Not Free\",\"Not Free\",\"Not Free\",\"Not Free\",\"Not Free\",\"Not Free\",\"Not Free\",\"Not Free\",\"Not Free\",\"Not Free\",\"Not Free\",\"Not Free\",\"Not Free\",\"Not Free\",\"Not Free\",\"Not Free\",\"Not Free\",\"Not Free\",\"Not Free\",\"Not Free\",\"Not Free\",\"Not Free\",\"Not Free\",\"Not Free\",\"Not Free\",\"Not Free\",\"Not Free\",\"Not Free\",\"Not Free\",\"Not Free\",\"Not Free\",\"Not Free\",\"Not Free\",\"Not Free\",\"Not Free\",\"Not Free\",\"Not Free\",\"Not Free\",\"Not Free\",\"Not Free\",\"Not Free\",\"Not Free\",\"Not Free\",\"Not Free\",\"Not Free\",\"Not Free\",\"Not Free\",\"Not Free\",\"Not Free\",\"Not Free\",\"Not Free\",\"Not Free\",\"Not Free\",\"Not Free\",\"Not Free\",\"Not Free\"],\"xaxis\":\"x\",\"yaxis\":\"y\",\"type\":\"histogram\"},{\"alignmentgroup\":\"True\",\"bingroup\":\"x\",\"hovertemplate\":\"cost=%{x}<br>count=%{y}<extra></extra>\",\"legendgroup\":\"Free\",\"marker\":{\"color\":\"rgb(20,33,61)\",\"pattern\":{\"shape\":\"\"}},\"name\":\"Free\",\"offsetgroup\":\"Free\",\"orientation\":\"v\",\"showlegend\":true,\"x\":[\"Free\",\"Free\",\"Free\",\"Free\",\"Free\",\"Free\",\"Free\",\"Free\",\"Free\",\"Free\",\"Free\",\"Free\",\"Free\",\"Free\",\"Free\",\"Free\",\"Free\",\"Free\",\"Free\",\"Free\",\"Free\",\"Free\",\"Free\",\"Free\",\"Free\",\"Free\",\"Free\",\"Free\",\"Free\",\"Free\",\"Free\",\"Free\",\"Free\",\"Free\",\"Free\",\"Free\",\"Free\",\"Free\",\"Free\",\"Free\",\"Free\",\"Free\",\"Free\",\"Free\",\"Free\",\"Free\",\"Free\",\"Free\",\"Free\",\"Free\",\"Free\",\"Free\",\"Free\",\"Free\",\"Free\",\"Free\",\"Free\",\"Free\",\"Free\",\"Free\",\"Free\",\"Free\",\"Free\",\"Free\",\"Free\",\"Free\",\"Free\",\"Free\",\"Free\",\"Free\",\"Free\",\"Free\",\"Free\",\"Free\",\"Free\",\"Free\",\"Free\",\"Free\",\"Free\",\"Free\",\"Free\",\"Free\",\"Free\",\"Free\",\"Free\",\"Free\",\"Free\",\"Free\",\"Free\",\"Free\",\"Free\",\"Free\",\"Free\",\"Free\",\"Free\",\"Free\",\"Free\",\"Free\",\"Free\",\"Free\",\"Free\",\"Free\",\"Free\",\"Free\",\"Free\",\"Free\",\"Free\",\"Free\",\"Free\",\"Free\",\"Free\",\"Free\",\"Free\",\"Free\",\"Free\",\"Free\",\"Free\",\"Free\",\"Free\",\"Free\",\"Free\"],\"xaxis\":\"x\",\"yaxis\":\"y\",\"type\":\"histogram\"}],                        {\"template\":{\"data\":{\"histogram2dcontour\":[{\"type\":\"histogram2dcontour\",\"colorbar\":{\"outlinewidth\":0,\"ticks\":\"\"},\"colorscale\":[[0.0,\"#0d0887\"],[0.1111111111111111,\"#46039f\"],[0.2222222222222222,\"#7201a8\"],[0.3333333333333333,\"#9c179e\"],[0.4444444444444444,\"#bd3786\"],[0.5555555555555556,\"#d8576b\"],[0.6666666666666666,\"#ed7953\"],[0.7777777777777778,\"#fb9f3a\"],[0.8888888888888888,\"#fdca26\"],[1.0,\"#f0f921\"]]}],\"choropleth\":[{\"type\":\"choropleth\",\"colorbar\":{\"outlinewidth\":0,\"ticks\":\"\"}}],\"histogram2d\":[{\"type\":\"histogram2d\",\"colorbar\":{\"outlinewidth\":0,\"ticks\":\"\"},\"colorscale\":[[0.0,\"#0d0887\"],[0.1111111111111111,\"#46039f\"],[0.2222222222222222,\"#7201a8\"],[0.3333333333333333,\"#9c179e\"],[0.4444444444444444,\"#bd3786\"],[0.5555555555555556,\"#d8576b\"],[0.6666666666666666,\"#ed7953\"],[0.7777777777777778,\"#fb9f3a\"],[0.8888888888888888,\"#fdca26\"],[1.0,\"#f0f921\"]]}],\"heatmap\":[{\"type\":\"heatmap\",\"colorbar\":{\"outlinewidth\":0,\"ticks\":\"\"},\"colorscale\":[[0.0,\"#0d0887\"],[0.1111111111111111,\"#46039f\"],[0.2222222222222222,\"#7201a8\"],[0.3333333333333333,\"#9c179e\"],[0.4444444444444444,\"#bd3786\"],[0.5555555555555556,\"#d8576b\"],[0.6666666666666666,\"#ed7953\"],[0.7777777777777778,\"#fb9f3a\"],[0.8888888888888888,\"#fdca26\"],[1.0,\"#f0f921\"]]}],\"heatmapgl\":[{\"type\":\"heatmapgl\",\"colorbar\":{\"outlinewidth\":0,\"ticks\":\"\"},\"colorscale\":[[0.0,\"#0d0887\"],[0.1111111111111111,\"#46039f\"],[0.2222222222222222,\"#7201a8\"],[0.3333333333333333,\"#9c179e\"],[0.4444444444444444,\"#bd3786\"],[0.5555555555555556,\"#d8576b\"],[0.6666666666666666,\"#ed7953\"],[0.7777777777777778,\"#fb9f3a\"],[0.8888888888888888,\"#fdca26\"],[1.0,\"#f0f921\"]]}],\"contourcarpet\":[{\"type\":\"contourcarpet\",\"colorbar\":{\"outlinewidth\":0,\"ticks\":\"\"}}],\"contour\":[{\"type\":\"contour\",\"colorbar\":{\"outlinewidth\":0,\"ticks\":\"\"},\"colorscale\":[[0.0,\"#0d0887\"],[0.1111111111111111,\"#46039f\"],[0.2222222222222222,\"#7201a8\"],[0.3333333333333333,\"#9c179e\"],[0.4444444444444444,\"#bd3786\"],[0.5555555555555556,\"#d8576b\"],[0.6666666666666666,\"#ed7953\"],[0.7777777777777778,\"#fb9f3a\"],[0.8888888888888888,\"#fdca26\"],[1.0,\"#f0f921\"]]}],\"surface\":[{\"type\":\"surface\",\"colorbar\":{\"outlinewidth\":0,\"ticks\":\"\"},\"colorscale\":[[0.0,\"#0d0887\"],[0.1111111111111111,\"#46039f\"],[0.2222222222222222,\"#7201a8\"],[0.3333333333333333,\"#9c179e\"],[0.4444444444444444,\"#bd3786\"],[0.5555555555555556,\"#d8576b\"],[0.6666666666666666,\"#ed7953\"],[0.7777777777777778,\"#fb9f3a\"],[0.8888888888888888,\"#fdca26\"],[1.0,\"#f0f921\"]]}],\"mesh3d\":[{\"type\":\"mesh3d\",\"colorbar\":{\"outlinewidth\":0,\"ticks\":\"\"}}],\"scatter\":[{\"fillpattern\":{\"fillmode\":\"overlay\",\"size\":10,\"solidity\":0.2},\"type\":\"scatter\"}],\"parcoords\":[{\"type\":\"parcoords\",\"line\":{\"colorbar\":{\"outlinewidth\":0,\"ticks\":\"\"}}}],\"scatterpolargl\":[{\"type\":\"scatterpolargl\",\"marker\":{\"colorbar\":{\"outlinewidth\":0,\"ticks\":\"\"}}}],\"bar\":[{\"error_x\":{\"color\":\"#2a3f5f\"},\"error_y\":{\"color\":\"#2a3f5f\"},\"marker\":{\"line\":{\"color\":\"#E5ECF6\",\"width\":0.5},\"pattern\":{\"fillmode\":\"overlay\",\"size\":10,\"solidity\":0.2}},\"type\":\"bar\"}],\"scattergeo\":[{\"type\":\"scattergeo\",\"marker\":{\"colorbar\":{\"outlinewidth\":0,\"ticks\":\"\"}}}],\"scatterpolar\":[{\"type\":\"scatterpolar\",\"marker\":{\"colorbar\":{\"outlinewidth\":0,\"ticks\":\"\"}}}],\"histogram\":[{\"marker\":{\"pattern\":{\"fillmode\":\"overlay\",\"size\":10,\"solidity\":0.2}},\"type\":\"histogram\"}],\"scattergl\":[{\"type\":\"scattergl\",\"marker\":{\"colorbar\":{\"outlinewidth\":0,\"ticks\":\"\"}}}],\"scatter3d\":[{\"type\":\"scatter3d\",\"line\":{\"colorbar\":{\"outlinewidth\":0,\"ticks\":\"\"}},\"marker\":{\"colorbar\":{\"outlinewidth\":0,\"ticks\":\"\"}}}],\"scattermapbox\":[{\"type\":\"scattermapbox\",\"marker\":{\"colorbar\":{\"outlinewidth\":0,\"ticks\":\"\"}}}],\"scatterternary\":[{\"type\":\"scatterternary\",\"marker\":{\"colorbar\":{\"outlinewidth\":0,\"ticks\":\"\"}}}],\"scattercarpet\":[{\"type\":\"scattercarpet\",\"marker\":{\"colorbar\":{\"outlinewidth\":0,\"ticks\":\"\"}}}],\"carpet\":[{\"aaxis\":{\"endlinecolor\":\"#2a3f5f\",\"gridcolor\":\"white\",\"linecolor\":\"white\",\"minorgridcolor\":\"white\",\"startlinecolor\":\"#2a3f5f\"},\"baxis\":{\"endlinecolor\":\"#2a3f5f\",\"gridcolor\":\"white\",\"linecolor\":\"white\",\"minorgridcolor\":\"white\",\"startlinecolor\":\"#2a3f5f\"},\"type\":\"carpet\"}],\"table\":[{\"cells\":{\"fill\":{\"color\":\"#EBF0F8\"},\"line\":{\"color\":\"white\"}},\"header\":{\"fill\":{\"color\":\"#C8D4E3\"},\"line\":{\"color\":\"white\"}},\"type\":\"table\"}],\"barpolar\":[{\"marker\":{\"line\":{\"color\":\"#E5ECF6\",\"width\":0.5},\"pattern\":{\"fillmode\":\"overlay\",\"size\":10,\"solidity\":0.2}},\"type\":\"barpolar\"}],\"pie\":[{\"automargin\":true,\"type\":\"pie\"}]},\"layout\":{\"autotypenumbers\":\"strict\",\"colorway\":[\"#636efa\",\"#EF553B\",\"#00cc96\",\"#ab63fa\",\"#FFA15A\",\"#19d3f3\",\"#FF6692\",\"#B6E880\",\"#FF97FF\",\"#FECB52\"],\"font\":{\"color\":\"#2a3f5f\"},\"hovermode\":\"closest\",\"hoverlabel\":{\"align\":\"left\"},\"paper_bgcolor\":\"white\",\"plot_bgcolor\":\"#E5ECF6\",\"polar\":{\"bgcolor\":\"#E5ECF6\",\"angularaxis\":{\"gridcolor\":\"white\",\"linecolor\":\"white\",\"ticks\":\"\"},\"radialaxis\":{\"gridcolor\":\"white\",\"linecolor\":\"white\",\"ticks\":\"\"}},\"ternary\":{\"bgcolor\":\"#E5ECF6\",\"aaxis\":{\"gridcolor\":\"white\",\"linecolor\":\"white\",\"ticks\":\"\"},\"baxis\":{\"gridcolor\":\"white\",\"linecolor\":\"white\",\"ticks\":\"\"},\"caxis\":{\"gridcolor\":\"white\",\"linecolor\":\"white\",\"ticks\":\"\"}},\"coloraxis\":{\"colorbar\":{\"outlinewidth\":0,\"ticks\":\"\"}},\"colorscale\":{\"sequential\":[[0.0,\"#0d0887\"],[0.1111111111111111,\"#46039f\"],[0.2222222222222222,\"#7201a8\"],[0.3333333333333333,\"#9c179e\"],[0.4444444444444444,\"#bd3786\"],[0.5555555555555556,\"#d8576b\"],[0.6666666666666666,\"#ed7953\"],[0.7777777777777778,\"#fb9f3a\"],[0.8888888888888888,\"#fdca26\"],[1.0,\"#f0f921\"]],\"sequentialminus\":[[0.0,\"#0d0887\"],[0.1111111111111111,\"#46039f\"],[0.2222222222222222,\"#7201a8\"],[0.3333333333333333,\"#9c179e\"],[0.4444444444444444,\"#bd3786\"],[0.5555555555555556,\"#d8576b\"],[0.6666666666666666,\"#ed7953\"],[0.7777777777777778,\"#fb9f3a\"],[0.8888888888888888,\"#fdca26\"],[1.0,\"#f0f921\"]],\"diverging\":[[0,\"#8e0152\"],[0.1,\"#c51b7d\"],[0.2,\"#de77ae\"],[0.3,\"#f1b6da\"],[0.4,\"#fde0ef\"],[0.5,\"#f7f7f7\"],[0.6,\"#e6f5d0\"],[0.7,\"#b8e186\"],[0.8,\"#7fbc41\"],[0.9,\"#4d9221\"],[1,\"#276419\"]]},\"xaxis\":{\"gridcolor\":\"white\",\"linecolor\":\"white\",\"ticks\":\"\",\"title\":{\"standoff\":15},\"zerolinecolor\":\"white\",\"automargin\":true,\"zerolinewidth\":2},\"yaxis\":{\"gridcolor\":\"white\",\"linecolor\":\"white\",\"ticks\":\"\",\"title\":{\"standoff\":15},\"zerolinecolor\":\"white\",\"automargin\":true,\"zerolinewidth\":2},\"scene\":{\"xaxis\":{\"backgroundcolor\":\"#E5ECF6\",\"gridcolor\":\"white\",\"linecolor\":\"white\",\"showbackground\":true,\"ticks\":\"\",\"zerolinecolor\":\"white\",\"gridwidth\":2},\"yaxis\":{\"backgroundcolor\":\"#E5ECF6\",\"gridcolor\":\"white\",\"linecolor\":\"white\",\"showbackground\":true,\"ticks\":\"\",\"zerolinecolor\":\"white\",\"gridwidth\":2},\"zaxis\":{\"backgroundcolor\":\"#E5ECF6\",\"gridcolor\":\"white\",\"linecolor\":\"white\",\"showbackground\":true,\"ticks\":\"\",\"zerolinecolor\":\"white\",\"gridwidth\":2}},\"shapedefaults\":{\"line\":{\"color\":\"#2a3f5f\"}},\"annotationdefaults\":{\"arrowcolor\":\"#2a3f5f\",\"arrowhead\":0,\"arrowwidth\":1},\"geo\":{\"bgcolor\":\"white\",\"landcolor\":\"#E5ECF6\",\"subunitcolor\":\"white\",\"showland\":true,\"showlakes\":true,\"lakecolor\":\"white\"},\"title\":{\"x\":0.05},\"mapbox\":{\"style\":\"light\"}}},\"xaxis\":{\"anchor\":\"y\",\"domain\":[0.0,1.0],\"title\":{\"text\":\"cost\"},\"categoryorder\":\"array\",\"categoryarray\":[\"Not Free\",\"Free\"]},\"yaxis\":{\"anchor\":\"x\",\"domain\":[0.0,1.0],\"title\":{\"text\":\"count\"}},\"legend\":{\"title\":{\"text\":\"cost\"},\"tracegroupgap\":0},\"margin\":{\"t\":60},\"barmode\":\"relative\",\"font\":{\"size\":18},\"width\":800,\"height\":600},                        {\"responsive\": true}                    ).then(function(){\n",
       "                            \n",
       "var gd = document.getElementById('625fa78e-2e32-4766-8d33-ceeabe12225f');\n",
       "var x = new MutationObserver(function (mutations, observer) {{\n",
       "        var display = window.getComputedStyle(gd).display;\n",
       "        if (!display || display === 'none') {{\n",
       "            console.log([gd, 'removed!']);\n",
       "            Plotly.purge(gd);\n",
       "            observer.disconnect();\n",
       "        }}\n",
       "}});\n",
       "\n",
       "// Listen for the removal of the full notebook cells\n",
       "var notebookContainer = gd.closest('#notebook-container');\n",
       "if (notebookContainer) {{\n",
       "    x.observe(notebookContainer, {childList: true});\n",
       "}}\n",
       "\n",
       "// Listen for the clearing of the current output cell\n",
       "var outputEl = gd.closest('.output');\n",
       "if (outputEl) {{\n",
       "    x.observe(outputEl, {childList: true});\n",
       "}}\n",
       "\n",
       "                        })                };                });            </script>        </div>"
      ]
     },
     "metadata": {},
     "output_type": "display_data"
    }
   ],
   "source": [
    "#how books are free compared to not free\n",
    "fig = px.histogram(df, x='cost', color= 'cost', color_discrete_sequence=['rgb(252,163,17)', 'rgb(20,33,61)'])\n",
    "#fig.update_traces(texttemplate='%{text:.2f}', textposition='outside')\n",
    "fig.update_layout(\n",
    " \n",
    "    font=dict(size=18),\n",
    "    width=800,  # set the width to 800 pixels\n",
    "    height=600  # set the height to 600 pixels\n",
    ")\n",
    "\n",
    "fig.write_image('costfree.png')\n",
    "\n",
    "fig.show()\n"
   ]
  },
  {
   "cell_type": "code",
   "execution_count": 98,
   "id": "d440ad67-ca5e-46af-a406-2e37c3630d3b",
   "metadata": {},
   "outputs": [
    {
     "data": {
      "application/vnd.plotly.v1+json": {
       "config": {
        "plotlyServerURL": "https://plot.ly"
       },
       "data": [
        {
         "customdata": [
          [
           "The Greatness Mindset: Unlock the Power of Your Mind and Live Your Best Life Today",
           84
          ],
          [
           "The Subtle Art of Not Giving a F*ck: A Counterintuitive Approach to Living a Good Life",
           102446
          ],
          [
           "Can't Hurt Me: Master Your Mind and Defy the Odds",
           70998
          ],
          [
           "The Mountain Is You: Transforming Self-Sabotage Into Self-Mastery",
           11777
          ],
          [
           "Think and Grow Rich: 1937 Edition",
           88390
          ],
          [
           "The Tools: Transform Your Problems into Courage, Confidence, and Creativity",
           1992
          ],
          [
           "Enchantment: Awakening Wonder in an Anxious Age",
           36
          ],
          [
           "Badass Affirmations: The Wit and Wisdom of Wild Women (Inspirational Quotes for Women, Book Gift for Women, Powerful Affirmations)",
           7010
          ],
          [
           "Breaking the Habit of Being Yourself",
           13357
          ],
          [
           "Make Your Bed: Little Things That Can Change Your Life...And Maybe the World",
           33052
          ],
          [
           "The Power of Positive Thinking",
           16751
          ],
          [
           "The Artist's Way: 30th Anniversary Edition",
           7081
          ],
          [
           "Allen Carr's Easy Way To Stop Smoking",
           6276
          ],
          [
           "Never Finished: Unshackle Your Mind and Win the War Within",
           4575
          ],
          [
           "The Answer to Anxiety: How to Break Free from the Tyranny of Anxious Thoughts and Worry",
           110
          ],
          [
           "The Gifts of Imperfection, 10th Anniversary Edition: Features a New Foreword",
           32193
          ],
          [
           "You Are a Badass at Making Money: Master the Mindset of Wealth",
           6640
          ],
          [
           "The Tibetan Book of Living and Dying: The Spiritual Classic & International Bestseller: 25th Anniversary Edition",
           2752
          ],
          [
           "The Everyday Warrior: A No-Hack, Practical Approach to Life",
           29
          ],
          [
           "Think Like a Monk: Train Your Mind for Peace and Purpose Every Day",
           32233
          ],
          [
           "More Than a Little",
           353
          ],
          [
           "The Official Walt Disney Quote Book: Over 300 Quotes with Newly Researched and Assembled Material by the Staff of the Walt Disney Archives (Disney Editions Deluxe)",
           7
          ],
          [
           "Who Moved My Cheese?: An A-Mazing Way to Deal with Change in Your Work and in Your Life",
           21410
          ],
          [
           "El poder de creer en ti: 9 pasos para aumentar tu autoestima, vencer tus miedos y aprender a quererte (Tu mejor versión) (Spanish Edition)",
           736
          ],
          [
           "EL PODER DEL PENSAMIENTO POSITIVO: La importancia del impacto que tienen los pensamientos en nuestra vida (Spanish Edition)",
           1104
          ],
          [
           "The Blue Zones, Second Edition: 9 Lessons for Living Longer From the People Who've Lived the Longest",
           2746
          ],
          [
           "Speak: Find Your Voice, Trust Your Gut, and Get from Where You Are to Where You Want to Be",
           1083
          ],
          [
           "There's A Hole In My Love Cup: The Badass Counseling® Method For Healing The Soul And Unleashing Greatness",
           863
          ],
          [
           "The Monk Who Sold His Ferrari: A Spiritual Fable About Fulfilling Your Dreams & Reaching Your Destiny",
           12088
          ],
          [
           "Holy Moments: A Handbook for the Rest of Your Life",
           113
          ],
          [
           "Influence: The Psychology of Persuasion, Revised Edition",
           11133
          ],
          [
           "The Universe Has Your Back: Transform Fear into Faith",
           8382
          ],
          [
           "Undistracted: Capture Your Purpose. Rediscover Your Joy.",
           1425
          ],
          [
           "We Should All Be Millionaires: A Woman’s Guide to Earning More, Building Wealth, and Gaining Economic Power",
           2242
          ],
          [
           "100 Deadly Skills: COMBAT EDITION: A Navy SEAL's Guide to Crushing Your Enemy, Fighting for Your Life, and Embracing Your Inner Badass",
           2045
          ],
          [
           "The New One Minute Manager",
           3706
          ],
          [
           "Love After Heartbreak: Volume I",
           3415
          ],
          [
           "Dear Body: What I Lost, What I Gained, and What I Learned Along the Way",
           82
          ],
          [
           "Your Greatest Power",
           163
          ],
          [
           "Live in Grace, Walk in Love: A 365-Day Journey",
           4955
          ],
          [
           "52 Modern Manners for Today's Teens (2)",
           154
          ],
          [
           "The Comfort Book",
           2355
          ],
          [
           "Everything Is F*cked: A Book About Hope",
           9888
          ],
          [
           "Dopamine Detox: A Short Guide to Remove Distractions and Get Your Brain to Do Hard Things (Productivity Series, Book 1)",
           3834
          ],
          [
           "Homecoming: Reclaiming and Championing Your Inner Child",
           2309
          ],
          [
           "Tools of Titans: The Tactics, Routines, and Habits of Billionaires, Icons, and World-Class Performers",
           9134
          ],
          [
           "The Four Agreements Companion Book: Using the Four Agreements to Master the Dream of Your Life (Toltec Wisdom)",
           1912
          ],
          [
           "The Law of Attraction: The Basics of the Teachings of Abraham",
           5792
          ],
          [
           "WHO MOVED MY CHEESE S.S.",
           645
          ],
          [
           "The Empowered Wife, Updated and Expanded Edition: Six Surprising Secrets for Attracting Your Husband's Time, Attention, and Affection",
           1598
          ],
          [
           "The Journey: Big Panda and Tiny Dragon",
           279
          ],
          [
           "Closer to Love: How to Attract the Right Relationships and Deepen Your Connections",
           24
          ],
          [
           "When Women Pray: 10 Women of the Bible Who Changed the World Through Prayer",
           9459
          ],
          [
           "Finding Muchness: How to Add More Life to Life",
           485
          ],
          [
           "Made to Stick: Why Some Ideas Survive and Others Die",
           4060
          ],
          [
           "Jonah: Navigating a Life Interrupted (Bible Study Book)",
           1455
          ],
          [
           "The Honest Mom Journal: The struggling moms guide to struggling less. A daily guided journal for moms facing mental health struggles, depression & ... A journal, diary, for stressed out mothers.",
           91
          ],
          [
           "The Little Book Of Daily Sunshine: Bite-Sized Inspiration To Light Up Your Day",
           306
          ],
          [
           "Motivational Swear Word Coloring Book For Adult: Inspirational Color Pages for Stress Relief and Relaxation | You Funking Got This Coloring pages | ... Man and Women for Gift Birthday and Christmas",
           361
          ],
          [
           "QBQ! The Question Behind the Question: Practicing Personal Accountability at Work and in Life",
           2973
          ],
          [
           "Welcome Home: A Guide to Building a Home for Your Soul",
           2396
          ],
          [
           "Gratitude Journal for Men: A Daily 5 Minute Guide for Mindfulness, Positivity, Leadership and Self Care (Premium Keepsake Edition)",
           263
          ],
          [
           "Gratitude Journal for Women: A Daily 5 Minute Guide for Mindfulness, Positivity, Affirmation and Self Care (Premium Keepsake Edition)",
           1820
          ],
          [
           "How Full Is Your Bucket? For Kids",
           2630
          ],
          [
           "Mirror Work: 21 Days to Heal Your Life",
           2213
          ],
          [
           "The 7 Habits of Highly Effective Teens Workbook",
           1762
          ],
          [
           "Good Morning, Holy Spirit",
           3632
          ],
          [
           "Single on Purpose: Redefine Everything. Find Yourself First.",
           1988
          ],
          [
           "How Will You Measure Your Life?",
           4401
          ],
          [
           "The Power",
           9586
          ],
          [
           "Loving People Who Are Hard to Love: Transforming Your World by Learning to Love Unconditionally",
           328
          ],
          [
           "Inspirational Coloring Book For Adults: 50 Motivational Quotes For Good Vibes, Positive Affirmations and Stress Relaxation",
           1053
          ],
          [
           "Manifest: 7 Steps to Living Your Best Life",
           2291
          ],
          [
           "A F*cking 2023 Wall Calendar: Get Your Sh*t Together This Year (Funny Monthly Calendar with Stickers, White Elephant Gag Gift for Adults) (Calendars & Gifts to Swear By)",
           5063
          ],
          [
           "Inteligencia Emocional: 4 Libros en 1: La Guía Completa Para Aprender Autodisciplina, Inteligencia Emocional, Psicología Oscura y Manipulación. Domina ... Las Creencias Negativas. (Spanish Edition)",
           1648
          ],
          [
           "My What If Year: A Memoir",
           71
          ],
          [
           "CSB Apologetics Study Bible, Gray Hardcover, Black Letter, Black Letter, Defend Your Faith, Study Notes and Commentary, Articles, Profiles, Full-Color Maps, Easy-to-Read Bible Serif Type",
           845
          ],
          [
           "The Game of Life and How to Play It",
           1596
          ],
          [
           "In My Feels: How to Feel God When I'm Not Feeling It",
           13
          ],
          [
           "Set Boundaries, Find Peace: A Guide to Reclaiming Yourself",
           7977
          ],
          [
           "The Power to Change: Mastering the Habits That Matter Most",
           95
          ],
          [
           "Forgiving What You Can't Forget: Discover How to Move On, Make Peace with Painful Memories, and Create a Life That's Beautiful Again",
           20736
          ],
          [
           "The Book of Awakening: Having the Life You Want by Being Present to the Life You Have (20th Anniversary Edition)",
           4162
          ],
          [
           "The Power of Discipline: How to Use Self Control and Mental Toughness to Achieve Your Goals",
           3254
          ],
          [
           "Discipline Is Destiny: The Power of Self-Control",
           1195
          ],
          [
           "The Obstacle Is the Way: The Timeless Art of Turning Trials into Triumph",
           17569
          ],
          [
           "Get Out of Your Head: Stopping the Spiral of Toxic Thoughts",
           22012
          ],
          [
           "The Urgent Life: My Story of Love, Loss, and Survival",
           128
          ],
          [
           "The Secret",
           40513
          ],
          [
           "Heal. Grow. Love: Words to Help You Become",
           838
          ],
          [
           "Relentless: From Good to Great to Unstoppable",
           9791
          ],
          [
           "Grit: The Power of Passion and Perseverance",
           14458
          ],
          [
           "You Are a Badass®: How to Stop Doubting Your Greatness and Start Living an Awesome Life",
           37682
          ],
          [
           "The Laws of Human Nature",
           11434
          ],
          [
           "The Power of One More: The Ultimate Guide to Happiness and Success",
           4142
          ],
          [
           "You Can Heal Your Life",
           13352
          ],
          [
           "As a man Thinketh: The Original 1902 Edition (The Wisdom Of James Allen)",
           5138
          ],
          [
           "The Magic of Thinking Big",
           13534
          ],
          [
           "The Sadness Book - A Journal To Let Go",
           974
          ],
          [
           "Burn After Writing (Pink)",
           83350
          ],
          [
           "Glass Hearts and Broken Promises",
           147
          ],
          [
           "Getting to Neutral: How to Conquer Negativity and Thrive in a Chaotic World",
           165
          ],
          [
           "The 7 Habits of Highly Effective Teens",
           12578
          ],
          [
           "The Miracle Morning: The Not-So-Obvious Secret Guaranteed to Transform Your Life - Before 8AM",
           24182
          ],
          [
           "The Mastery of Love: A Practical Guide to the Art of Relationship",
           14672
          ],
          [
           "Hold Me Tight: Seven Conversations for a Lifetime of Love",
           4723
          ],
          [
           "Never Finished: Unshackle Your Mind and Win the War Within - Clean Edition",
           470
          ],
          [
           "Limitless: Upgrade Your Brain, Learn Anything Faster, and Unlock Your Exceptional Life",
           17024
          ],
          [
           "The Comfort Crisis: Embrace Discomfort to Reclaim Your Wild, Happy, Healthy Self",
           3367
          ],
          [
           "Essentialism: The Disciplined Pursuit of Less",
           13340
          ],
          [
           "Power vs. Force: The Hidden Determinants of Human Behavior",
           4956
          ],
          [
           "You Owe You: Ignite Your Power, Your Purpose, and Your Why",
           913
          ],
          [
           "RUGE: O espera a ser devorado (Spanish Edition)",
           16
          ],
          [
           "Letting Go: The Pathway of Surrender",
           7540
          ],
          [
           "Master Your Emotions: A Practical Guide to Overcome Negativity and Better Manage Your Feelings",
           8835
          ],
          [
           "The Sunshine Mind: 100 Days to Finding the Hope and Joy You Want",
           65
          ],
          [
           "Tuesdays with Morrie: 20th Anniversary Edition",
           25656
          ],
          [
           "Push Off from Here: Nine Essential Truths to Get You Through Sobriety (and Everything Else)",
           22
          ],
          [
           "Los cuatro acuerdos (Narración en Castellano) [The Four Agreements (Castilian Narration)]: Una guía práctica para la libertad personal [A Practical Guide for Personal Freedom]",
           12260
          ],
          [
           "Outwitting the Devil: The Secrets to Freedom and Success (Official Publication of the Napoleon Hill Foundation)",
           3607
          ],
          [
           "Unfu*k Yourself: Get Out of Your Head and into Your Life",
           21199
          ],
          [
           "Cooking from the Spirit: Easy, Delicious, and Joyful Plant-Based Inspirations",
           1236
          ],
          [
           "Allen Carr's Quit Drinking Without Willpower: Be a Happy Non-Drinker",
           1882
          ],
          [
           "The Courage to Be Disliked: How to Free Yourself, Change Your Life, and Achieve Real Happiness",
           11055
          ],
          [
           "Wintering: The Power of Rest and Retreat in Difficult Times",
           5347
          ],
          [
           "3 Minute Positivity Journal: Boost Your Mood. Train Your Mind. Change Your Life.",
           3110
          ],
          [
           "The Highly Sensitive Person: How to Thrive When the World Overwhelms You",
           7723
          ],
          [
           "Ego Is the Enemy",
           13426
          ],
          [
           "The 5 Second Rule: Transform your Life, Work, and Confidence with Everyday Courage",
           8863
          ],
          [
           "Life Force: How New Breakthroughs in Precision Medicine Can Transform the Quality of Your Life & Those You Love",
           5046
          ],
          [
           "Good Vibes, Good Life: How Self-Love Is the Key to Unlocking Your Greatness",
           29607
          ],
          [
           "Mastery",
           7400
          ],
          [
           "A Radical Awakening: Turn Pain into Power, Embrace Your Truth, Live Free",
           2325
          ],
          [
           "Quit Like a Woman: The Radical Choice to Not Drink in a Culture Obsessed with Alcohol",
           7752
          ],
          [
           "Think and Grow Rich Deluxe Edition: The Complete Classic Text (Think and Grow Rich Series)",
           3827
          ],
          [
           "The Magic",
           12222
          ],
          [
           "52 Modern Manners For Today's Teens",
           1093
          ],
          [
           "The Gentle Art of Swedish Death Cleaning: How to Free Yourself and Your Family from a Lifetime of Clutter (The Swedish Art of Living & Dying Series)",
           3535
          ],
          [
           "Ask and It Is Given: Learning to Manifest Your Desires",
           13409
          ],
          [
           "A Year of Us: A Couple's Journal: One Question a Day to Spark Fun and Meaningful Conversations (Question a Day Couple's Journal)",
           6085
          ],
          [
           "The Way, the Enemy, and the Key: A Boxed Set of The Obstacle is the Way, Ego is the Enemy & Stillness is the Key",
           1489
          ],
          [
           "40 Days of Decrease: A Different Kind of Hunger. A Different Kind of Fast.",
           1183
          ],
          [
           "Getting Things Done: The Art of Stress-Free Productivity",
           7156
          ],
          [
           "It's Not Supposed to Be This Way",
           17754
          ],
          [
           "Money: Master the Game: 7 Simple Steps to Financial Freedom",
           11580
          ],
          [
           "Do It For Yourself (Guided Journal): A Motivational Journal (Start Before You’re Ready)",
           1542
          ],
          [
           "The Power of Your Subconscious Mind",
           69015
          ],
          [
           "Captivating Expanded Edition: Unveiling the Mystery of a Woman's Soul",
           3665
          ],
          [
           "Winning: The Unforgiving Race to Greatness",
           3326
          ],
          [
           "Becoming",
           140084
          ],
          [
           "33 Strategies of War",
           4075
          ],
          [
           "Discipline Equals Freedom: Field Manual Mk1-MOD1",
           6307
          ],
          [
           "What Every BODY Is Saying: An Ex-FBI Agent’s Guide to Speed-Reading People",
           11930
          ],
          [
           "Magic Words",
           9
          ],
          [
           "Find Your People: Building Deep Community in a Lonely World",
           2741
          ],
          [
           "The Choice: Escaping the Past and Embracing the Possible",
           24332
          ],
          [
           "The Speed of Trust: The One Thing that Changes Everything",
           3510
          ],
          [
           "How to Starve Cancer: ...and Then Kill It With Ferroptosis",
           559
          ],
          [
           "Leadership Strategy and Tactics: Field Manual",
           7129
          ],
          [
           "The Life-Changing Magic of Tidying Up: The Japanese Art of Decluttering and Organizing",
           34155
          ],
          [
           "How to Be Love(d): Simple Truths for Going Easier on Yourself, Embracing Imperfection & Loving Your Way to a Better Life",
           122
          ],
          [
           "Rising Strong: How the Ability to Reset Transforms the Way We Live, Love, Parent, and Lead",
           8380
          ],
          [
           "Men's Work: A Practical Guide to Face Your Darkness, End Self-Sabotage, and Find Freedom",
           44
          ],
          [
           "Psycho-Cybernetics: Updated and Expanded",
           1346
          ],
          [
           "Us: Getting Past You and Me to Build a More Loving Relationship",
           626
          ],
          [
           "The Daily Laws: 366 Meditations on Power, Seduction, Mastery, Strategy, and Human Nature",
           2786
          ],
          [
           "Allen Carr's Easy Way to Quit Smoking",
           2559
          ],
          [
           "The Swedish Art of Aging Exuberantly: Life Wisdom from Someone Who Will (Probably) Die Before You",
           232
          ],
          [
           "Self-Care for Black Women: 150 Ways to Radically Accept & Prioritize Your Mind, Body, & Soul",
           481
          ],
          [
           "Inquebrantables (Spanish Edition)",
           12229
          ],
          [
           "The Hard Thing About Hard Things: Building a Business When There Are No Easy Answers",
           7591
          ],
          [
           "I Thought It Was Just Me (but it isn’t): Telling the Truth about Perfectionism, Inadequacy, and Power",
           6043
          ],
          [
           "The Body Is Not an Apology, Second Edition: The Power of Radical Self-Love",
           3002
          ],
          [
           "Lifting Heavy Things: Healing Trauma One Rep at a Time",
           139
          ],
          [
           "The Big Leap",
           5943
          ],
          [
           "Tiny Habits: The Small Changes That Change Everything",
           5619
          ],
          [
           "Stillness Is the Key",
           6915
          ],
          [
           "It Takes What It Takes: How to Think Neutrally and Gain Control of Your Life",
           1383
          ],
          [
           "The Home Edit: A Guide to Organizing and Realizing Your House Goals (Includes Refrigerator Labels Download)",
           14029
          ],
          [
           "Self-Care for People with ADHD: 100+ Ways to Recharge, De-Stress, and Prioritize You!",
           134
          ],
          [
           "Loving What Is, Revised Edition: Four Questions That Can Change Your Life",
           438
          ],
          [
           "The Power to Change Workbook: Mastering the Habits That Matter Most",
           4
          ],
          [
           "Drive: The Surprising Truth About What Motivates Us",
           6810
          ],
          [
           "Better Small Talk: Talk to Anyone, Avoid Awkwardness, Generate Deep Conversations, and Make Real Friends",
           1284
          ],
          [
           "Cursive handwriting workbook for Adults: Learn to write in Cursive, Improve your writing skills & practice penmanship for adults (Master Print and Cursive Writing Penmanship for Adults)",
           2336
          ],
          [
           "Big Magic: Creative Living Beyond Fear",
           14829
          ],
          [
           "Tattoos on the Heart: The Power of Boundless Compassion",
           5652
          ],
          [
           "Daily Devotions from Psalms: 365 Daily Inspirations",
           212
          ],
          [
           "Radical Remission: Surviving Cancer Against All Odds",
           2945
          ],
          [
           "Awaken the Giant Within",
           8221
          ],
          [
           "Can't Hurt Me: Master Your Mind and Defy the Odds - Clean Edition",
           9759
          ],
          [
           "Overcomer: 8 Ways to Live a Life of Unstoppable Strength, Unmovable Faith, and Unbelievable Power",
           1645
          ],
          [
           "Courage Is Calling: Fortune Favors the Brave",
           3502
          ],
          [
           "Cómo ganar amigos e influir sobre las personas [How to Win Friends and Influence People]",
           3680
          ],
          [
           "Twenty-Four Hours a Day",
           4668
          ],
          [
           "The Gift: 14 Lessons to Save Your Life",
           4633
          ],
          [
           "How to Stop Worrying and Start Living: Time-Tested Methods for Conquering Worry",
           23832
          ],
          [
           "Own Your Past Change Your Future: A Not-So-Complicated Approach to Relationships, Mental Health & Wellness",
           585
          ],
          [
           "Permission to Live Free: Living the Life God Created You For",
           24
          ],
          [
           "Home Therapy: Interior Design for Increasing Happiness, Boosting Confidence, and Creating Calm: An Interior Design Book",
           112
          ],
          [
           "Chicken Soup for the Soul: Laughter Is the Best Medicine: 101 Feel Good Stories",
           1606
          ],
          [
           "The Power of Now: A Guide to Spiritual Enlightenment",
           49201
          ],
          [
           "The Subtle Art of Not Giving a F*ck Journal",
           380
          ],
          [
           "The Artist's Way Starter Kit",
           1960
          ],
          [
           "Change Starts with You: Following Your Fire to Heal a Broken World",
           4
          ],
          [
           "CSB Study Bible For Women, Teal Flowers LeatherTouch, Indexed, Black Letter, Study Notes and Commentary, Articles, Profiles, Word Studies, Charts, Full-Color Maps, Easy-to-Read Bible Serif Type",
           1202
          ],
          [
           "The Home Edit Life: The No-Guilt Guide to Owning What You Want and Organizing Everything",
           13070
          ],
          [
           "All Along You Were Blooming: Thoughts for Boundless Living (A Collection of Poetry)",
           3902
          ]
         ],
         "hovertemplate": "price=%{x}<br>rating=%{y}<br>title=%{customdata[0]}<br>number of reviews=%{customdata[1]}<extra></extra>",
         "legendgroup": "",
         "marker": {
          "color": "rgb(252,163,17)",
          "symbol": "circle"
         },
         "mode": "markers",
         "name": "",
         "orientation": "v",
         "showlegend": false,
         "type": "scatter",
         "x": [
          16,
          0,
          0,
          22,
          0,
          0,
          0,
          9,
          0,
          11,
          9,
          14,
          12,
          0,
          0,
          0,
          0,
          13,
          14,
          0,
          12,
          21,
          0,
          12,
          8,
          8,
          0,
          14,
          0,
          0,
          23,
          0,
          0,
          0,
          22,
          0,
          0,
          0,
          12,
          14,
          22,
          0,
          0,
          0,
          15,
          0,
          12,
          0,
          11,
          17,
          14,
          0,
          0,
          12,
          0,
          11,
          17,
          7,
          6,
          0,
          0,
          14,
          11,
          9,
          13,
          5,
          0,
          0,
          0,
          0,
          0,
          5,
          0,
          12,
          26,
          0,
          21,
          0,
          18,
          0,
          0,
          0,
          16,
          17,
          0,
          0,
          0,
          0,
          0,
          13,
          0,
          0,
          0,
          0,
          0,
          8,
          5,
          0,
          13,
          7,
          14,
          0,
          9,
          0,
          0,
          0,
          20,
          0,
          0,
          0,
          0,
          0,
          16,
          0,
          0,
          0,
          0,
          0,
          0,
          15,
          0,
          18,
          0,
          0,
          0,
          13,
          10,
          0,
          0,
          0,
          0,
          0,
          0,
          0,
          14,
          0,
          19,
          17,
          9,
          13,
          42,
          10,
          0,
          0,
          0,
          15,
          5,
          12,
          0,
          0,
          0,
          18,
          0,
          28,
          0,
          0,
          0,
          18,
          0,
          0,
          0,
          0,
          0,
          0,
          0,
          0,
          0,
          0,
          11,
          9,
          0,
          0,
          0,
          0,
          0,
          12,
          0,
          0,
          0,
          0,
          14,
          17,
          0,
          0,
          5,
          0,
          11,
          16,
          14,
          0,
          21,
          0,
          0,
          0,
          13,
          0,
          0,
          0,
          25,
          26,
          8,
          0,
          12,
          30,
          0,
          53,
          14,
          11
         ],
         "xaxis": "x",
         "y": [
          4.9,
          4.6,
          4.8,
          4.8,
          4.7,
          4.5,
          4.5,
          4.6,
          4.7,
          4.7,
          4.6,
          4.7,
          4.5,
          4.8,
          4.8,
          4.7,
          4.7,
          4.7,
          4.8,
          4.8,
          4.8,
          4.5,
          4.6,
          4.8,
          4.3,
          4.6,
          4.8,
          4.7,
          4.7,
          4.8,
          4.6,
          4.7,
          4.8,
          4.8,
          4.8,
          4.6,
          4.6,
          4.8,
          4.6,
          4.8,
          5,
          4.6,
          4.6,
          4.3,
          4.6,
          4.7,
          4.8,
          4.7,
          4.8,
          4.6,
          4.8,
          4.8,
          4.9,
          4.9,
          4.6,
          4.8,
          4.7,
          4.6,
          4.5,
          4.6,
          4.8,
          4.6,
          4.7,
          4.8,
          4.8,
          4.6,
          4.9,
          4.7,
          4.6,
          4.8,
          4.8,
          4.6,
          4.7,
          4.9,
          5,
          4.5,
          4.8,
          4.8,
          4.6,
          4.8,
          4.9,
          4.8,
          4.7,
          4.6,
          4.7,
          4.7,
          4.7,
          4.7,
          4.6,
          4.8,
          4.7,
          4.6,
          4.7,
          4.8,
          4.8,
          4.7,
          4.7,
          4.8,
          4.7,
          4.6,
          4.8,
          4.7,
          4.6,
          4.6,
          4.8,
          4.6,
          4.8,
          4.7,
          4.8,
          4.6,
          4.7,
          4.9,
          4.6,
          4.7,
          4.6,
          4.5,
          4.8,
          4.9,
          4.8,
          4.8,
          4.7,
          4.8,
          4.5,
          4.5,
          4.4,
          4.7,
          4.6,
          4.7,
          4.6,
          4.5,
          4.7,
          4.7,
          4.7,
          4.5,
          4.8,
          4.8,
          4.9,
          4.4,
          4.8,
          4.6,
          4.9,
          4.7,
          4.5,
          4.8,
          4.6,
          4.7,
          4.6,
          4.7,
          4.8,
          4.8,
          4.8,
          4.8,
          4.6,
          4.1,
          4.7,
          4.8,
          4.6,
          4.6,
          4.9,
          4.5,
          4.7,
          4.8,
          4.7,
          4.7,
          4.6,
          4.8,
          4.5,
          4.1,
          4.8,
          4.8,
          4.6,
          4.7,
          4.8,
          4.6,
          4.6,
          4.6,
          4.7,
          4.6,
          4.7,
          4.7,
          4.6,
          5,
          4.5,
          4.4,
          4.6,
          4.6,
          4.7,
          4.8,
          4.7,
          4.6,
          4.8,
          4.8,
          4.6,
          4.8,
          4.8,
          4.8,
          4.6,
          4.8,
          4.9,
          4.6,
          4.7,
          4.7,
          4.7,
          4.8,
          4.7,
          4.9,
          4.8,
          4.8
         ],
         "yaxis": "y"
        }
       ],
       "layout": {
        "autosize": true,
        "font": {
         "size": 18
        },
        "legend": {
         "tracegroupgap": 0
        },
        "margin": {
         "t": 60
        },
        "template": {
         "data": {
          "bar": [
           {
            "error_x": {
             "color": "#2a3f5f"
            },
            "error_y": {
             "color": "#2a3f5f"
            },
            "marker": {
             "line": {
              "color": "#E5ECF6",
              "width": 0.5
             },
             "pattern": {
              "fillmode": "overlay",
              "size": 10,
              "solidity": 0.2
             }
            },
            "type": "bar"
           }
          ],
          "barpolar": [
           {
            "marker": {
             "line": {
              "color": "#E5ECF6",
              "width": 0.5
             },
             "pattern": {
              "fillmode": "overlay",
              "size": 10,
              "solidity": 0.2
             }
            },
            "type": "barpolar"
           }
          ],
          "carpet": [
           {
            "aaxis": {
             "endlinecolor": "#2a3f5f",
             "gridcolor": "white",
             "linecolor": "white",
             "minorgridcolor": "white",
             "startlinecolor": "#2a3f5f"
            },
            "baxis": {
             "endlinecolor": "#2a3f5f",
             "gridcolor": "white",
             "linecolor": "white",
             "minorgridcolor": "white",
             "startlinecolor": "#2a3f5f"
            },
            "type": "carpet"
           }
          ],
          "choropleth": [
           {
            "colorbar": {
             "outlinewidth": 0,
             "ticks": ""
            },
            "type": "choropleth"
           }
          ],
          "contour": [
           {
            "colorbar": {
             "outlinewidth": 0,
             "ticks": ""
            },
            "colorscale": [
             [
              0,
              "#0d0887"
             ],
             [
              0.1111111111111111,
              "#46039f"
             ],
             [
              0.2222222222222222,
              "#7201a8"
             ],
             [
              0.3333333333333333,
              "#9c179e"
             ],
             [
              0.4444444444444444,
              "#bd3786"
             ],
             [
              0.5555555555555556,
              "#d8576b"
             ],
             [
              0.6666666666666666,
              "#ed7953"
             ],
             [
              0.7777777777777778,
              "#fb9f3a"
             ],
             [
              0.8888888888888888,
              "#fdca26"
             ],
             [
              1,
              "#f0f921"
             ]
            ],
            "type": "contour"
           }
          ],
          "contourcarpet": [
           {
            "colorbar": {
             "outlinewidth": 0,
             "ticks": ""
            },
            "type": "contourcarpet"
           }
          ],
          "heatmap": [
           {
            "colorbar": {
             "outlinewidth": 0,
             "ticks": ""
            },
            "colorscale": [
             [
              0,
              "#0d0887"
             ],
             [
              0.1111111111111111,
              "#46039f"
             ],
             [
              0.2222222222222222,
              "#7201a8"
             ],
             [
              0.3333333333333333,
              "#9c179e"
             ],
             [
              0.4444444444444444,
              "#bd3786"
             ],
             [
              0.5555555555555556,
              "#d8576b"
             ],
             [
              0.6666666666666666,
              "#ed7953"
             ],
             [
              0.7777777777777778,
              "#fb9f3a"
             ],
             [
              0.8888888888888888,
              "#fdca26"
             ],
             [
              1,
              "#f0f921"
             ]
            ],
            "type": "heatmap"
           }
          ],
          "heatmapgl": [
           {
            "colorbar": {
             "outlinewidth": 0,
             "ticks": ""
            },
            "colorscale": [
             [
              0,
              "#0d0887"
             ],
             [
              0.1111111111111111,
              "#46039f"
             ],
             [
              0.2222222222222222,
              "#7201a8"
             ],
             [
              0.3333333333333333,
              "#9c179e"
             ],
             [
              0.4444444444444444,
              "#bd3786"
             ],
             [
              0.5555555555555556,
              "#d8576b"
             ],
             [
              0.6666666666666666,
              "#ed7953"
             ],
             [
              0.7777777777777778,
              "#fb9f3a"
             ],
             [
              0.8888888888888888,
              "#fdca26"
             ],
             [
              1,
              "#f0f921"
             ]
            ],
            "type": "heatmapgl"
           }
          ],
          "histogram": [
           {
            "marker": {
             "pattern": {
              "fillmode": "overlay",
              "size": 10,
              "solidity": 0.2
             }
            },
            "type": "histogram"
           }
          ],
          "histogram2d": [
           {
            "colorbar": {
             "outlinewidth": 0,
             "ticks": ""
            },
            "colorscale": [
             [
              0,
              "#0d0887"
             ],
             [
              0.1111111111111111,
              "#46039f"
             ],
             [
              0.2222222222222222,
              "#7201a8"
             ],
             [
              0.3333333333333333,
              "#9c179e"
             ],
             [
              0.4444444444444444,
              "#bd3786"
             ],
             [
              0.5555555555555556,
              "#d8576b"
             ],
             [
              0.6666666666666666,
              "#ed7953"
             ],
             [
              0.7777777777777778,
              "#fb9f3a"
             ],
             [
              0.8888888888888888,
              "#fdca26"
             ],
             [
              1,
              "#f0f921"
             ]
            ],
            "type": "histogram2d"
           }
          ],
          "histogram2dcontour": [
           {
            "colorbar": {
             "outlinewidth": 0,
             "ticks": ""
            },
            "colorscale": [
             [
              0,
              "#0d0887"
             ],
             [
              0.1111111111111111,
              "#46039f"
             ],
             [
              0.2222222222222222,
              "#7201a8"
             ],
             [
              0.3333333333333333,
              "#9c179e"
             ],
             [
              0.4444444444444444,
              "#bd3786"
             ],
             [
              0.5555555555555556,
              "#d8576b"
             ],
             [
              0.6666666666666666,
              "#ed7953"
             ],
             [
              0.7777777777777778,
              "#fb9f3a"
             ],
             [
              0.8888888888888888,
              "#fdca26"
             ],
             [
              1,
              "#f0f921"
             ]
            ],
            "type": "histogram2dcontour"
           }
          ],
          "mesh3d": [
           {
            "colorbar": {
             "outlinewidth": 0,
             "ticks": ""
            },
            "type": "mesh3d"
           }
          ],
          "parcoords": [
           {
            "line": {
             "colorbar": {
              "outlinewidth": 0,
              "ticks": ""
             }
            },
            "type": "parcoords"
           }
          ],
          "pie": [
           {
            "automargin": true,
            "type": "pie"
           }
          ],
          "scatter": [
           {
            "fillpattern": {
             "fillmode": "overlay",
             "size": 10,
             "solidity": 0.2
            },
            "type": "scatter"
           }
          ],
          "scatter3d": [
           {
            "line": {
             "colorbar": {
              "outlinewidth": 0,
              "ticks": ""
             }
            },
            "marker": {
             "colorbar": {
              "outlinewidth": 0,
              "ticks": ""
             }
            },
            "type": "scatter3d"
           }
          ],
          "scattercarpet": [
           {
            "marker": {
             "colorbar": {
              "outlinewidth": 0,
              "ticks": ""
             }
            },
            "type": "scattercarpet"
           }
          ],
          "scattergeo": [
           {
            "marker": {
             "colorbar": {
              "outlinewidth": 0,
              "ticks": ""
             }
            },
            "type": "scattergeo"
           }
          ],
          "scattergl": [
           {
            "marker": {
             "colorbar": {
              "outlinewidth": 0,
              "ticks": ""
             }
            },
            "type": "scattergl"
           }
          ],
          "scattermapbox": [
           {
            "marker": {
             "colorbar": {
              "outlinewidth": 0,
              "ticks": ""
             }
            },
            "type": "scattermapbox"
           }
          ],
          "scatterpolar": [
           {
            "marker": {
             "colorbar": {
              "outlinewidth": 0,
              "ticks": ""
             }
            },
            "type": "scatterpolar"
           }
          ],
          "scatterpolargl": [
           {
            "marker": {
             "colorbar": {
              "outlinewidth": 0,
              "ticks": ""
             }
            },
            "type": "scatterpolargl"
           }
          ],
          "scatterternary": [
           {
            "marker": {
             "colorbar": {
              "outlinewidth": 0,
              "ticks": ""
             }
            },
            "type": "scatterternary"
           }
          ],
          "surface": [
           {
            "colorbar": {
             "outlinewidth": 0,
             "ticks": ""
            },
            "colorscale": [
             [
              0,
              "#0d0887"
             ],
             [
              0.1111111111111111,
              "#46039f"
             ],
             [
              0.2222222222222222,
              "#7201a8"
             ],
             [
              0.3333333333333333,
              "#9c179e"
             ],
             [
              0.4444444444444444,
              "#bd3786"
             ],
             [
              0.5555555555555556,
              "#d8576b"
             ],
             [
              0.6666666666666666,
              "#ed7953"
             ],
             [
              0.7777777777777778,
              "#fb9f3a"
             ],
             [
              0.8888888888888888,
              "#fdca26"
             ],
             [
              1,
              "#f0f921"
             ]
            ],
            "type": "surface"
           }
          ],
          "table": [
           {
            "cells": {
             "fill": {
              "color": "#EBF0F8"
             },
             "line": {
              "color": "white"
             }
            },
            "header": {
             "fill": {
              "color": "#C8D4E3"
             },
             "line": {
              "color": "white"
             }
            },
            "type": "table"
           }
          ]
         },
         "layout": {
          "annotationdefaults": {
           "arrowcolor": "#2a3f5f",
           "arrowhead": 0,
           "arrowwidth": 1
          },
          "autotypenumbers": "strict",
          "coloraxis": {
           "colorbar": {
            "outlinewidth": 0,
            "ticks": ""
           }
          },
          "colorscale": {
           "diverging": [
            [
             0,
             "#8e0152"
            ],
            [
             0.1,
             "#c51b7d"
            ],
            [
             0.2,
             "#de77ae"
            ],
            [
             0.3,
             "#f1b6da"
            ],
            [
             0.4,
             "#fde0ef"
            ],
            [
             0.5,
             "#f7f7f7"
            ],
            [
             0.6,
             "#e6f5d0"
            ],
            [
             0.7,
             "#b8e186"
            ],
            [
             0.8,
             "#7fbc41"
            ],
            [
             0.9,
             "#4d9221"
            ],
            [
             1,
             "#276419"
            ]
           ],
           "sequential": [
            [
             0,
             "#0d0887"
            ],
            [
             0.1111111111111111,
             "#46039f"
            ],
            [
             0.2222222222222222,
             "#7201a8"
            ],
            [
             0.3333333333333333,
             "#9c179e"
            ],
            [
             0.4444444444444444,
             "#bd3786"
            ],
            [
             0.5555555555555556,
             "#d8576b"
            ],
            [
             0.6666666666666666,
             "#ed7953"
            ],
            [
             0.7777777777777778,
             "#fb9f3a"
            ],
            [
             0.8888888888888888,
             "#fdca26"
            ],
            [
             1,
             "#f0f921"
            ]
           ],
           "sequentialminus": [
            [
             0,
             "#0d0887"
            ],
            [
             0.1111111111111111,
             "#46039f"
            ],
            [
             0.2222222222222222,
             "#7201a8"
            ],
            [
             0.3333333333333333,
             "#9c179e"
            ],
            [
             0.4444444444444444,
             "#bd3786"
            ],
            [
             0.5555555555555556,
             "#d8576b"
            ],
            [
             0.6666666666666666,
             "#ed7953"
            ],
            [
             0.7777777777777778,
             "#fb9f3a"
            ],
            [
             0.8888888888888888,
             "#fdca26"
            ],
            [
             1,
             "#f0f921"
            ]
           ]
          },
          "colorway": [
           "#636efa",
           "#EF553B",
           "#00cc96",
           "#ab63fa",
           "#FFA15A",
           "#19d3f3",
           "#FF6692",
           "#B6E880",
           "#FF97FF",
           "#FECB52"
          ],
          "font": {
           "color": "#2a3f5f"
          },
          "geo": {
           "bgcolor": "white",
           "lakecolor": "white",
           "landcolor": "#E5ECF6",
           "showlakes": true,
           "showland": true,
           "subunitcolor": "white"
          },
          "hoverlabel": {
           "align": "left"
          },
          "hovermode": "closest",
          "mapbox": {
           "style": "light"
          },
          "paper_bgcolor": "white",
          "plot_bgcolor": "#E5ECF6",
          "polar": {
           "angularaxis": {
            "gridcolor": "white",
            "linecolor": "white",
            "ticks": ""
           },
           "bgcolor": "#E5ECF6",
           "radialaxis": {
            "gridcolor": "white",
            "linecolor": "white",
            "ticks": ""
           }
          },
          "scene": {
           "xaxis": {
            "backgroundcolor": "#E5ECF6",
            "gridcolor": "white",
            "gridwidth": 2,
            "linecolor": "white",
            "showbackground": true,
            "ticks": "",
            "zerolinecolor": "white"
           },
           "yaxis": {
            "backgroundcolor": "#E5ECF6",
            "gridcolor": "white",
            "gridwidth": 2,
            "linecolor": "white",
            "showbackground": true,
            "ticks": "",
            "zerolinecolor": "white"
           },
           "zaxis": {
            "backgroundcolor": "#E5ECF6",
            "gridcolor": "white",
            "gridwidth": 2,
            "linecolor": "white",
            "showbackground": true,
            "ticks": "",
            "zerolinecolor": "white"
           }
          },
          "shapedefaults": {
           "line": {
            "color": "#2a3f5f"
           }
          },
          "ternary": {
           "aaxis": {
            "gridcolor": "white",
            "linecolor": "white",
            "ticks": ""
           },
           "baxis": {
            "gridcolor": "white",
            "linecolor": "white",
            "ticks": ""
           },
           "bgcolor": "#E5ECF6",
           "caxis": {
            "gridcolor": "white",
            "linecolor": "white",
            "ticks": ""
           }
          },
          "title": {
           "x": 0.05
          },
          "xaxis": {
           "automargin": true,
           "gridcolor": "white",
           "linecolor": "white",
           "ticks": "",
           "title": {
            "standoff": 15
           },
           "zerolinecolor": "white",
           "zerolinewidth": 2
          },
          "yaxis": {
           "automargin": true,
           "gridcolor": "white",
           "linecolor": "white",
           "ticks": "",
           "title": {
            "standoff": 15
           },
           "zerolinecolor": "white",
           "zerolinewidth": 2
          }
         }
        },
        "title": {
         "text": "Price vs. Rating Scatter Plot"
        },
        "xaxis": {
         "anchor": "y",
         "autorange": true,
         "domain": [
          0,
          1
         ],
         "range": [
          -3.815581854043393,
          56.815581854043394
         ],
         "title": {
          "text": "Price"
         },
         "type": "linear"
        },
        "yaxis": {
         "anchor": "x",
         "autorange": true,
         "domain": [
          0,
          1
         ],
         "range": [
          4.030314960629921,
          5.0696850393700785
         ],
         "title": {
          "text": "Rating"
         },
         "type": "linear"
        }
       }
      },
      "image/png": "[encoded data removed]",
      "text/html": [
       "<div>                            <div id=\"d7aa36e8-afbb-442e-9b8d-1328198cfe79\" class=\"plotly-graph-div\" style=\"height:525px; width:100%;\"></div>            <script type=\"text/javascript\">                require([\"plotly\"], function(Plotly) {                    window.PLOTLYENV=window.PLOTLYENV || {};                                    if (document.getElementById(\"d7aa36e8-afbb-442e-9b8d-1328198cfe79\")) {                    Plotly.newPlot(                        \"d7aa36e8-afbb-442e-9b8d-1328198cfe79\",                        [{\"customdata\":[[\"The Greatness Mindset: Unlock the Power of Your Mind and Live Your Best Life Today\",84],[\"The Subtle Art of Not Giving a F*ck: A Counterintuitive Approach to Living a Good Life\",102446],[\"Can't Hurt Me: Master Your Mind and Defy the Odds\",70998],[\"The Mountain Is You: Transforming Self-Sabotage Into Self-Mastery\",11777],[\"Think and Grow Rich: 1937 Edition\",88390],[\"The Tools: Transform Your Problems into Courage, Confidence, and Creativity\",1992],[\"Enchantment: Awakening Wonder in an Anxious Age\",36],[\"Badass Affirmations: The Wit and Wisdom of Wild Women (Inspirational Quotes for Women, Book Gift for Women, Powerful Affirmations)\",7010],[\"Breaking the Habit of Being Yourself\",13357],[\"Make Your Bed: Little Things That Can Change Your Life...And Maybe the World\",33052],[\"The Power of Positive Thinking\",16751],[\"The Artist's Way: 30th Anniversary Edition\",7081],[\"Allen Carr's Easy Way To Stop Smoking\",6276],[\"Never Finished: Unshackle Your Mind and Win the War Within\",4575],[\"The Answer to Anxiety: How to Break Free from the Tyranny of Anxious Thoughts and Worry\",110],[\"The Gifts of Imperfection, 10th Anniversary Edition: Features a New Foreword\",32193],[\"You Are a Badass at Making Money: Master the Mindset of Wealth\",6640],[\"The Tibetan Book of Living and Dying: The Spiritual Classic & International Bestseller: 25th Anniversary Edition\",2752],[\"The Everyday Warrior: A No-Hack, Practical Approach to Life\",29],[\"Think Like a Monk: Train Your Mind for Peace and Purpose Every Day\",32233],[\"More Than a Little\",353],[\"The Official Walt Disney Quote Book: Over 300 Quotes with Newly Researched and Assembled Material by the Staff of the Walt Disney Archives (Disney Editions Deluxe)\",7],[\"Who Moved My Cheese?: An A-Mazing Way to Deal with Change in Your Work and in Your Life\",21410],[\"El poder de creer en ti: 9 pasos para aumentar tu autoestima, vencer tus miedos y aprender a quererte (Tu mejor versi\\u00f3n) (Spanish Edition)\",736],[\"EL PODER DEL PENSAMIENTO POSITIVO: La importancia del impacto que tienen los pensamientos en nuestra vida (Spanish Edition)\",1104],[\"The Blue Zones, Second Edition: 9 Lessons for Living Longer From the People Who've Lived the Longest\",2746],[\"Speak: Find Your Voice, Trust Your Gut, and Get from Where You Are to Where You Want to Be\",1083],[\"There's A Hole In My Love Cup: The Badass Counseling\\u00ae Method For Healing The Soul And Unleashing Greatness\",863],[\"The Monk Who Sold His Ferrari: A Spiritual Fable About Fulfilling Your Dreams & Reaching Your Destiny\",12088],[\"Holy Moments: A Handbook for the Rest of Your Life\",113],[\"Influence: The Psychology of Persuasion, Revised Edition\",11133],[\"The Universe Has Your Back: Transform Fear into Faith\",8382],[\"Undistracted: Capture Your Purpose. Rediscover Your Joy.\",1425],[\"We Should All Be Millionaires: A Woman\\u2019s Guide to Earning More, Building Wealth, and Gaining Economic Power\",2242],[\"100 Deadly Skills: COMBAT EDITION: A Navy SEAL's Guide to Crushing Your Enemy, Fighting for Your Life, and Embracing Your Inner Badass\",2045],[\"The New One Minute Manager\",3706],[\"Love After Heartbreak: Volume I\",3415],[\"Dear Body: What I Lost, What I Gained, and What I Learned Along the Way\",82],[\"Your Greatest Power\",163],[\"Live in Grace, Walk in Love: A 365-Day Journey\",4955],[\"52 Modern Manners for Today's Teens (2)\",154],[\"The Comfort Book\",2355],[\"Everything Is F*cked: A Book About Hope\",9888],[\"Dopamine Detox: A Short Guide to Remove Distractions and Get Your Brain to Do Hard Things (Productivity Series, Book 1)\",3834],[\"Homecoming: Reclaiming and Championing Your Inner Child\",2309],[\"Tools of Titans: The Tactics, Routines, and Habits of Billionaires, Icons, and World-Class Performers\",9134],[\"The Four Agreements Companion Book: Using the Four Agreements to Master the Dream of Your Life (Toltec Wisdom)\",1912],[\"The Law of Attraction: The Basics of the Teachings of Abraham\",5792],[\"WHO MOVED MY CHEESE S.S.\",645],[\"The Empowered Wife, Updated and Expanded Edition: Six Surprising Secrets for Attracting Your Husband's Time, Attention, and Affection\",1598],[\"The Journey: Big Panda and Tiny Dragon\",279],[\"Closer to Love: How to Attract the Right Relationships and Deepen Your Connections\",24],[\"When Women Pray: 10 Women of the Bible Who Changed the World Through Prayer\",9459],[\"Finding Muchness: How to Add More Life to Life\",485],[\"Made to Stick: Why Some Ideas Survive and Others Die\",4060],[\"Jonah: Navigating a Life Interrupted (Bible Study Book)\",1455],[\"The Honest Mom Journal: The struggling moms guide to struggling less. A daily guided journal for moms facing mental health struggles, depression & ... A journal, diary, for stressed out mothers.\",91],[\"The Little Book Of Daily Sunshine: Bite-Sized Inspiration To Light Up Your Day\",306],[\"Motivational Swear Word Coloring Book For Adult: Inspirational Color Pages for Stress Relief and Relaxation | You Funking Got This Coloring pages | ... Man and Women for Gift Birthday and Christmas\",361],[\"QBQ! The Question Behind the Question: Practicing Personal Accountability at Work and in Life\",2973],[\"Welcome Home: A Guide to Building a Home for Your Soul\",2396],[\"Gratitude Journal for Men: A Daily 5 Minute Guide for Mindfulness, Positivity, Leadership and Self Care (Premium Keepsake Edition)\",263],[\"Gratitude Journal for Women: A Daily 5 Minute Guide for Mindfulness, Positivity, Affirmation and Self Care (Premium Keepsake Edition)\",1820],[\"How Full Is Your Bucket? For Kids\",2630],[\"Mirror Work: 21 Days to Heal Your Life\",2213],[\"The 7 Habits of Highly Effective Teens Workbook\",1762],[\"Good Morning, Holy Spirit\",3632],[\"Single on Purpose: Redefine Everything. Find Yourself First.\",1988],[\"How Will You Measure Your Life?\",4401],[\"The Power\",9586],[\"Loving People Who Are Hard to Love: Transforming Your World by Learning to Love Unconditionally\",328],[\"Inspirational Coloring Book For Adults: 50 Motivational Quotes For Good Vibes, Positive Affirmations and Stress Relaxation\",1053],[\"Manifest: 7 Steps to Living Your Best Life\",2291],[\"A F*cking 2023 Wall Calendar: Get Your Sh*t Together This Year (Funny Monthly Calendar with Stickers, White Elephant Gag Gift for Adults) (Calendars & Gifts to Swear By)\",5063],[\"Inteligencia Emocional: 4 Libros en 1: La Gu\\u00eda Completa Para Aprender Autodisciplina, Inteligencia Emocional, Psicolog\\u00eda Oscura y Manipulaci\\u00f3n. Domina ... Las Creencias Negativas. (Spanish Edition)\",1648],[\"My What If Year: A Memoir\",71],[\"CSB Apologetics Study Bible, Gray Hardcover, Black Letter, Black Letter, Defend Your Faith, Study Notes and Commentary, Articles, Profiles, Full-Color Maps, Easy-to-Read Bible Serif Type\",845],[\"The Game of Life and How to Play It\",1596],[\"In My Feels: How to Feel God When I'm Not Feeling It\",13],[\"Set Boundaries, Find Peace: A Guide to Reclaiming Yourself\",7977],[\"The Power to Change: Mastering the Habits That Matter Most\",95],[\"Forgiving What You Can't Forget: Discover How to Move On, Make Peace with Painful Memories, and Create a Life That's Beautiful Again\",20736],[\"The Book of Awakening: Having the Life You Want by Being Present to the Life You Have (20th Anniversary Edition)\",4162],[\"The Power of Discipline: How to Use Self Control and Mental Toughness to Achieve Your Goals\",3254],[\"Discipline Is Destiny: The Power of Self-Control\",1195],[\"The Obstacle Is the Way: The Timeless Art of Turning Trials into Triumph\",17569],[\"Get Out of Your Head: Stopping the Spiral of Toxic Thoughts\",22012],[\"The Urgent Life: My Story of Love, Loss, and Survival\",128],[\"The Secret\",40513],[\"Heal. Grow. Love: Words to Help You Become\",838],[\"Relentless: From Good to Great to Unstoppable\",9791],[\"Grit: The Power of Passion and Perseverance\",14458],[\"You Are a Badass\\u00ae: How to Stop Doubting Your Greatness and Start Living an Awesome Life\",37682],[\"The Laws of Human Nature\",11434],[\"The Power of One More: The Ultimate Guide to Happiness and Success\",4142],[\"You Can Heal Your Life\",13352],[\"As a man Thinketh: The Original 1902 Edition (The Wisdom Of James Allen)\",5138],[\"The Magic of Thinking Big\",13534],[\"The Sadness Book - A Journal To Let Go\",974],[\"Burn After Writing (Pink)\",83350],[\"Glass Hearts and Broken Promises\",147],[\"Getting to Neutral: How to Conquer Negativity and Thrive in a Chaotic World\",165],[\"The 7 Habits of Highly Effective Teens\",12578],[\"The Miracle Morning: The Not-So-Obvious Secret Guaranteed to Transform Your Life - Before 8AM\",24182],[\"The Mastery of Love: A Practical Guide to the Art of Relationship\",14672],[\"Hold Me Tight: Seven Conversations for a Lifetime of Love\",4723],[\"Never Finished: Unshackle Your Mind and Win the War Within - Clean Edition\",470],[\"Limitless: Upgrade Your Brain, Learn Anything Faster, and Unlock Your Exceptional Life\",17024],[\"The Comfort Crisis: Embrace Discomfort to Reclaim Your Wild, Happy, Healthy Self\",3367],[\"Essentialism: The Disciplined Pursuit of Less\",13340],[\"Power vs. Force: The Hidden Determinants of Human Behavior\",4956],[\"You Owe You: Ignite Your Power, Your Purpose, and Your Why\",913],[\"RUGE: O espera a ser devorado (Spanish Edition)\",16],[\"Letting Go: The Pathway of Surrender\",7540],[\"Master Your Emotions: A Practical Guide to Overcome Negativity and Better Manage Your Feelings\",8835],[\"The Sunshine Mind: 100 Days to Finding the Hope and Joy You Want\",65],[\"Tuesdays with Morrie: 20th Anniversary Edition\",25656],[\"Push Off from Here: Nine Essential Truths to Get You Through Sobriety (and Everything Else)\",22],[\"Los cuatro acuerdos (Narraci\\u00f3n en Castellano) [The Four Agreements (Castilian Narration)]: Una gu\\u00eda pr\\u00e1ctica para la libertad personal [A Practical Guide for Personal Freedom]\",12260],[\"Outwitting the Devil: The Secrets to Freedom and Success (Official Publication of the Napoleon Hill Foundation)\",3607],[\"Unfu*k Yourself: Get Out of Your Head and into Your Life\",21199],[\"Cooking from the Spirit: Easy, Delicious, and Joyful Plant-Based Inspirations\",1236],[\"Allen Carr's Quit Drinking Without Willpower: Be a Happy Non-Drinker\",1882],[\"The Courage to Be Disliked: How to Free Yourself, Change Your Life, and Achieve Real Happiness\",11055],[\"Wintering: The Power of Rest and Retreat in Difficult Times\",5347],[\"3 Minute Positivity Journal: Boost Your Mood. Train Your Mind. Change Your Life.\",3110],[\"The Highly Sensitive Person: How to Thrive When the World Overwhelms You\",7723],[\"Ego Is the Enemy\",13426],[\"The 5 Second Rule: Transform your Life, Work, and Confidence with Everyday Courage\",8863],[\"Life Force: How New Breakthroughs in Precision Medicine Can Transform the Quality of Your Life & Those You Love\",5046],[\"Good Vibes, Good Life: How Self-Love Is the Key to Unlocking Your Greatness\",29607],[\"Mastery\",7400],[\"A Radical Awakening: Turn Pain into Power, Embrace Your Truth, Live Free\",2325],[\"Quit Like a Woman: The Radical Choice to Not Drink in a Culture Obsessed with Alcohol\",7752],[\"Think and Grow Rich Deluxe Edition: The Complete Classic Text (Think and Grow Rich Series)\",3827],[\"The Magic\",12222],[\"52 Modern Manners For Today's Teens\",1093],[\"The Gentle Art of Swedish Death Cleaning: How to Free Yourself and Your Family from a Lifetime of Clutter (The Swedish Art of Living & Dying Series)\",3535],[\"Ask and It Is Given: Learning to Manifest Your Desires\",13409],[\"A Year of Us: A Couple's Journal: One Question a Day to Spark Fun and Meaningful Conversations (Question a Day Couple's Journal)\",6085],[\"The Way, the Enemy, and the Key: A Boxed Set of The Obstacle is the Way, Ego is the Enemy & Stillness is the Key\",1489],[\"40 Days of Decrease: A Different Kind of Hunger. A Different Kind of Fast.\",1183],[\"Getting Things Done: The Art of Stress-Free Productivity\",7156],[\"It's Not Supposed to Be This Way\",17754],[\"Money: Master the Game: 7 Simple Steps to Financial Freedom\",11580],[\"Do It For Yourself (Guided Journal): A Motivational Journal (Start Before You\\u2019re Ready)\",1542],[\"The Power of Your Subconscious Mind\",69015],[\"Captivating Expanded Edition: Unveiling the Mystery of a Woman's Soul\",3665],[\"Winning: The Unforgiving Race to Greatness\",3326],[\"Becoming\",140084],[\"33 Strategies of War\",4075],[\"Discipline Equals Freedom: Field Manual Mk1-MOD1\",6307],[\"What Every BODY Is Saying: An Ex-FBI Agent\\u2019s Guide to Speed-Reading People\",11930],[\"Magic Words\",9],[\"Find Your People: Building Deep Community in a Lonely World\",2741],[\"The Choice: Escaping the Past and Embracing the Possible\",24332],[\"The Speed of Trust: The One Thing that Changes Everything\",3510],[\"How to Starve Cancer: ...and Then Kill It With Ferroptosis\",559],[\"Leadership Strategy and Tactics: Field Manual\",7129],[\"The Life-Changing Magic of Tidying Up: The Japanese Art of Decluttering and Organizing\",34155],[\"How to Be Love(d): Simple Truths for Going Easier on Yourself, Embracing Imperfection & Loving Your Way to a Better Life\",122],[\"Rising Strong: How the Ability to Reset Transforms the Way We Live, Love, Parent, and Lead\",8380],[\"Men's Work: A Practical Guide to Face Your Darkness, End Self-Sabotage, and Find Freedom\",44],[\"Psycho-Cybernetics: Updated and Expanded\",1346],[\"Us: Getting Past You and Me to Build a More Loving Relationship\",626],[\"The Daily Laws: 366 Meditations on Power, Seduction, Mastery, Strategy, and Human Nature\",2786],[\"Allen Carr's Easy Way to Quit Smoking\",2559],[\"The Swedish Art of Aging Exuberantly: Life Wisdom from Someone Who Will (Probably) Die Before You\",232],[\"Self-Care for Black Women: 150 Ways to Radically Accept & Prioritize Your Mind, Body, & Soul\",481],[\"Inquebrantables (Spanish Edition)\",12229],[\"The Hard Thing About Hard Things: Building a Business When There Are No Easy Answers\",7591],[\"I Thought It Was Just Me (but it isn\\u2019t): Telling the Truth about Perfectionism, Inadequacy, and Power\",6043],[\"The Body Is Not an Apology, Second Edition: The Power of Radical Self-Love\",3002],[\"Lifting Heavy Things: Healing Trauma One Rep at a Time\",139],[\"The Big Leap\",5943],[\"Tiny Habits: The Small Changes That Change Everything\",5619],[\"Stillness Is the Key\",6915],[\"It Takes What It Takes: How to Think Neutrally and Gain Control of Your Life\",1383],[\"The Home Edit: A Guide to Organizing and Realizing Your House Goals (Includes Refrigerator Labels Download)\",14029],[\"Self-Care for People with ADHD: 100+ Ways to Recharge, De-Stress, and Prioritize You!\",134],[\"Loving What Is, Revised Edition: Four Questions That Can Change Your Life\",438],[\"The Power to Change Workbook: Mastering the Habits That Matter Most\",4],[\"Drive: The Surprising Truth About What Motivates Us\",6810],[\"Better Small Talk: Talk to Anyone, Avoid Awkwardness, Generate Deep Conversations, and Make Real Friends\",1284],[\"Cursive handwriting workbook for Adults: Learn to write in Cursive, Improve your writing skills & practice penmanship for adults (Master Print and Cursive Writing Penmanship for Adults)\",2336],[\"Big Magic: Creative Living Beyond Fear\",14829],[\"Tattoos on the Heart: The Power of Boundless Compassion\",5652],[\"Daily Devotions from Psalms: 365 Daily Inspirations\",212],[\"Radical Remission: Surviving Cancer Against All Odds\",2945],[\"Awaken the Giant Within\",8221],[\"Can't Hurt Me: Master Your Mind and Defy the Odds - Clean Edition\",9759],[\"Overcomer: 8 Ways to Live a Life of Unstoppable Strength, Unmovable Faith, and Unbelievable Power\",1645],[\"Courage Is Calling: Fortune Favors the Brave\",3502],[\"C\\u00f3mo ganar amigos e influir sobre las personas [How to Win Friends and Influence People]\",3680],[\"Twenty-Four Hours a Day\",4668],[\"The Gift: 14 Lessons to Save Your Life\",4633],[\"How to Stop Worrying and Start Living: Time-Tested Methods for Conquering Worry\",23832],[\"Own Your Past Change Your Future: A Not-So-Complicated Approach to Relationships, Mental Health & Wellness\",585],[\"Permission to Live Free: Living the Life God Created You For\",24],[\"Home Therapy: Interior Design for Increasing Happiness, Boosting Confidence, and Creating Calm: An Interior Design Book\",112],[\"Chicken Soup for the Soul: Laughter Is the Best Medicine: 101 Feel Good Stories\",1606],[\"The Power of Now: A Guide to Spiritual Enlightenment\",49201],[\"The Subtle Art of Not Giving a F*ck Journal\",380],[\"The Artist's Way Starter Kit\",1960],[\"Change Starts with You: Following Your Fire to Heal a Broken World\",4],[\"CSB Study Bible For Women, Teal Flowers LeatherTouch, Indexed, Black Letter, Study Notes and Commentary, Articles, Profiles, Word Studies, Charts, Full-Color Maps, Easy-to-Read Bible Serif Type\",1202],[\"The Home Edit Life: The No-Guilt Guide to Owning What You Want and Organizing Everything\",13070],[\"All Along You Were Blooming: Thoughts for Boundless Living (A Collection of Poetry)\",3902]],\"hovertemplate\":\"price=%{x}<br>rating=%{y}<br>title=%{customdata[0]}<br>number of reviews=%{customdata[1]}<extra></extra>\",\"legendgroup\":\"\",\"marker\":{\"color\":\"rgb(252,163,17)\",\"symbol\":\"circle\"},\"mode\":\"markers\",\"name\":\"\",\"orientation\":\"v\",\"showlegend\":false,\"x\":[16,0,0,22,0,0,0,9,0,11,9,14,12,0,0,0,0,13,14,0,12,21,0,12,8,8,0,14,0,0,23,0,0,0,22,0,0,0,12,14,22,0,0,0,15,0,12,0,11,17,14,0,0,12,0,11,17,7,6,0,0,14,11,9,13,5,0,0,0,0,0,5,0,12,26,0,21,0,18,0,0,0,16,17,0,0,0,0,0,13,0,0,0,0,0,8,5,0,13,7,14,0,9,0,0,0,20,0,0,0,0,0,16,0,0,0,0,0,0,15,0,18,0,0,0,13,10,0,0,0,0,0,0,0,14,0,19,17,9,13,42,10,0,0,0,15,5,12,0,0,0,18,0,28,0,0,0,18,0,0,0,0,0,0,0,0,0,0,11,9,0,0,0,0,0,12,0,0,0,0,14,17,0,0,5,0,11,16,14,0,21,0,0,0,13,0,0,0,25,26,8,0,12,30,0,53,14,11],\"xaxis\":\"x\",\"y\":[4.9,4.6,4.8,4.8,4.7,4.5,4.5,4.6,4.7,4.7,4.6,4.7,4.5,4.8,4.8,4.7,4.7,4.7,4.8,4.8,4.8,4.5,4.6,4.8,4.3,4.6,4.8,4.7,4.7,4.8,4.6,4.7,4.8,4.8,4.8,4.6,4.6,4.8,4.6,4.8,5.0,4.6,4.6,4.3,4.6,4.7,4.8,4.7,4.8,4.6,4.8,4.8,4.9,4.9,4.6,4.8,4.7,4.6,4.5,4.6,4.8,4.6,4.7,4.8,4.8,4.6,4.9,4.7,4.6,4.8,4.8,4.6,4.7,4.9,5.0,4.5,4.8,4.8,4.6,4.8,4.9,4.8,4.7,4.6,4.7,4.7,4.7,4.7,4.6,4.8,4.7,4.6,4.7,4.8,4.8,4.7,4.7,4.8,4.7,4.6,4.8,4.7,4.6,4.6,4.8,4.6,4.8,4.7,4.8,4.6,4.7,4.9,4.6,4.7,4.6,4.5,4.8,4.9,4.8,4.8,4.7,4.8,4.5,4.5,4.4,4.7,4.6,4.7,4.6,4.5,4.7,4.7,4.7,4.5,4.8,4.8,4.9,4.4,4.8,4.6,4.9,4.7,4.5,4.8,4.6,4.7,4.6,4.7,4.8,4.8,4.8,4.8,4.6,4.1,4.7,4.8,4.6,4.6,4.9,4.5,4.7,4.8,4.7,4.7,4.6,4.8,4.5,4.1,4.8,4.8,4.6,4.7,4.8,4.6,4.6,4.6,4.7,4.6,4.7,4.7,4.6,5.0,4.5,4.4,4.6,4.6,4.7,4.8,4.7,4.6,4.8,4.8,4.6,4.8,4.8,4.8,4.6,4.8,4.9,4.6,4.7,4.7,4.7,4.8,4.7,4.9,4.8,4.8],\"yaxis\":\"y\",\"type\":\"scatter\"}],                        {\"template\":{\"data\":{\"histogram2dcontour\":[{\"type\":\"histogram2dcontour\",\"colorbar\":{\"outlinewidth\":0,\"ticks\":\"\"},\"colorscale\":[[0.0,\"#0d0887\"],[0.1111111111111111,\"#46039f\"],[0.2222222222222222,\"#7201a8\"],[0.3333333333333333,\"#9c179e\"],[0.4444444444444444,\"#bd3786\"],[0.5555555555555556,\"#d8576b\"],[0.6666666666666666,\"#ed7953\"],[0.7777777777777778,\"#fb9f3a\"],[0.8888888888888888,\"#fdca26\"],[1.0,\"#f0f921\"]]}],\"choropleth\":[{\"type\":\"choropleth\",\"colorbar\":{\"outlinewidth\":0,\"ticks\":\"\"}}],\"histogram2d\":[{\"type\":\"histogram2d\",\"colorbar\":{\"outlinewidth\":0,\"ticks\":\"\"},\"colorscale\":[[0.0,\"#0d0887\"],[0.1111111111111111,\"#46039f\"],[0.2222222222222222,\"#7201a8\"],[0.3333333333333333,\"#9c179e\"],[0.4444444444444444,\"#bd3786\"],[0.5555555555555556,\"#d8576b\"],[0.6666666666666666,\"#ed7953\"],[0.7777777777777778,\"#fb9f3a\"],[0.8888888888888888,\"#fdca26\"],[1.0,\"#f0f921\"]]}],\"heatmap\":[{\"type\":\"heatmap\",\"colorbar\":{\"outlinewidth\":0,\"ticks\":\"\"},\"colorscale\":[[0.0,\"#0d0887\"],[0.1111111111111111,\"#46039f\"],[0.2222222222222222,\"#7201a8\"],[0.3333333333333333,\"#9c179e\"],[0.4444444444444444,\"#bd3786\"],[0.5555555555555556,\"#d8576b\"],[0.6666666666666666,\"#ed7953\"],[0.7777777777777778,\"#fb9f3a\"],[0.8888888888888888,\"#fdca26\"],[1.0,\"#f0f921\"]]}],\"heatmapgl\":[{\"type\":\"heatmapgl\",\"colorbar\":{\"outlinewidth\":0,\"ticks\":\"\"},\"colorscale\":[[0.0,\"#0d0887\"],[0.1111111111111111,\"#46039f\"],[0.2222222222222222,\"#7201a8\"],[0.3333333333333333,\"#9c179e\"],[0.4444444444444444,\"#bd3786\"],[0.5555555555555556,\"#d8576b\"],[0.6666666666666666,\"#ed7953\"],[0.7777777777777778,\"#fb9f3a\"],[0.8888888888888888,\"#fdca26\"],[1.0,\"#f0f921\"]]}],\"contourcarpet\":[{\"type\":\"contourcarpet\",\"colorbar\":{\"outlinewidth\":0,\"ticks\":\"\"}}],\"contour\":[{\"type\":\"contour\",\"colorbar\":{\"outlinewidth\":0,\"ticks\":\"\"},\"colorscale\":[[0.0,\"#0d0887\"],[0.1111111111111111,\"#46039f\"],[0.2222222222222222,\"#7201a8\"],[0.3333333333333333,\"#9c179e\"],[0.4444444444444444,\"#bd3786\"],[0.5555555555555556,\"#d8576b\"],[0.6666666666666666,\"#ed7953\"],[0.7777777777777778,\"#fb9f3a\"],[0.8888888888888888,\"#fdca26\"],[1.0,\"#f0f921\"]]}],\"surface\":[{\"type\":\"surface\",\"colorbar\":{\"outlinewidth\":0,\"ticks\":\"\"},\"colorscale\":[[0.0,\"#0d0887\"],[0.1111111111111111,\"#46039f\"],[0.2222222222222222,\"#7201a8\"],[0.3333333333333333,\"#9c179e\"],[0.4444444444444444,\"#bd3786\"],[0.5555555555555556,\"#d8576b\"],[0.6666666666666666,\"#ed7953\"],[0.7777777777777778,\"#fb9f3a\"],[0.8888888888888888,\"#fdca26\"],[1.0,\"#f0f921\"]]}],\"mesh3d\":[{\"type\":\"mesh3d\",\"colorbar\":{\"outlinewidth\":0,\"ticks\":\"\"}}],\"scatter\":[{\"fillpattern\":{\"fillmode\":\"overlay\",\"size\":10,\"solidity\":0.2},\"type\":\"scatter\"}],\"parcoords\":[{\"type\":\"parcoords\",\"line\":{\"colorbar\":{\"outlinewidth\":0,\"ticks\":\"\"}}}],\"scatterpolargl\":[{\"type\":\"scatterpolargl\",\"marker\":{\"colorbar\":{\"outlinewidth\":0,\"ticks\":\"\"}}}],\"bar\":[{\"error_x\":{\"color\":\"#2a3f5f\"},\"error_y\":{\"color\":\"#2a3f5f\"},\"marker\":{\"line\":{\"color\":\"#E5ECF6\",\"width\":0.5},\"pattern\":{\"fillmode\":\"overlay\",\"size\":10,\"solidity\":0.2}},\"type\":\"bar\"}],\"scattergeo\":[{\"type\":\"scattergeo\",\"marker\":{\"colorbar\":{\"outlinewidth\":0,\"ticks\":\"\"}}}],\"scatterpolar\":[{\"type\":\"scatterpolar\",\"marker\":{\"colorbar\":{\"outlinewidth\":0,\"ticks\":\"\"}}}],\"histogram\":[{\"marker\":{\"pattern\":{\"fillmode\":\"overlay\",\"size\":10,\"solidity\":0.2}},\"type\":\"histogram\"}],\"scattergl\":[{\"type\":\"scattergl\",\"marker\":{\"colorbar\":{\"outlinewidth\":0,\"ticks\":\"\"}}}],\"scatter3d\":[{\"type\":\"scatter3d\",\"line\":{\"colorbar\":{\"outlinewidth\":0,\"ticks\":\"\"}},\"marker\":{\"colorbar\":{\"outlinewidth\":0,\"ticks\":\"\"}}}],\"scattermapbox\":[{\"type\":\"scattermapbox\",\"marker\":{\"colorbar\":{\"outlinewidth\":0,\"ticks\":\"\"}}}],\"scatterternary\":[{\"type\":\"scatterternary\",\"marker\":{\"colorbar\":{\"outlinewidth\":0,\"ticks\":\"\"}}}],\"scattercarpet\":[{\"type\":\"scattercarpet\",\"marker\":{\"colorbar\":{\"outlinewidth\":0,\"ticks\":\"\"}}}],\"carpet\":[{\"aaxis\":{\"endlinecolor\":\"#2a3f5f\",\"gridcolor\":\"white\",\"linecolor\":\"white\",\"minorgridcolor\":\"white\",\"startlinecolor\":\"#2a3f5f\"},\"baxis\":{\"endlinecolor\":\"#2a3f5f\",\"gridcolor\":\"white\",\"linecolor\":\"white\",\"minorgridcolor\":\"white\",\"startlinecolor\":\"#2a3f5f\"},\"type\":\"carpet\"}],\"table\":[{\"cells\":{\"fill\":{\"color\":\"#EBF0F8\"},\"line\":{\"color\":\"white\"}},\"header\":{\"fill\":{\"color\":\"#C8D4E3\"},\"line\":{\"color\":\"white\"}},\"type\":\"table\"}],\"barpolar\":[{\"marker\":{\"line\":{\"color\":\"#E5ECF6\",\"width\":0.5},\"pattern\":{\"fillmode\":\"overlay\",\"size\":10,\"solidity\":0.2}},\"type\":\"barpolar\"}],\"pie\":[{\"automargin\":true,\"type\":\"pie\"}]},\"layout\":{\"autotypenumbers\":\"strict\",\"colorway\":[\"#636efa\",\"#EF553B\",\"#00cc96\",\"#ab63fa\",\"#FFA15A\",\"#19d3f3\",\"#FF6692\",\"#B6E880\",\"#FF97FF\",\"#FECB52\"],\"font\":{\"color\":\"#2a3f5f\"},\"hovermode\":\"closest\",\"hoverlabel\":{\"align\":\"left\"},\"paper_bgcolor\":\"white\",\"plot_bgcolor\":\"#E5ECF6\",\"polar\":{\"bgcolor\":\"#E5ECF6\",\"angularaxis\":{\"gridcolor\":\"white\",\"linecolor\":\"white\",\"ticks\":\"\"},\"radialaxis\":{\"gridcolor\":\"white\",\"linecolor\":\"white\",\"ticks\":\"\"}},\"ternary\":{\"bgcolor\":\"#E5ECF6\",\"aaxis\":{\"gridcolor\":\"white\",\"linecolor\":\"white\",\"ticks\":\"\"},\"baxis\":{\"gridcolor\":\"white\",\"linecolor\":\"white\",\"ticks\":\"\"},\"caxis\":{\"gridcolor\":\"white\",\"linecolor\":\"white\",\"ticks\":\"\"}},\"coloraxis\":{\"colorbar\":{\"outlinewidth\":0,\"ticks\":\"\"}},\"colorscale\":{\"sequential\":[[0.0,\"#0d0887\"],[0.1111111111111111,\"#46039f\"],[0.2222222222222222,\"#7201a8\"],[0.3333333333333333,\"#9c179e\"],[0.4444444444444444,\"#bd3786\"],[0.5555555555555556,\"#d8576b\"],[0.6666666666666666,\"#ed7953\"],[0.7777777777777778,\"#fb9f3a\"],[0.8888888888888888,\"#fdca26\"],[1.0,\"#f0f921\"]],\"sequentialminus\":[[0.0,\"#0d0887\"],[0.1111111111111111,\"#46039f\"],[0.2222222222222222,\"#7201a8\"],[0.3333333333333333,\"#9c179e\"],[0.4444444444444444,\"#bd3786\"],[0.5555555555555556,\"#d8576b\"],[0.6666666666666666,\"#ed7953\"],[0.7777777777777778,\"#fb9f3a\"],[0.8888888888888888,\"#fdca26\"],[1.0,\"#f0f921\"]],\"diverging\":[[0,\"#8e0152\"],[0.1,\"#c51b7d\"],[0.2,\"#de77ae\"],[0.3,\"#f1b6da\"],[0.4,\"#fde0ef\"],[0.5,\"#f7f7f7\"],[0.6,\"#e6f5d0\"],[0.7,\"#b8e186\"],[0.8,\"#7fbc41\"],[0.9,\"#4d9221\"],[1,\"#276419\"]]},\"xaxis\":{\"gridcolor\":\"white\",\"linecolor\":\"white\",\"ticks\":\"\",\"title\":{\"standoff\":15},\"zerolinecolor\":\"white\",\"automargin\":true,\"zerolinewidth\":2},\"yaxis\":{\"gridcolor\":\"white\",\"linecolor\":\"white\",\"ticks\":\"\",\"title\":{\"standoff\":15},\"zerolinecolor\":\"white\",\"automargin\":true,\"zerolinewidth\":2},\"scene\":{\"xaxis\":{\"backgroundcolor\":\"#E5ECF6\",\"gridcolor\":\"white\",\"linecolor\":\"white\",\"showbackground\":true,\"ticks\":\"\",\"zerolinecolor\":\"white\",\"gridwidth\":2},\"yaxis\":{\"backgroundcolor\":\"#E5ECF6\",\"gridcolor\":\"white\",\"linecolor\":\"white\",\"showbackground\":true,\"ticks\":\"\",\"zerolinecolor\":\"white\",\"gridwidth\":2},\"zaxis\":{\"backgroundcolor\":\"#E5ECF6\",\"gridcolor\":\"white\",\"linecolor\":\"white\",\"showbackground\":true,\"ticks\":\"\",\"zerolinecolor\":\"white\",\"gridwidth\":2}},\"shapedefaults\":{\"line\":{\"color\":\"#2a3f5f\"}},\"annotationdefaults\":{\"arrowcolor\":\"#2a3f5f\",\"arrowhead\":0,\"arrowwidth\":1},\"geo\":{\"bgcolor\":\"white\",\"landcolor\":\"#E5ECF6\",\"subunitcolor\":\"white\",\"showland\":true,\"showlakes\":true,\"lakecolor\":\"white\"},\"title\":{\"x\":0.05},\"mapbox\":{\"style\":\"light\"}}},\"xaxis\":{\"anchor\":\"y\",\"domain\":[0.0,1.0],\"title\":{\"text\":\"Price\"}},\"yaxis\":{\"anchor\":\"x\",\"domain\":[0.0,1.0],\"title\":{\"text\":\"Rating\"}},\"legend\":{\"tracegroupgap\":0},\"margin\":{\"t\":60},\"font\":{\"size\":18},\"title\":{\"text\":\"Price vs. Rating Scatter Plot\"}},                        {\"responsive\": true}                    ).then(function(){\n",
       "                            \n",
       "var gd = document.getElementById('d7aa36e8-afbb-442e-9b8d-1328198cfe79');\n",
       "var x = new MutationObserver(function (mutations, observer) {{\n",
       "        var display = window.getComputedStyle(gd).display;\n",
       "        if (!display || display === 'none') {{\n",
       "            console.log([gd, 'removed!']);\n",
       "            Plotly.purge(gd);\n",
       "            observer.disconnect();\n",
       "        }}\n",
       "}});\n",
       "\n",
       "// Listen for the removal of the full notebook cells\n",
       "var notebookContainer = gd.closest('#notebook-container');\n",
       "if (notebookContainer) {{\n",
       "    x.observe(notebookContainer, {childList: true});\n",
       "}}\n",
       "\n",
       "// Listen for the clearing of the current output cell\n",
       "var outputEl = gd.closest('.output');\n",
       "if (outputEl) {{\n",
       "    x.observe(outputEl, {childList: true});\n",
       "}}\n",
       "\n",
       "                        })                };                });            </script>        </div>"
      ]
     },
     "metadata": {},
     "output_type": "display_data"
    }
   ],
   "source": [
    "fig = px.scatter(df, x='price', y='rating', hover_data=['title', 'number of reviews'],color_discrete_sequence=['rgb(252,163,17)', 'rgb(20,33,61)'])\n",
    "\n",
    "# Update layout\n",
    "fig.update_layout(\n",
    "    title='Price vs. Rating Scatter Plot',\n",
    "    xaxis_title='Price',\n",
    "    yaxis_title='Rating',\n",
    "     font=dict(size=18),\n",
    "\n",
    ")\n",
    "\n",
    "# Show figure\n",
    "fig.show()\n",
    "fig.write_image('Price vs Rating Scatter.png')\n"
   ]
  },
  {
   "cell_type": "code",
   "execution_count": 58,
   "id": "114f2655-5972-4128-85dd-65408fd0d218",
   "metadata": {},
   "outputs": [
    {
     "data": {
      "text/html": [
       "<div>\n",
       "<style scoped>\n",
       "    .dataframe tbody tr th:only-of-type {\n",
       "        vertical-align: middle;\n",
       "    }\n",
       "\n",
       "    .dataframe tbody tr th {\n",
       "        vertical-align: top;\n",
       "    }\n",
       "\n",
       "    .dataframe thead th {\n",
       "        text-align: right;\n",
       "    }\n",
       "</style>\n",
       "<table border=\"1\" class=\"dataframe\">\n",
       "  <thead>\n",
       "    <tr style=\"text-align: right;\">\n",
       "      <th></th>\n",
       "      <th>price</th>\n",
       "      <th>rating</th>\n",
       "      <th>number of reviews</th>\n",
       "    </tr>\n",
       "  </thead>\n",
       "  <tbody>\n",
       "    <tr>\n",
       "      <th>price</th>\n",
       "      <td>1.000000</td>\n",
       "      <td>0.174920</td>\n",
       "      <td>-0.210228</td>\n",
       "    </tr>\n",
       "    <tr>\n",
       "      <th>rating</th>\n",
       "      <td>0.174920</td>\n",
       "      <td>1.000000</td>\n",
       "      <td>-0.017235</td>\n",
       "    </tr>\n",
       "    <tr>\n",
       "      <th>number of reviews</th>\n",
       "      <td>-0.210228</td>\n",
       "      <td>-0.017235</td>\n",
       "      <td>1.000000</td>\n",
       "    </tr>\n",
       "  </tbody>\n",
       "</table>\n",
       "</div>"
      ],
      "text/plain": [
       "                      price    rating  number of reviews\n",
       "price              1.000000  0.174920          -0.210228\n",
       "rating             0.174920  1.000000          -0.017235\n",
       "number of reviews -0.210228 -0.017235           1.000000"
      ]
     },
     "execution_count": 58,
     "metadata": {},
     "output_type": "execute_result"
    }
   ],
   "source": [
    "#correlation matrix\n",
    "corr_matrix = df[['price','rating','number of reviews']].corr()\n",
    "corr_matrix\n",
    "#plt.imshow(corr_matrix, cmap='coolwarm', interpolation='none')"
   ]
  },
  {
   "cell_type": "code",
   "execution_count": 76,
   "id": "85ccc4de-6f5e-4d12-9c3b-a7462b6db054",
   "metadata": {},
   "outputs": [
    {
     "data": {
      "application/vnd.plotly.v1+json": {
       "config": {
        "plotlyServerURL": "https://plot.ly"
       },
       "data": [
        {
         "alignmentgroup": "True",
         "hovertemplate": "Has Price=%{x}<br>Average Rating=%{text}<extra></extra>",
         "legendgroup": "",
         "marker": {
          "color": "rgb(20,33,61)",
          "pattern": {
           "shape": ""
          }
         },
         "name": "",
         "offsetgroup": "",
         "orientation": "v",
         "showlegend": false,
         "text": [
          4.683471074380166,
          4.710344827586207
         ],
         "textposition": "outside",
         "texttemplate": "%{text:.2f}",
         "type": "bar",
         "x": [
          "Free",
          "Not Free"
         ],
         "xaxis": "x",
         "y": [
          4.683471074380166,
          4.710344827586207
         ],
         "yaxis": "y"
        }
       ],
       "layout": {
        "barmode": "relative",
        "font": {
         "size": 18
        },
        "height": 600,
        "legend": {
         "tracegroupgap": 0
        },
        "margin": {
         "t": 60
        },
        "template": {
         "data": {
          "bar": [
           {
            "error_x": {
             "color": "#2a3f5f"
            },
            "error_y": {
             "color": "#2a3f5f"
            },
            "marker": {
             "line": {
              "color": "#E5ECF6",
              "width": 0.5
             },
             "pattern": {
              "fillmode": "overlay",
              "size": 10,
              "solidity": 0.2
             }
            },
            "type": "bar"
           }
          ],
          "barpolar": [
           {
            "marker": {
             "line": {
              "color": "#E5ECF6",
              "width": 0.5
             },
             "pattern": {
              "fillmode": "overlay",
              "size": 10,
              "solidity": 0.2
             }
            },
            "type": "barpolar"
           }
          ],
          "carpet": [
           {
            "aaxis": {
             "endlinecolor": "#2a3f5f",
             "gridcolor": "white",
             "linecolor": "white",
             "minorgridcolor": "white",
             "startlinecolor": "#2a3f5f"
            },
            "baxis": {
             "endlinecolor": "#2a3f5f",
             "gridcolor": "white",
             "linecolor": "white",
             "minorgridcolor": "white",
             "startlinecolor": "#2a3f5f"
            },
            "type": "carpet"
           }
          ],
          "choropleth": [
           {
            "colorbar": {
             "outlinewidth": 0,
             "ticks": ""
            },
            "type": "choropleth"
           }
          ],
          "contour": [
           {
            "colorbar": {
             "outlinewidth": 0,
             "ticks": ""
            },
            "colorscale": [
             [
              0,
              "#0d0887"
             ],
             [
              0.1111111111111111,
              "#46039f"
             ],
             [
              0.2222222222222222,
              "#7201a8"
             ],
             [
              0.3333333333333333,
              "#9c179e"
             ],
             [
              0.4444444444444444,
              "#bd3786"
             ],
             [
              0.5555555555555556,
              "#d8576b"
             ],
             [
              0.6666666666666666,
              "#ed7953"
             ],
             [
              0.7777777777777778,
              "#fb9f3a"
             ],
             [
              0.8888888888888888,
              "#fdca26"
             ],
             [
              1,
              "#f0f921"
             ]
            ],
            "type": "contour"
           }
          ],
          "contourcarpet": [
           {
            "colorbar": {
             "outlinewidth": 0,
             "ticks": ""
            },
            "type": "contourcarpet"
           }
          ],
          "heatmap": [
           {
            "colorbar": {
             "outlinewidth": 0,
             "ticks": ""
            },
            "colorscale": [
             [
              0,
              "#0d0887"
             ],
             [
              0.1111111111111111,
              "#46039f"
             ],
             [
              0.2222222222222222,
              "#7201a8"
             ],
             [
              0.3333333333333333,
              "#9c179e"
             ],
             [
              0.4444444444444444,
              "#bd3786"
             ],
             [
              0.5555555555555556,
              "#d8576b"
             ],
             [
              0.6666666666666666,
              "#ed7953"
             ],
             [
              0.7777777777777778,
              "#fb9f3a"
             ],
             [
              0.8888888888888888,
              "#fdca26"
             ],
             [
              1,
              "#f0f921"
             ]
            ],
            "type": "heatmap"
           }
          ],
          "heatmapgl": [
           {
            "colorbar": {
             "outlinewidth": 0,
             "ticks": ""
            },
            "colorscale": [
             [
              0,
              "#0d0887"
             ],
             [
              0.1111111111111111,
              "#46039f"
             ],
             [
              0.2222222222222222,
              "#7201a8"
             ],
             [
              0.3333333333333333,
              "#9c179e"
             ],
             [
              0.4444444444444444,
              "#bd3786"
             ],
             [
              0.5555555555555556,
              "#d8576b"
             ],
             [
              0.6666666666666666,
              "#ed7953"
             ],
             [
              0.7777777777777778,
              "#fb9f3a"
             ],
             [
              0.8888888888888888,
              "#fdca26"
             ],
             [
              1,
              "#f0f921"
             ]
            ],
            "type": "heatmapgl"
           }
          ],
          "histogram": [
           {
            "marker": {
             "pattern": {
              "fillmode": "overlay",
              "size": 10,
              "solidity": 0.2
             }
            },
            "type": "histogram"
           }
          ],
          "histogram2d": [
           {
            "colorbar": {
             "outlinewidth": 0,
             "ticks": ""
            },
            "colorscale": [
             [
              0,
              "#0d0887"
             ],
             [
              0.1111111111111111,
              "#46039f"
             ],
             [
              0.2222222222222222,
              "#7201a8"
             ],
             [
              0.3333333333333333,
              "#9c179e"
             ],
             [
              0.4444444444444444,
              "#bd3786"
             ],
             [
              0.5555555555555556,
              "#d8576b"
             ],
             [
              0.6666666666666666,
              "#ed7953"
             ],
             [
              0.7777777777777778,
              "#fb9f3a"
             ],
             [
              0.8888888888888888,
              "#fdca26"
             ],
             [
              1,
              "#f0f921"
             ]
            ],
            "type": "histogram2d"
           }
          ],
          "histogram2dcontour": [
           {
            "colorbar": {
             "outlinewidth": 0,
             "ticks": ""
            },
            "colorscale": [
             [
              0,
              "#0d0887"
             ],
             [
              0.1111111111111111,
              "#46039f"
             ],
             [
              0.2222222222222222,
              "#7201a8"
             ],
             [
              0.3333333333333333,
              "#9c179e"
             ],
             [
              0.4444444444444444,
              "#bd3786"
             ],
             [
              0.5555555555555556,
              "#d8576b"
             ],
             [
              0.6666666666666666,
              "#ed7953"
             ],
             [
              0.7777777777777778,
              "#fb9f3a"
             ],
             [
              0.8888888888888888,
              "#fdca26"
             ],
             [
              1,
              "#f0f921"
             ]
            ],
            "type": "histogram2dcontour"
           }
          ],
          "mesh3d": [
           {
            "colorbar": {
             "outlinewidth": 0,
             "ticks": ""
            },
            "type": "mesh3d"
           }
          ],
          "parcoords": [
           {
            "line": {
             "colorbar": {
              "outlinewidth": 0,
              "ticks": ""
             }
            },
            "type": "parcoords"
           }
          ],
          "pie": [
           {
            "automargin": true,
            "type": "pie"
           }
          ],
          "scatter": [
           {
            "fillpattern": {
             "fillmode": "overlay",
             "size": 10,
             "solidity": 0.2
            },
            "type": "scatter"
           }
          ],
          "scatter3d": [
           {
            "line": {
             "colorbar": {
              "outlinewidth": 0,
              "ticks": ""
             }
            },
            "marker": {
             "colorbar": {
              "outlinewidth": 0,
              "ticks": ""
             }
            },
            "type": "scatter3d"
           }
          ],
          "scattercarpet": [
           {
            "marker": {
             "colorbar": {
              "outlinewidth": 0,
              "ticks": ""
             }
            },
            "type": "scattercarpet"
           }
          ],
          "scattergeo": [
           {
            "marker": {
             "colorbar": {
              "outlinewidth": 0,
              "ticks": ""
             }
            },
            "type": "scattergeo"
           }
          ],
          "scattergl": [
           {
            "marker": {
             "colorbar": {
              "outlinewidth": 0,
              "ticks": ""
             }
            },
            "type": "scattergl"
           }
          ],
          "scattermapbox": [
           {
            "marker": {
             "colorbar": {
              "outlinewidth": 0,
              "ticks": ""
             }
            },
            "type": "scattermapbox"
           }
          ],
          "scatterpolar": [
           {
            "marker": {
             "colorbar": {
              "outlinewidth": 0,
              "ticks": ""
             }
            },
            "type": "scatterpolar"
           }
          ],
          "scatterpolargl": [
           {
            "marker": {
             "colorbar": {
              "outlinewidth": 0,
              "ticks": ""
             }
            },
            "type": "scatterpolargl"
           }
          ],
          "scatterternary": [
           {
            "marker": {
             "colorbar": {
              "outlinewidth": 0,
              "ticks": ""
             }
            },
            "type": "scatterternary"
           }
          ],
          "surface": [
           {
            "colorbar": {
             "outlinewidth": 0,
             "ticks": ""
            },
            "colorscale": [
             [
              0,
              "#0d0887"
             ],
             [
              0.1111111111111111,
              "#46039f"
             ],
             [
              0.2222222222222222,
              "#7201a8"
             ],
             [
              0.3333333333333333,
              "#9c179e"
             ],
             [
              0.4444444444444444,
              "#bd3786"
             ],
             [
              0.5555555555555556,
              "#d8576b"
             ],
             [
              0.6666666666666666,
              "#ed7953"
             ],
             [
              0.7777777777777778,
              "#fb9f3a"
             ],
             [
              0.8888888888888888,
              "#fdca26"
             ],
             [
              1,
              "#f0f921"
             ]
            ],
            "type": "surface"
           }
          ],
          "table": [
           {
            "cells": {
             "fill": {
              "color": "#EBF0F8"
             },
             "line": {
              "color": "white"
             }
            },
            "header": {
             "fill": {
              "color": "#C8D4E3"
             },
             "line": {
              "color": "white"
             }
            },
            "type": "table"
           }
          ]
         },
         "layout": {
          "annotationdefaults": {
           "arrowcolor": "#2a3f5f",
           "arrowhead": 0,
           "arrowwidth": 1
          },
          "autotypenumbers": "strict",
          "coloraxis": {
           "colorbar": {
            "outlinewidth": 0,
            "ticks": ""
           }
          },
          "colorscale": {
           "diverging": [
            [
             0,
             "#8e0152"
            ],
            [
             0.1,
             "#c51b7d"
            ],
            [
             0.2,
             "#de77ae"
            ],
            [
             0.3,
             "#f1b6da"
            ],
            [
             0.4,
             "#fde0ef"
            ],
            [
             0.5,
             "#f7f7f7"
            ],
            [
             0.6,
             "#e6f5d0"
            ],
            [
             0.7,
             "#b8e186"
            ],
            [
             0.8,
             "#7fbc41"
            ],
            [
             0.9,
             "#4d9221"
            ],
            [
             1,
             "#276419"
            ]
           ],
           "sequential": [
            [
             0,
             "#0d0887"
            ],
            [
             0.1111111111111111,
             "#46039f"
            ],
            [
             0.2222222222222222,
             "#7201a8"
            ],
            [
             0.3333333333333333,
             "#9c179e"
            ],
            [
             0.4444444444444444,
             "#bd3786"
            ],
            [
             0.5555555555555556,
             "#d8576b"
            ],
            [
             0.6666666666666666,
             "#ed7953"
            ],
            [
             0.7777777777777778,
             "#fb9f3a"
            ],
            [
             0.8888888888888888,
             "#fdca26"
            ],
            [
             1,
             "#f0f921"
            ]
           ],
           "sequentialminus": [
            [
             0,
             "#0d0887"
            ],
            [
             0.1111111111111111,
             "#46039f"
            ],
            [
             0.2222222222222222,
             "#7201a8"
            ],
            [
             0.3333333333333333,
             "#9c179e"
            ],
            [
             0.4444444444444444,
             "#bd3786"
            ],
            [
             0.5555555555555556,
             "#d8576b"
            ],
            [
             0.6666666666666666,
             "#ed7953"
            ],
            [
             0.7777777777777778,
             "#fb9f3a"
            ],
            [
             0.8888888888888888,
             "#fdca26"
            ],
            [
             1,
             "#f0f921"
            ]
           ]
          },
          "colorway": [
           "#636efa",
           "#EF553B",
           "#00cc96",
           "#ab63fa",
           "#FFA15A",
           "#19d3f3",
           "#FF6692",
           "#B6E880",
           "#FF97FF",
           "#FECB52"
          ],
          "font": {
           "color": "#2a3f5f"
          },
          "geo": {
           "bgcolor": "white",
           "lakecolor": "white",
           "landcolor": "#E5ECF6",
           "showlakes": true,
           "showland": true,
           "subunitcolor": "white"
          },
          "hoverlabel": {
           "align": "left"
          },
          "hovermode": "closest",
          "mapbox": {
           "style": "light"
          },
          "paper_bgcolor": "white",
          "plot_bgcolor": "#E5ECF6",
          "polar": {
           "angularaxis": {
            "gridcolor": "white",
            "linecolor": "white",
            "ticks": ""
           },
           "bgcolor": "#E5ECF6",
           "radialaxis": {
            "gridcolor": "white",
            "linecolor": "white",
            "ticks": ""
           }
          },
          "scene": {
           "xaxis": {
            "backgroundcolor": "#E5ECF6",
            "gridcolor": "white",
            "gridwidth": 2,
            "linecolor": "white",
            "showbackground": true,
            "ticks": "",
            "zerolinecolor": "white"
           },
           "yaxis": {
            "backgroundcolor": "#E5ECF6",
            "gridcolor": "white",
            "gridwidth": 2,
            "linecolor": "white",
            "showbackground": true,
            "ticks": "",
            "zerolinecolor": "white"
           },
           "zaxis": {
            "backgroundcolor": "#E5ECF6",
            "gridcolor": "white",
            "gridwidth": 2,
            "linecolor": "white",
            "showbackground": true,
            "ticks": "",
            "zerolinecolor": "white"
           }
          },
          "shapedefaults": {
           "line": {
            "color": "#2a3f5f"
           }
          },
          "ternary": {
           "aaxis": {
            "gridcolor": "white",
            "linecolor": "white",
            "ticks": ""
           },
           "baxis": {
            "gridcolor": "white",
            "linecolor": "white",
            "ticks": ""
           },
           "bgcolor": "#E5ECF6",
           "caxis": {
            "gridcolor": "white",
            "linecolor": "white",
            "ticks": ""
           }
          },
          "title": {
           "x": 0.05
          },
          "xaxis": {
           "automargin": true,
           "gridcolor": "white",
           "linecolor": "white",
           "ticks": "",
           "title": {
            "standoff": 15
           },
           "zerolinecolor": "white",
           "zerolinewidth": 2
          },
          "yaxis": {
           "automargin": true,
           "gridcolor": "white",
           "linecolor": "white",
           "ticks": "",
           "title": {
            "standoff": 15
           },
           "zerolinecolor": "white",
           "zerolinewidth": 2
          }
         }
        },
        "title": {
         "text": "Average Rating for Books with and without Price"
        },
        "width": 800,
        "xaxis": {
         "anchor": "y",
         "autorange": true,
         "domain": [
          0,
          1
         ],
         "range": [
          -0.5,
          1.5
         ],
         "title": {
          "text": ""
         },
         "type": "category"
        },
        "yaxis": {
         "anchor": "x",
         "autorange": true,
         "domain": [
          0,
          1
         ],
         "range": [
          0,
          4.9582577132486385
         ],
         "title": {
          "text": "Average Rating"
         },
         "type": "linear"
        }
       }
      },
      "image/png": "[encoded data removed]",
      "text/html": [
       "<div>                            <div id=\"ce1daa6f-3255-4944-aa04-7c8a9a54a14b\" class=\"plotly-graph-div\" style=\"height:600px; width:800px;\"></div>            <script type=\"text/javascript\">                require([\"plotly\"], function(Plotly) {                    window.PLOTLYENV=window.PLOTLYENV || {};                                    if (document.getElementById(\"ce1daa6f-3255-4944-aa04-7c8a9a54a14b\")) {                    Plotly.newPlot(                        \"ce1daa6f-3255-4944-aa04-7c8a9a54a14b\",                        [{\"alignmentgroup\":\"True\",\"hovertemplate\":\"Has Price=%{x}<br>Average Rating=%{text}<extra></extra>\",\"legendgroup\":\"\",\"marker\":{\"color\":\"rgb(20,33,61)\",\"pattern\":{\"shape\":\"\"}},\"name\":\"\",\"offsetgroup\":\"\",\"orientation\":\"v\",\"showlegend\":false,\"text\":[4.683471074380166,4.710344827586207],\"textposition\":\"outside\",\"x\":[\"Free\",\"Not Free\"],\"xaxis\":\"x\",\"y\":[4.683471074380166,4.710344827586207],\"yaxis\":\"y\",\"type\":\"bar\",\"texttemplate\":\"%{text:.2f}\"}],                        {\"template\":{\"data\":{\"histogram2dcontour\":[{\"type\":\"histogram2dcontour\",\"colorbar\":{\"outlinewidth\":0,\"ticks\":\"\"},\"colorscale\":[[0.0,\"#0d0887\"],[0.1111111111111111,\"#46039f\"],[0.2222222222222222,\"#7201a8\"],[0.3333333333333333,\"#9c179e\"],[0.4444444444444444,\"#bd3786\"],[0.5555555555555556,\"#d8576b\"],[0.6666666666666666,\"#ed7953\"],[0.7777777777777778,\"#fb9f3a\"],[0.8888888888888888,\"#fdca26\"],[1.0,\"#f0f921\"]]}],\"choropleth\":[{\"type\":\"choropleth\",\"colorbar\":{\"outlinewidth\":0,\"ticks\":\"\"}}],\"histogram2d\":[{\"type\":\"histogram2d\",\"colorbar\":{\"outlinewidth\":0,\"ticks\":\"\"},\"colorscale\":[[0.0,\"#0d0887\"],[0.1111111111111111,\"#46039f\"],[0.2222222222222222,\"#7201a8\"],[0.3333333333333333,\"#9c179e\"],[0.4444444444444444,\"#bd3786\"],[0.5555555555555556,\"#d8576b\"],[0.6666666666666666,\"#ed7953\"],[0.7777777777777778,\"#fb9f3a\"],[0.8888888888888888,\"#fdca26\"],[1.0,\"#f0f921\"]]}],\"heatmap\":[{\"type\":\"heatmap\",\"colorbar\":{\"outlinewidth\":0,\"ticks\":\"\"},\"colorscale\":[[0.0,\"#0d0887\"],[0.1111111111111111,\"#46039f\"],[0.2222222222222222,\"#7201a8\"],[0.3333333333333333,\"#9c179e\"],[0.4444444444444444,\"#bd3786\"],[0.5555555555555556,\"#d8576b\"],[0.6666666666666666,\"#ed7953\"],[0.7777777777777778,\"#fb9f3a\"],[0.8888888888888888,\"#fdca26\"],[1.0,\"#f0f921\"]]}],\"heatmapgl\":[{\"type\":\"heatmapgl\",\"colorbar\":{\"outlinewidth\":0,\"ticks\":\"\"},\"colorscale\":[[0.0,\"#0d0887\"],[0.1111111111111111,\"#46039f\"],[0.2222222222222222,\"#7201a8\"],[0.3333333333333333,\"#9c179e\"],[0.4444444444444444,\"#bd3786\"],[0.5555555555555556,\"#d8576b\"],[0.6666666666666666,\"#ed7953\"],[0.7777777777777778,\"#fb9f3a\"],[0.8888888888888888,\"#fdca26\"],[1.0,\"#f0f921\"]]}],\"contourcarpet\":[{\"type\":\"contourcarpet\",\"colorbar\":{\"outlinewidth\":0,\"ticks\":\"\"}}],\"contour\":[{\"type\":\"contour\",\"colorbar\":{\"outlinewidth\":0,\"ticks\":\"\"},\"colorscale\":[[0.0,\"#0d0887\"],[0.1111111111111111,\"#46039f\"],[0.2222222222222222,\"#7201a8\"],[0.3333333333333333,\"#9c179e\"],[0.4444444444444444,\"#bd3786\"],[0.5555555555555556,\"#d8576b\"],[0.6666666666666666,\"#ed7953\"],[0.7777777777777778,\"#fb9f3a\"],[0.8888888888888888,\"#fdca26\"],[1.0,\"#f0f921\"]]}],\"surface\":[{\"type\":\"surface\",\"colorbar\":{\"outlinewidth\":0,\"ticks\":\"\"},\"colorscale\":[[0.0,\"#0d0887\"],[0.1111111111111111,\"#46039f\"],[0.2222222222222222,\"#7201a8\"],[0.3333333333333333,\"#9c179e\"],[0.4444444444444444,\"#bd3786\"],[0.5555555555555556,\"#d8576b\"],[0.6666666666666666,\"#ed7953\"],[0.7777777777777778,\"#fb9f3a\"],[0.8888888888888888,\"#fdca26\"],[1.0,\"#f0f921\"]]}],\"mesh3d\":[{\"type\":\"mesh3d\",\"colorbar\":{\"outlinewidth\":0,\"ticks\":\"\"}}],\"scatter\":[{\"fillpattern\":{\"fillmode\":\"overlay\",\"size\":10,\"solidity\":0.2},\"type\":\"scatter\"}],\"parcoords\":[{\"type\":\"parcoords\",\"line\":{\"colorbar\":{\"outlinewidth\":0,\"ticks\":\"\"}}}],\"scatterpolargl\":[{\"type\":\"scatterpolargl\",\"marker\":{\"colorbar\":{\"outlinewidth\":0,\"ticks\":\"\"}}}],\"bar\":[{\"error_x\":{\"color\":\"#2a3f5f\"},\"error_y\":{\"color\":\"#2a3f5f\"},\"marker\":{\"line\":{\"color\":\"#E5ECF6\",\"width\":0.5},\"pattern\":{\"fillmode\":\"overlay\",\"size\":10,\"solidity\":0.2}},\"type\":\"bar\"}],\"scattergeo\":[{\"type\":\"scattergeo\",\"marker\":{\"colorbar\":{\"outlinewidth\":0,\"ticks\":\"\"}}}],\"scatterpolar\":[{\"type\":\"scatterpolar\",\"marker\":{\"colorbar\":{\"outlinewidth\":0,\"ticks\":\"\"}}}],\"histogram\":[{\"marker\":{\"pattern\":{\"fillmode\":\"overlay\",\"size\":10,\"solidity\":0.2}},\"type\":\"histogram\"}],\"scattergl\":[{\"type\":\"scattergl\",\"marker\":{\"colorbar\":{\"outlinewidth\":0,\"ticks\":\"\"}}}],\"scatter3d\":[{\"type\":\"scatter3d\",\"line\":{\"colorbar\":{\"outlinewidth\":0,\"ticks\":\"\"}},\"marker\":{\"colorbar\":{\"outlinewidth\":0,\"ticks\":\"\"}}}],\"scattermapbox\":[{\"type\":\"scattermapbox\",\"marker\":{\"colorbar\":{\"outlinewidth\":0,\"ticks\":\"\"}}}],\"scatterternary\":[{\"type\":\"scatterternary\",\"marker\":{\"colorbar\":{\"outlinewidth\":0,\"ticks\":\"\"}}}],\"scattercarpet\":[{\"type\":\"scattercarpet\",\"marker\":{\"colorbar\":{\"outlinewidth\":0,\"ticks\":\"\"}}}],\"carpet\":[{\"aaxis\":{\"endlinecolor\":\"#2a3f5f\",\"gridcolor\":\"white\",\"linecolor\":\"white\",\"minorgridcolor\":\"white\",\"startlinecolor\":\"#2a3f5f\"},\"baxis\":{\"endlinecolor\":\"#2a3f5f\",\"gridcolor\":\"white\",\"linecolor\":\"white\",\"minorgridcolor\":\"white\",\"startlinecolor\":\"#2a3f5f\"},\"type\":\"carpet\"}],\"table\":[{\"cells\":{\"fill\":{\"color\":\"#EBF0F8\"},\"line\":{\"color\":\"white\"}},\"header\":{\"fill\":{\"color\":\"#C8D4E3\"},\"line\":{\"color\":\"white\"}},\"type\":\"table\"}],\"barpolar\":[{\"marker\":{\"line\":{\"color\":\"#E5ECF6\",\"width\":0.5},\"pattern\":{\"fillmode\":\"overlay\",\"size\":10,\"solidity\":0.2}},\"type\":\"barpolar\"}],\"pie\":[{\"automargin\":true,\"type\":\"pie\"}]},\"layout\":{\"autotypenumbers\":\"strict\",\"colorway\":[\"#636efa\",\"#EF553B\",\"#00cc96\",\"#ab63fa\",\"#FFA15A\",\"#19d3f3\",\"#FF6692\",\"#B6E880\",\"#FF97FF\",\"#FECB52\"],\"font\":{\"color\":\"#2a3f5f\"},\"hovermode\":\"closest\",\"hoverlabel\":{\"align\":\"left\"},\"paper_bgcolor\":\"white\",\"plot_bgcolor\":\"#E5ECF6\",\"polar\":{\"bgcolor\":\"#E5ECF6\",\"angularaxis\":{\"gridcolor\":\"white\",\"linecolor\":\"white\",\"ticks\":\"\"},\"radialaxis\":{\"gridcolor\":\"white\",\"linecolor\":\"white\",\"ticks\":\"\"}},\"ternary\":{\"bgcolor\":\"#E5ECF6\",\"aaxis\":{\"gridcolor\":\"white\",\"linecolor\":\"white\",\"ticks\":\"\"},\"baxis\":{\"gridcolor\":\"white\",\"linecolor\":\"white\",\"ticks\":\"\"},\"caxis\":{\"gridcolor\":\"white\",\"linecolor\":\"white\",\"ticks\":\"\"}},\"coloraxis\":{\"colorbar\":{\"outlinewidth\":0,\"ticks\":\"\"}},\"colorscale\":{\"sequential\":[[0.0,\"#0d0887\"],[0.1111111111111111,\"#46039f\"],[0.2222222222222222,\"#7201a8\"],[0.3333333333333333,\"#9c179e\"],[0.4444444444444444,\"#bd3786\"],[0.5555555555555556,\"#d8576b\"],[0.6666666666666666,\"#ed7953\"],[0.7777777777777778,\"#fb9f3a\"],[0.8888888888888888,\"#fdca26\"],[1.0,\"#f0f921\"]],\"sequentialminus\":[[0.0,\"#0d0887\"],[0.1111111111111111,\"#46039f\"],[0.2222222222222222,\"#7201a8\"],[0.3333333333333333,\"#9c179e\"],[0.4444444444444444,\"#bd3786\"],[0.5555555555555556,\"#d8576b\"],[0.6666666666666666,\"#ed7953\"],[0.7777777777777778,\"#fb9f3a\"],[0.8888888888888888,\"#fdca26\"],[1.0,\"#f0f921\"]],\"diverging\":[[0,\"#8e0152\"],[0.1,\"#c51b7d\"],[0.2,\"#de77ae\"],[0.3,\"#f1b6da\"],[0.4,\"#fde0ef\"],[0.5,\"#f7f7f7\"],[0.6,\"#e6f5d0\"],[0.7,\"#b8e186\"],[0.8,\"#7fbc41\"],[0.9,\"#4d9221\"],[1,\"#276419\"]]},\"xaxis\":{\"gridcolor\":\"white\",\"linecolor\":\"white\",\"ticks\":\"\",\"title\":{\"standoff\":15},\"zerolinecolor\":\"white\",\"automargin\":true,\"zerolinewidth\":2},\"yaxis\":{\"gridcolor\":\"white\",\"linecolor\":\"white\",\"ticks\":\"\",\"title\":{\"standoff\":15},\"zerolinecolor\":\"white\",\"automargin\":true,\"zerolinewidth\":2},\"scene\":{\"xaxis\":{\"backgroundcolor\":\"#E5ECF6\",\"gridcolor\":\"white\",\"linecolor\":\"white\",\"showbackground\":true,\"ticks\":\"\",\"zerolinecolor\":\"white\",\"gridwidth\":2},\"yaxis\":{\"backgroundcolor\":\"#E5ECF6\",\"gridcolor\":\"white\",\"linecolor\":\"white\",\"showbackground\":true,\"ticks\":\"\",\"zerolinecolor\":\"white\",\"gridwidth\":2},\"zaxis\":{\"backgroundcolor\":\"#E5ECF6\",\"gridcolor\":\"white\",\"linecolor\":\"white\",\"showbackground\":true,\"ticks\":\"\",\"zerolinecolor\":\"white\",\"gridwidth\":2}},\"shapedefaults\":{\"line\":{\"color\":\"#2a3f5f\"}},\"annotationdefaults\":{\"arrowcolor\":\"#2a3f5f\",\"arrowhead\":0,\"arrowwidth\":1},\"geo\":{\"bgcolor\":\"white\",\"landcolor\":\"#E5ECF6\",\"subunitcolor\":\"white\",\"showland\":true,\"showlakes\":true,\"lakecolor\":\"white\"},\"title\":{\"x\":0.05},\"mapbox\":{\"style\":\"light\"}}},\"xaxis\":{\"anchor\":\"y\",\"domain\":[0.0,1.0],\"title\":{\"text\":\"\"}},\"yaxis\":{\"anchor\":\"x\",\"domain\":[0.0,1.0],\"title\":{\"text\":\"Average Rating\"}},\"legend\":{\"tracegroupgap\":0},\"margin\":{\"t\":60},\"barmode\":\"relative\",\"font\":{\"size\":18},\"title\":{\"text\":\"Average Rating for Books with and without Price\"},\"width\":800,\"height\":600},                        {\"responsive\": true}                    ).then(function(){\n",
       "                            \n",
       "var gd = document.getElementById('ce1daa6f-3255-4944-aa04-7c8a9a54a14b');\n",
       "var x = new MutationObserver(function (mutations, observer) {{\n",
       "        var display = window.getComputedStyle(gd).display;\n",
       "        if (!display || display === 'none') {{\n",
       "            console.log([gd, 'removed!']);\n",
       "            Plotly.purge(gd);\n",
       "            observer.disconnect();\n",
       "        }}\n",
       "}});\n",
       "\n",
       "// Listen for the removal of the full notebook cells\n",
       "var notebookContainer = gd.closest('#notebook-container');\n",
       "if (notebookContainer) {{\n",
       "    x.observe(notebookContainer, {childList: true});\n",
       "}}\n",
       "\n",
       "// Listen for the clearing of the current output cell\n",
       "var outputEl = gd.closest('.output');\n",
       "if (outputEl) {{\n",
       "    x.observe(outputEl, {childList: true});\n",
       "}}\n",
       "\n",
       "                        })                };                });            </script>        </div>"
      ]
     },
     "metadata": {},
     "output_type": "display_data"
    }
   ],
   "source": [
    "#rating for free and not free books\n",
    "avg_rating = df.groupby('cost')['rating'].mean().reset_index()\n",
    "\n",
    "\n",
    "fig = px.bar(avg_rating,\n",
    "             x='cost',\n",
    "             y='rating',\n",
    "             text= 'rating', \n",
    "             labels={'cost': 'Has Price', 'rating': 'Average Rating'},\n",
    "             color_discrete_sequence=['rgb(20,33,61)','rgb(252,163,17)'])\n",
    "\n",
    "\n",
    "\n",
    "fig.update_traces(texttemplate='%{text:.2f}', textposition='outside')\n",
    "\n",
    "fig.update_layout(\n",
    "    title='Average Rating for Books with and without Price',\n",
    "    xaxis_title='',\n",
    "    yaxis_title='Average Rating',\n",
    "    font=dict(size=18),\n",
    "    width=800,  # set the width to 800 pixels\n",
    "    height=600  # set the height to 600 pixels\n",
    ")\n",
    "fig.show()\n",
    "\n",
    "fig.write_image('Average rating for books.png')\n"
   ]
  },
  {
   "cell_type": "code",
   "execution_count": 85,
   "id": "43a233c2-ca66-41a7-8929-85aea2166ac4",
   "metadata": {},
   "outputs": [
    {
     "data": {
      "application/vnd.plotly.v1+json": {
       "config": {
        "plotlyServerURL": "https://plot.ly"
       },
       "data": [
        {
         "alignmentgroup": "True",
         "bingroup": "x",
         "hovertemplate": "price=%{x}<br>count=%{y}<extra></extra>",
         "legendgroup": "",
         "marker": {
          "color": "rgb(252,163,17)",
          "pattern": {
           "shape": ""
          }
         },
         "name": "",
         "nbinsx": 40,
         "offsetgroup": "",
         "orientation": "v",
         "showlegend": false,
         "type": "histogram",
         "x": [
          16,
          0,
          0,
          22,
          0,
          0,
          0,
          9,
          0,
          11,
          9,
          14,
          12,
          0,
          0,
          0,
          0,
          13,
          14,
          0,
          12,
          21,
          0,
          12,
          8,
          8,
          0,
          14,
          0,
          0,
          23,
          0,
          0,
          0,
          22,
          0,
          0,
          0,
          12,
          14,
          22,
          0,
          0,
          0,
          15,
          0,
          12,
          0,
          11,
          17,
          14,
          0,
          0,
          12,
          0,
          11,
          17,
          7,
          6,
          0,
          0,
          14,
          11,
          9,
          13,
          5,
          0,
          0,
          0,
          0,
          0,
          5,
          0,
          12,
          26,
          0,
          21,
          0,
          18,
          0,
          0,
          0,
          16,
          17,
          0,
          0,
          0,
          0,
          0,
          13,
          0,
          0,
          0,
          0,
          0,
          8,
          5,
          0,
          13,
          7,
          14,
          0,
          9,
          0,
          0,
          0,
          20,
          0,
          0,
          0,
          0,
          0,
          16,
          0,
          0,
          0,
          0,
          0,
          0,
          15,
          0,
          18,
          0,
          0,
          0,
          13,
          10,
          0,
          0,
          0,
          0,
          0,
          0,
          0,
          14,
          0,
          19,
          17,
          9,
          13,
          42,
          10,
          0,
          0,
          0,
          15,
          5,
          12,
          0,
          0,
          0,
          18,
          0,
          28,
          0,
          0,
          0,
          18,
          0,
          0,
          0,
          0,
          0,
          0,
          0,
          0,
          0,
          0,
          11,
          9,
          0,
          0,
          0,
          0,
          0,
          12,
          0,
          0,
          0,
          0,
          14,
          17,
          0,
          0,
          5,
          0,
          11,
          16,
          14,
          0,
          21,
          0,
          0,
          0,
          13,
          0,
          0,
          0,
          25,
          26,
          8,
          0,
          12,
          30,
          0,
          53,
          14,
          11
         ],
         "xaxis": "x",
         "yaxis": "y"
        }
       ],
       "layout": {
        "barmode": "relative",
        "font": {
         "size": 18
        },
        "height": 600,
        "legend": {
         "tracegroupgap": 0
        },
        "margin": {
         "t": 60
        },
        "template": {
         "data": {
          "bar": [
           {
            "error_x": {
             "color": "#2a3f5f"
            },
            "error_y": {
             "color": "#2a3f5f"
            },
            "marker": {
             "line": {
              "color": "#E5ECF6",
              "width": 0.5
             },
             "pattern": {
              "fillmode": "overlay",
              "size": 10,
              "solidity": 0.2
             }
            },
            "type": "bar"
           }
          ],
          "barpolar": [
           {
            "marker": {
             "line": {
              "color": "#E5ECF6",
              "width": 0.5
             },
             "pattern": {
              "fillmode": "overlay",
              "size": 10,
              "solidity": 0.2
             }
            },
            "type": "barpolar"
           }
          ],
          "carpet": [
           {
            "aaxis": {
             "endlinecolor": "#2a3f5f",
             "gridcolor": "white",
             "linecolor": "white",
             "minorgridcolor": "white",
             "startlinecolor": "#2a3f5f"
            },
            "baxis": {
             "endlinecolor": "#2a3f5f",
             "gridcolor": "white",
             "linecolor": "white",
             "minorgridcolor": "white",
             "startlinecolor": "#2a3f5f"
            },
            "type": "carpet"
           }
          ],
          "choropleth": [
           {
            "colorbar": {
             "outlinewidth": 0,
             "ticks": ""
            },
            "type": "choropleth"
           }
          ],
          "contour": [
           {
            "colorbar": {
             "outlinewidth": 0,
             "ticks": ""
            },
            "colorscale": [
             [
              0,
              "#0d0887"
             ],
             [
              0.1111111111111111,
              "#46039f"
             ],
             [
              0.2222222222222222,
              "#7201a8"
             ],
             [
              0.3333333333333333,
              "#9c179e"
             ],
             [
              0.4444444444444444,
              "#bd3786"
             ],
             [
              0.5555555555555556,
              "#d8576b"
             ],
             [
              0.6666666666666666,
              "#ed7953"
             ],
             [
              0.7777777777777778,
              "#fb9f3a"
             ],
             [
              0.8888888888888888,
              "#fdca26"
             ],
             [
              1,
              "#f0f921"
             ]
            ],
            "type": "contour"
           }
          ],
          "contourcarpet": [
           {
            "colorbar": {
             "outlinewidth": 0,
             "ticks": ""
            },
            "type": "contourcarpet"
           }
          ],
          "heatmap": [
           {
            "colorbar": {
             "outlinewidth": 0,
             "ticks": ""
            },
            "colorscale": [
             [
              0,
              "#0d0887"
             ],
             [
              0.1111111111111111,
              "#46039f"
             ],
             [
              0.2222222222222222,
              "#7201a8"
             ],
             [
              0.3333333333333333,
              "#9c179e"
             ],
             [
              0.4444444444444444,
              "#bd3786"
             ],
             [
              0.5555555555555556,
              "#d8576b"
             ],
             [
              0.6666666666666666,
              "#ed7953"
             ],
             [
              0.7777777777777778,
              "#fb9f3a"
             ],
             [
              0.8888888888888888,
              "#fdca26"
             ],
             [
              1,
              "#f0f921"
             ]
            ],
            "type": "heatmap"
           }
          ],
          "heatmapgl": [
           {
            "colorbar": {
             "outlinewidth": 0,
             "ticks": ""
            },
            "colorscale": [
             [
              0,
              "#0d0887"
             ],
             [
              0.1111111111111111,
              "#46039f"
             ],
             [
              0.2222222222222222,
              "#7201a8"
             ],
             [
              0.3333333333333333,
              "#9c179e"
             ],
             [
              0.4444444444444444,
              "#bd3786"
             ],
             [
              0.5555555555555556,
              "#d8576b"
             ],
             [
              0.6666666666666666,
              "#ed7953"
             ],
             [
              0.7777777777777778,
              "#fb9f3a"
             ],
             [
              0.8888888888888888,
              "#fdca26"
             ],
             [
              1,
              "#f0f921"
             ]
            ],
            "type": "heatmapgl"
           }
          ],
          "histogram": [
           {
            "marker": {
             "pattern": {
              "fillmode": "overlay",
              "size": 10,
              "solidity": 0.2
             }
            },
            "type": "histogram"
           }
          ],
          "histogram2d": [
           {
            "colorbar": {
             "outlinewidth": 0,
             "ticks": ""
            },
            "colorscale": [
             [
              0,
              "#0d0887"
             ],
             [
              0.1111111111111111,
              "#46039f"
             ],
             [
              0.2222222222222222,
              "#7201a8"
             ],
             [
              0.3333333333333333,
              "#9c179e"
             ],
             [
              0.4444444444444444,
              "#bd3786"
             ],
             [
              0.5555555555555556,
              "#d8576b"
             ],
             [
              0.6666666666666666,
              "#ed7953"
             ],
             [
              0.7777777777777778,
              "#fb9f3a"
             ],
             [
              0.8888888888888888,
              "#fdca26"
             ],
             [
              1,
              "#f0f921"
             ]
            ],
            "type": "histogram2d"
           }
          ],
          "histogram2dcontour": [
           {
            "colorbar": {
             "outlinewidth": 0,
             "ticks": ""
            },
            "colorscale": [
             [
              0,
              "#0d0887"
             ],
             [
              0.1111111111111111,
              "#46039f"
             ],
             [
              0.2222222222222222,
              "#7201a8"
             ],
             [
              0.3333333333333333,
              "#9c179e"
             ],
             [
              0.4444444444444444,
              "#bd3786"
             ],
             [
              0.5555555555555556,
              "#d8576b"
             ],
             [
              0.6666666666666666,
              "#ed7953"
             ],
             [
              0.7777777777777778,
              "#fb9f3a"
             ],
             [
              0.8888888888888888,
              "#fdca26"
             ],
             [
              1,
              "#f0f921"
             ]
            ],
            "type": "histogram2dcontour"
           }
          ],
          "mesh3d": [
           {
            "colorbar": {
             "outlinewidth": 0,
             "ticks": ""
            },
            "type": "mesh3d"
           }
          ],
          "parcoords": [
           {
            "line": {
             "colorbar": {
              "outlinewidth": 0,
              "ticks": ""
             }
            },
            "type": "parcoords"
           }
          ],
          "pie": [
           {
            "automargin": true,
            "type": "pie"
           }
          ],
          "scatter": [
           {
            "fillpattern": {
             "fillmode": "overlay",
             "size": 10,
             "solidity": 0.2
            },
            "type": "scatter"
           }
          ],
          "scatter3d": [
           {
            "line": {
             "colorbar": {
              "outlinewidth": 0,
              "ticks": ""
             }
            },
            "marker": {
             "colorbar": {
              "outlinewidth": 0,
              "ticks": ""
             }
            },
            "type": "scatter3d"
           }
          ],
          "scattercarpet": [
           {
            "marker": {
             "colorbar": {
              "outlinewidth": 0,
              "ticks": ""
             }
            },
            "type": "scattercarpet"
           }
          ],
          "scattergeo": [
           {
            "marker": {
             "colorbar": {
              "outlinewidth": 0,
              "ticks": ""
             }
            },
            "type": "scattergeo"
           }
          ],
          "scattergl": [
           {
            "marker": {
             "colorbar": {
              "outlinewidth": 0,
              "ticks": ""
             }
            },
            "type": "scattergl"
           }
          ],
          "scattermapbox": [
           {
            "marker": {
             "colorbar": {
              "outlinewidth": 0,
              "ticks": ""
             }
            },
            "type": "scattermapbox"
           }
          ],
          "scatterpolar": [
           {
            "marker": {
             "colorbar": {
              "outlinewidth": 0,
              "ticks": ""
             }
            },
            "type": "scatterpolar"
           }
          ],
          "scatterpolargl": [
           {
            "marker": {
             "colorbar": {
              "outlinewidth": 0,
              "ticks": ""
             }
            },
            "type": "scatterpolargl"
           }
          ],
          "scatterternary": [
           {
            "marker": {
             "colorbar": {
              "outlinewidth": 0,
              "ticks": ""
             }
            },
            "type": "scatterternary"
           }
          ],
          "surface": [
           {
            "colorbar": {
             "outlinewidth": 0,
             "ticks": ""
            },
            "colorscale": [
             [
              0,
              "#0d0887"
             ],
             [
              0.1111111111111111,
              "#46039f"
             ],
             [
              0.2222222222222222,
              "#7201a8"
             ],
             [
              0.3333333333333333,
              "#9c179e"
             ],
             [
              0.4444444444444444,
              "#bd3786"
             ],
             [
              0.5555555555555556,
              "#d8576b"
             ],
             [
              0.6666666666666666,
              "#ed7953"
             ],
             [
              0.7777777777777778,
              "#fb9f3a"
             ],
             [
              0.8888888888888888,
              "#fdca26"
             ],
             [
              1,
              "#f0f921"
             ]
            ],
            "type": "surface"
           }
          ],
          "table": [
           {
            "cells": {
             "fill": {
              "color": "#EBF0F8"
             },
             "line": {
              "color": "white"
             }
            },
            "header": {
             "fill": {
              "color": "#C8D4E3"
             },
             "line": {
              "color": "white"
             }
            },
            "type": "table"
           }
          ]
         },
         "layout": {
          "annotationdefaults": {
           "arrowcolor": "#2a3f5f",
           "arrowhead": 0,
           "arrowwidth": 1
          },
          "autotypenumbers": "strict",
          "coloraxis": {
           "colorbar": {
            "outlinewidth": 0,
            "ticks": ""
           }
          },
          "colorscale": {
           "diverging": [
            [
             0,
             "#8e0152"
            ],
            [
             0.1,
             "#c51b7d"
            ],
            [
             0.2,
             "#de77ae"
            ],
            [
             0.3,
             "#f1b6da"
            ],
            [
             0.4,
             "#fde0ef"
            ],
            [
             0.5,
             "#f7f7f7"
            ],
            [
             0.6,
             "#e6f5d0"
            ],
            [
             0.7,
             "#b8e186"
            ],
            [
             0.8,
             "#7fbc41"
            ],
            [
             0.9,
             "#4d9221"
            ],
            [
             1,
             "#276419"
            ]
           ],
           "sequential": [
            [
             0,
             "#0d0887"
            ],
            [
             0.1111111111111111,
             "#46039f"
            ],
            [
             0.2222222222222222,
             "#7201a8"
            ],
            [
             0.3333333333333333,
             "#9c179e"
            ],
            [
             0.4444444444444444,
             "#bd3786"
            ],
            [
             0.5555555555555556,
             "#d8576b"
            ],
            [
             0.6666666666666666,
             "#ed7953"
            ],
            [
             0.7777777777777778,
             "#fb9f3a"
            ],
            [
             0.8888888888888888,
             "#fdca26"
            ],
            [
             1,
             "#f0f921"
            ]
           ],
           "sequentialminus": [
            [
             0,
             "#0d0887"
            ],
            [
             0.1111111111111111,
             "#46039f"
            ],
            [
             0.2222222222222222,
             "#7201a8"
            ],
            [
             0.3333333333333333,
             "#9c179e"
            ],
            [
             0.4444444444444444,
             "#bd3786"
            ],
            [
             0.5555555555555556,
             "#d8576b"
            ],
            [
             0.6666666666666666,
             "#ed7953"
            ],
            [
             0.7777777777777778,
             "#fb9f3a"
            ],
            [
             0.8888888888888888,
             "#fdca26"
            ],
            [
             1,
             "#f0f921"
            ]
           ]
          },
          "colorway": [
           "#636efa",
           "#EF553B",
           "#00cc96",
           "#ab63fa",
           "#FFA15A",
           "#19d3f3",
           "#FF6692",
           "#B6E880",
           "#FF97FF",
           "#FECB52"
          ],
          "font": {
           "color": "#2a3f5f"
          },
          "geo": {
           "bgcolor": "white",
           "lakecolor": "white",
           "landcolor": "#E5ECF6",
           "showlakes": true,
           "showland": true,
           "subunitcolor": "white"
          },
          "hoverlabel": {
           "align": "left"
          },
          "hovermode": "closest",
          "mapbox": {
           "style": "light"
          },
          "paper_bgcolor": "white",
          "plot_bgcolor": "#E5ECF6",
          "polar": {
           "angularaxis": {
            "gridcolor": "white",
            "linecolor": "white",
            "ticks": ""
           },
           "bgcolor": "#E5ECF6",
           "radialaxis": {
            "gridcolor": "white",
            "linecolor": "white",
            "ticks": ""
           }
          },
          "scene": {
           "xaxis": {
            "backgroundcolor": "#E5ECF6",
            "gridcolor": "white",
            "gridwidth": 2,
            "linecolor": "white",
            "showbackground": true,
            "ticks": "",
            "zerolinecolor": "white"
           },
           "yaxis": {
            "backgroundcolor": "#E5ECF6",
            "gridcolor": "white",
            "gridwidth": 2,
            "linecolor": "white",
            "showbackground": true,
            "ticks": "",
            "zerolinecolor": "white"
           },
           "zaxis": {
            "backgroundcolor": "#E5ECF6",
            "gridcolor": "white",
            "gridwidth": 2,
            "linecolor": "white",
            "showbackground": true,
            "ticks": "",
            "zerolinecolor": "white"
           }
          },
          "shapedefaults": {
           "line": {
            "color": "#2a3f5f"
           }
          },
          "ternary": {
           "aaxis": {
            "gridcolor": "white",
            "linecolor": "white",
            "ticks": ""
           },
           "baxis": {
            "gridcolor": "white",
            "linecolor": "white",
            "ticks": ""
           },
           "bgcolor": "#E5ECF6",
           "caxis": {
            "gridcolor": "white",
            "linecolor": "white",
            "ticks": ""
           }
          },
          "title": {
           "x": 0.05
          },
          "xaxis": {
           "automargin": true,
           "gridcolor": "white",
           "linecolor": "white",
           "ticks": "",
           "title": {
            "standoff": 15
           },
           "zerolinecolor": "white",
           "zerolinewidth": 2
          },
          "yaxis": {
           "automargin": true,
           "gridcolor": "white",
           "linecolor": "white",
           "ticks": "",
           "title": {
            "standoff": 15
           },
           "zerolinecolor": "white",
           "zerolinewidth": 2
          }
         }
        },
        "title": {
         "text": "Histogram of price range"
        },
        "width": 800,
        "xaxis": {
         "anchor": "y",
         "autorange": true,
         "domain": [
          0,
          1
         ],
         "range": [
          -0.5,
          53.5
         ],
         "title": {
          "text": "Price"
         },
         "type": "linear"
        },
        "yaxis": {
         "anchor": "x",
         "autorange": true,
         "domain": [
          0,
          1
         ],
         "range": [
          0,
          127.36842105263158
         ],
         "title": {
          "text": "count"
         }
        }
       }
      },
      "image/png": "[encoded data removed]",
      "text/html": [
       "<div>                            <div id=\"6988a111-c102-4311-9a99-73715e0a450b\" class=\"plotly-graph-div\" style=\"height:600px; width:800px;\"></div>            <script type=\"text/javascript\">                require([\"plotly\"], function(Plotly) {                    window.PLOTLYENV=window.PLOTLYENV || {};                                    if (document.getElementById(\"6988a111-c102-4311-9a99-73715e0a450b\")) {                    Plotly.newPlot(                        \"6988a111-c102-4311-9a99-73715e0a450b\",                        [{\"alignmentgroup\":\"True\",\"bingroup\":\"x\",\"hovertemplate\":\"price=%{x}<br>count=%{y}<extra></extra>\",\"legendgroup\":\"\",\"marker\":{\"color\":\"rgb(252,163,17)\",\"pattern\":{\"shape\":\"\"}},\"name\":\"\",\"nbinsx\":40,\"offsetgroup\":\"\",\"orientation\":\"v\",\"showlegend\":false,\"x\":[16,0,0,22,0,0,0,9,0,11,9,14,12,0,0,0,0,13,14,0,12,21,0,12,8,8,0,14,0,0,23,0,0,0,22,0,0,0,12,14,22,0,0,0,15,0,12,0,11,17,14,0,0,12,0,11,17,7,6,0,0,14,11,9,13,5,0,0,0,0,0,5,0,12,26,0,21,0,18,0,0,0,16,17,0,0,0,0,0,13,0,0,0,0,0,8,5,0,13,7,14,0,9,0,0,0,20,0,0,0,0,0,16,0,0,0,0,0,0,15,0,18,0,0,0,13,10,0,0,0,0,0,0,0,14,0,19,17,9,13,42,10,0,0,0,15,5,12,0,0,0,18,0,28,0,0,0,18,0,0,0,0,0,0,0,0,0,0,11,9,0,0,0,0,0,12,0,0,0,0,14,17,0,0,5,0,11,16,14,0,21,0,0,0,13,0,0,0,25,26,8,0,12,30,0,53,14,11],\"xaxis\":\"x\",\"yaxis\":\"y\",\"type\":\"histogram\"}],                        {\"template\":{\"data\":{\"histogram2dcontour\":[{\"type\":\"histogram2dcontour\",\"colorbar\":{\"outlinewidth\":0,\"ticks\":\"\"},\"colorscale\":[[0.0,\"#0d0887\"],[0.1111111111111111,\"#46039f\"],[0.2222222222222222,\"#7201a8\"],[0.3333333333333333,\"#9c179e\"],[0.4444444444444444,\"#bd3786\"],[0.5555555555555556,\"#d8576b\"],[0.6666666666666666,\"#ed7953\"],[0.7777777777777778,\"#fb9f3a\"],[0.8888888888888888,\"#fdca26\"],[1.0,\"#f0f921\"]]}],\"choropleth\":[{\"type\":\"choropleth\",\"colorbar\":{\"outlinewidth\":0,\"ticks\":\"\"}}],\"histogram2d\":[{\"type\":\"histogram2d\",\"colorbar\":{\"outlinewidth\":0,\"ticks\":\"\"},\"colorscale\":[[0.0,\"#0d0887\"],[0.1111111111111111,\"#46039f\"],[0.2222222222222222,\"#7201a8\"],[0.3333333333333333,\"#9c179e\"],[0.4444444444444444,\"#bd3786\"],[0.5555555555555556,\"#d8576b\"],[0.6666666666666666,\"#ed7953\"],[0.7777777777777778,\"#fb9f3a\"],[0.8888888888888888,\"#fdca26\"],[1.0,\"#f0f921\"]]}],\"heatmap\":[{\"type\":\"heatmap\",\"colorbar\":{\"outlinewidth\":0,\"ticks\":\"\"},\"colorscale\":[[0.0,\"#0d0887\"],[0.1111111111111111,\"#46039f\"],[0.2222222222222222,\"#7201a8\"],[0.3333333333333333,\"#9c179e\"],[0.4444444444444444,\"#bd3786\"],[0.5555555555555556,\"#d8576b\"],[0.6666666666666666,\"#ed7953\"],[0.7777777777777778,\"#fb9f3a\"],[0.8888888888888888,\"#fdca26\"],[1.0,\"#f0f921\"]]}],\"heatmapgl\":[{\"type\":\"heatmapgl\",\"colorbar\":{\"outlinewidth\":0,\"ticks\":\"\"},\"colorscale\":[[0.0,\"#0d0887\"],[0.1111111111111111,\"#46039f\"],[0.2222222222222222,\"#7201a8\"],[0.3333333333333333,\"#9c179e\"],[0.4444444444444444,\"#bd3786\"],[0.5555555555555556,\"#d8576b\"],[0.6666666666666666,\"#ed7953\"],[0.7777777777777778,\"#fb9f3a\"],[0.8888888888888888,\"#fdca26\"],[1.0,\"#f0f921\"]]}],\"contourcarpet\":[{\"type\":\"contourcarpet\",\"colorbar\":{\"outlinewidth\":0,\"ticks\":\"\"}}],\"contour\":[{\"type\":\"contour\",\"colorbar\":{\"outlinewidth\":0,\"ticks\":\"\"},\"colorscale\":[[0.0,\"#0d0887\"],[0.1111111111111111,\"#46039f\"],[0.2222222222222222,\"#7201a8\"],[0.3333333333333333,\"#9c179e\"],[0.4444444444444444,\"#bd3786\"],[0.5555555555555556,\"#d8576b\"],[0.6666666666666666,\"#ed7953\"],[0.7777777777777778,\"#fb9f3a\"],[0.8888888888888888,\"#fdca26\"],[1.0,\"#f0f921\"]]}],\"surface\":[{\"type\":\"surface\",\"colorbar\":{\"outlinewidth\":0,\"ticks\":\"\"},\"colorscale\":[[0.0,\"#0d0887\"],[0.1111111111111111,\"#46039f\"],[0.2222222222222222,\"#7201a8\"],[0.3333333333333333,\"#9c179e\"],[0.4444444444444444,\"#bd3786\"],[0.5555555555555556,\"#d8576b\"],[0.6666666666666666,\"#ed7953\"],[0.7777777777777778,\"#fb9f3a\"],[0.8888888888888888,\"#fdca26\"],[1.0,\"#f0f921\"]]}],\"mesh3d\":[{\"type\":\"mesh3d\",\"colorbar\":{\"outlinewidth\":0,\"ticks\":\"\"}}],\"scatter\":[{\"fillpattern\":{\"fillmode\":\"overlay\",\"size\":10,\"solidity\":0.2},\"type\":\"scatter\"}],\"parcoords\":[{\"type\":\"parcoords\",\"line\":{\"colorbar\":{\"outlinewidth\":0,\"ticks\":\"\"}}}],\"scatterpolargl\":[{\"type\":\"scatterpolargl\",\"marker\":{\"colorbar\":{\"outlinewidth\":0,\"ticks\":\"\"}}}],\"bar\":[{\"error_x\":{\"color\":\"#2a3f5f\"},\"error_y\":{\"color\":\"#2a3f5f\"},\"marker\":{\"line\":{\"color\":\"#E5ECF6\",\"width\":0.5},\"pattern\":{\"fillmode\":\"overlay\",\"size\":10,\"solidity\":0.2}},\"type\":\"bar\"}],\"scattergeo\":[{\"type\":\"scattergeo\",\"marker\":{\"colorbar\":{\"outlinewidth\":0,\"ticks\":\"\"}}}],\"scatterpolar\":[{\"type\":\"scatterpolar\",\"marker\":{\"colorbar\":{\"outlinewidth\":0,\"ticks\":\"\"}}}],\"histogram\":[{\"marker\":{\"pattern\":{\"fillmode\":\"overlay\",\"size\":10,\"solidity\":0.2}},\"type\":\"histogram\"}],\"scattergl\":[{\"type\":\"scattergl\",\"marker\":{\"colorbar\":{\"outlinewidth\":0,\"ticks\":\"\"}}}],\"scatter3d\":[{\"type\":\"scatter3d\",\"line\":{\"colorbar\":{\"outlinewidth\":0,\"ticks\":\"\"}},\"marker\":{\"colorbar\":{\"outlinewidth\":0,\"ticks\":\"\"}}}],\"scattermapbox\":[{\"type\":\"scattermapbox\",\"marker\":{\"colorbar\":{\"outlinewidth\":0,\"ticks\":\"\"}}}],\"scatterternary\":[{\"type\":\"scatterternary\",\"marker\":{\"colorbar\":{\"outlinewidth\":0,\"ticks\":\"\"}}}],\"scattercarpet\":[{\"type\":\"scattercarpet\",\"marker\":{\"colorbar\":{\"outlinewidth\":0,\"ticks\":\"\"}}}],\"carpet\":[{\"aaxis\":{\"endlinecolor\":\"#2a3f5f\",\"gridcolor\":\"white\",\"linecolor\":\"white\",\"minorgridcolor\":\"white\",\"startlinecolor\":\"#2a3f5f\"},\"baxis\":{\"endlinecolor\":\"#2a3f5f\",\"gridcolor\":\"white\",\"linecolor\":\"white\",\"minorgridcolor\":\"white\",\"startlinecolor\":\"#2a3f5f\"},\"type\":\"carpet\"}],\"table\":[{\"cells\":{\"fill\":{\"color\":\"#EBF0F8\"},\"line\":{\"color\":\"white\"}},\"header\":{\"fill\":{\"color\":\"#C8D4E3\"},\"line\":{\"color\":\"white\"}},\"type\":\"table\"}],\"barpolar\":[{\"marker\":{\"line\":{\"color\":\"#E5ECF6\",\"width\":0.5},\"pattern\":{\"fillmode\":\"overlay\",\"size\":10,\"solidity\":0.2}},\"type\":\"barpolar\"}],\"pie\":[{\"automargin\":true,\"type\":\"pie\"}]},\"layout\":{\"autotypenumbers\":\"strict\",\"colorway\":[\"#636efa\",\"#EF553B\",\"#00cc96\",\"#ab63fa\",\"#FFA15A\",\"#19d3f3\",\"#FF6692\",\"#B6E880\",\"#FF97FF\",\"#FECB52\"],\"font\":{\"color\":\"#2a3f5f\"},\"hovermode\":\"closest\",\"hoverlabel\":{\"align\":\"left\"},\"paper_bgcolor\":\"white\",\"plot_bgcolor\":\"#E5ECF6\",\"polar\":{\"bgcolor\":\"#E5ECF6\",\"angularaxis\":{\"gridcolor\":\"white\",\"linecolor\":\"white\",\"ticks\":\"\"},\"radialaxis\":{\"gridcolor\":\"white\",\"linecolor\":\"white\",\"ticks\":\"\"}},\"ternary\":{\"bgcolor\":\"#E5ECF6\",\"aaxis\":{\"gridcolor\":\"white\",\"linecolor\":\"white\",\"ticks\":\"\"},\"baxis\":{\"gridcolor\":\"white\",\"linecolor\":\"white\",\"ticks\":\"\"},\"caxis\":{\"gridcolor\":\"white\",\"linecolor\":\"white\",\"ticks\":\"\"}},\"coloraxis\":{\"colorbar\":{\"outlinewidth\":0,\"ticks\":\"\"}},\"colorscale\":{\"sequential\":[[0.0,\"#0d0887\"],[0.1111111111111111,\"#46039f\"],[0.2222222222222222,\"#7201a8\"],[0.3333333333333333,\"#9c179e\"],[0.4444444444444444,\"#bd3786\"],[0.5555555555555556,\"#d8576b\"],[0.6666666666666666,\"#ed7953\"],[0.7777777777777778,\"#fb9f3a\"],[0.8888888888888888,\"#fdca26\"],[1.0,\"#f0f921\"]],\"sequentialminus\":[[0.0,\"#0d0887\"],[0.1111111111111111,\"#46039f\"],[0.2222222222222222,\"#7201a8\"],[0.3333333333333333,\"#9c179e\"],[0.4444444444444444,\"#bd3786\"],[0.5555555555555556,\"#d8576b\"],[0.6666666666666666,\"#ed7953\"],[0.7777777777777778,\"#fb9f3a\"],[0.8888888888888888,\"#fdca26\"],[1.0,\"#f0f921\"]],\"diverging\":[[0,\"#8e0152\"],[0.1,\"#c51b7d\"],[0.2,\"#de77ae\"],[0.3,\"#f1b6da\"],[0.4,\"#fde0ef\"],[0.5,\"#f7f7f7\"],[0.6,\"#e6f5d0\"],[0.7,\"#b8e186\"],[0.8,\"#7fbc41\"],[0.9,\"#4d9221\"],[1,\"#276419\"]]},\"xaxis\":{\"gridcolor\":\"white\",\"linecolor\":\"white\",\"ticks\":\"\",\"title\":{\"standoff\":15},\"zerolinecolor\":\"white\",\"automargin\":true,\"zerolinewidth\":2},\"yaxis\":{\"gridcolor\":\"white\",\"linecolor\":\"white\",\"ticks\":\"\",\"title\":{\"standoff\":15},\"zerolinecolor\":\"white\",\"automargin\":true,\"zerolinewidth\":2},\"scene\":{\"xaxis\":{\"backgroundcolor\":\"#E5ECF6\",\"gridcolor\":\"white\",\"linecolor\":\"white\",\"showbackground\":true,\"ticks\":\"\",\"zerolinecolor\":\"white\",\"gridwidth\":2},\"yaxis\":{\"backgroundcolor\":\"#E5ECF6\",\"gridcolor\":\"white\",\"linecolor\":\"white\",\"showbackground\":true,\"ticks\":\"\",\"zerolinecolor\":\"white\",\"gridwidth\":2},\"zaxis\":{\"backgroundcolor\":\"#E5ECF6\",\"gridcolor\":\"white\",\"linecolor\":\"white\",\"showbackground\":true,\"ticks\":\"\",\"zerolinecolor\":\"white\",\"gridwidth\":2}},\"shapedefaults\":{\"line\":{\"color\":\"#2a3f5f\"}},\"annotationdefaults\":{\"arrowcolor\":\"#2a3f5f\",\"arrowhead\":0,\"arrowwidth\":1},\"geo\":{\"bgcolor\":\"white\",\"landcolor\":\"#E5ECF6\",\"subunitcolor\":\"white\",\"showland\":true,\"showlakes\":true,\"lakecolor\":\"white\"},\"title\":{\"x\":0.05},\"mapbox\":{\"style\":\"light\"}}},\"xaxis\":{\"anchor\":\"y\",\"domain\":[0.0,1.0],\"title\":{\"text\":\"Price\"}},\"yaxis\":{\"anchor\":\"x\",\"domain\":[0.0,1.0],\"title\":{\"text\":\"count\"}},\"legend\":{\"tracegroupgap\":0},\"margin\":{\"t\":60},\"barmode\":\"relative\",\"font\":{\"size\":18},\"title\":{\"text\":\"Histogram of price range\"},\"width\":800,\"height\":600},                        {\"responsive\": true}                    ).then(function(){\n",
       "                            \n",
       "var gd = document.getElementById('6988a111-c102-4311-9a99-73715e0a450b');\n",
       "var x = new MutationObserver(function (mutations, observer) {{\n",
       "        var display = window.getComputedStyle(gd).display;\n",
       "        if (!display || display === 'none') {{\n",
       "            console.log([gd, 'removed!']);\n",
       "            Plotly.purge(gd);\n",
       "            observer.disconnect();\n",
       "        }}\n",
       "}});\n",
       "\n",
       "// Listen for the removal of the full notebook cells\n",
       "var notebookContainer = gd.closest('#notebook-container');\n",
       "if (notebookContainer) {{\n",
       "    x.observe(notebookContainer, {childList: true});\n",
       "}}\n",
       "\n",
       "// Listen for the clearing of the current output cell\n",
       "var outputEl = gd.closest('.output');\n",
       "if (outputEl) {{\n",
       "    x.observe(outputEl, {childList: true});\n",
       "}}\n",
       "\n",
       "                        })                };                });            </script>        </div>"
      ]
     },
     "metadata": {},
     "output_type": "display_data"
    }
   ],
   "source": [
    "#hist of price range\n",
    "fig = px.histogram(df, x='price', nbins=40,  color_discrete_sequence= ['rgb(252,163,17)'])\n",
    "fig.update_layout(\n",
    "    title='Histogram of price range',\n",
    "    xaxis_title='Price',\n",
    "    font=dict(size=18),\n",
    "    width=800,  # set the width to 800 pixels\n",
    "    height=600  # set the height to 600 pixels\n",
    ")\n",
    "fig.write_image('Hist of price.png')\n",
    "fig.show()"
   ]
  },
  {
   "cell_type": "code",
   "execution_count": 99,
   "id": "e890746b-d6e7-43df-b135-db5ddb4c9667",
   "metadata": {},
   "outputs": [
    {
     "data": {
      "application/vnd.plotly.v1+json": {
       "config": {
        "plotlyServerURL": "https://plot.ly"
       },
       "data": [
        {
         "alignmentgroup": "True",
         "bingroup": "x",
         "hovertemplate": "rating=%{x}<br>count=%{y}<extra></extra>",
         "legendgroup": "",
         "marker": {
          "color": "rgb(20,33,61)",
          "pattern": {
           "shape": ""
          }
         },
         "name": "",
         "nbinsx": 10,
         "offsetgroup": "",
         "orientation": "v",
         "showlegend": false,
         "type": "histogram",
         "x": [
          4.9,
          4.6,
          4.8,
          4.8,
          4.7,
          4.5,
          4.5,
          4.6,
          4.7,
          4.7,
          4.6,
          4.7,
          4.5,
          4.8,
          4.8,
          4.7,
          4.7,
          4.7,
          4.8,
          4.8,
          4.8,
          4.5,
          4.6,
          4.8,
          4.3,
          4.6,
          4.8,
          4.7,
          4.7,
          4.8,
          4.6,
          4.7,
          4.8,
          4.8,
          4.8,
          4.6,
          4.6,
          4.8,
          4.6,
          4.8,
          5,
          4.6,
          4.6,
          4.3,
          4.6,
          4.7,
          4.8,
          4.7,
          4.8,
          4.6,
          4.8,
          4.8,
          4.9,
          4.9,
          4.6,
          4.8,
          4.7,
          4.6,
          4.5,
          4.6,
          4.8,
          4.6,
          4.7,
          4.8,
          4.8,
          4.6,
          4.9,
          4.7,
          4.6,
          4.8,
          4.8,
          4.6,
          4.7,
          4.9,
          5,
          4.5,
          4.8,
          4.8,
          4.6,
          4.8,
          4.9,
          4.8,
          4.7,
          4.6,
          4.7,
          4.7,
          4.7,
          4.7,
          4.6,
          4.8,
          4.7,
          4.6,
          4.7,
          4.8,
          4.8,
          4.7,
          4.7,
          4.8,
          4.7,
          4.6,
          4.8,
          4.7,
          4.6,
          4.6,
          4.8,
          4.6,
          4.8,
          4.7,
          4.8,
          4.6,
          4.7,
          4.9,
          4.6,
          4.7,
          4.6,
          4.5,
          4.8,
          4.9,
          4.8,
          4.8,
          4.7,
          4.8,
          4.5,
          4.5,
          4.4,
          4.7,
          4.6,
          4.7,
          4.6,
          4.5,
          4.7,
          4.7,
          4.7,
          4.5,
          4.8,
          4.8,
          4.9,
          4.4,
          4.8,
          4.6,
          4.9,
          4.7,
          4.5,
          4.8,
          4.6,
          4.7,
          4.6,
          4.7,
          4.8,
          4.8,
          4.8,
          4.8,
          4.6,
          4.1,
          4.7,
          4.8,
          4.6,
          4.6,
          4.9,
          4.5,
          4.7,
          4.8,
          4.7,
          4.7,
          4.6,
          4.8,
          4.5,
          4.1,
          4.8,
          4.8,
          4.6,
          4.7,
          4.8,
          4.6,
          4.6,
          4.6,
          4.7,
          4.6,
          4.7,
          4.7,
          4.6,
          5,
          4.5,
          4.4,
          4.6,
          4.6,
          4.7,
          4.8,
          4.7,
          4.6,
          4.8,
          4.8,
          4.6,
          4.8,
          4.8,
          4.8,
          4.6,
          4.8,
          4.9,
          4.6,
          4.7,
          4.7,
          4.7,
          4.8,
          4.7,
          4.9,
          4.8,
          4.8
         ],
         "xaxis": "x",
         "yaxis": "y"
        }
       ],
       "layout": {
        "autosize": true,
        "barmode": "relative",
        "font": {
         "size": 18
        },
        "legend": {
         "tracegroupgap": 0
        },
        "margin": {
         "t": 60
        },
        "template": {
         "data": {
          "bar": [
           {
            "error_x": {
             "color": "#2a3f5f"
            },
            "error_y": {
             "color": "#2a3f5f"
            },
            "marker": {
             "line": {
              "color": "#E5ECF6",
              "width": 0.5
             },
             "pattern": {
              "fillmode": "overlay",
              "size": 10,
              "solidity": 0.2
             }
            },
            "type": "bar"
           }
          ],
          "barpolar": [
           {
            "marker": {
             "line": {
              "color": "#E5ECF6",
              "width": 0.5
             },
             "pattern": {
              "fillmode": "overlay",
              "size": 10,
              "solidity": 0.2
             }
            },
            "type": "barpolar"
           }
          ],
          "carpet": [
           {
            "aaxis": {
             "endlinecolor": "#2a3f5f",
             "gridcolor": "white",
             "linecolor": "white",
             "minorgridcolor": "white",
             "startlinecolor": "#2a3f5f"
            },
            "baxis": {
             "endlinecolor": "#2a3f5f",
             "gridcolor": "white",
             "linecolor": "white",
             "minorgridcolor": "white",
             "startlinecolor": "#2a3f5f"
            },
            "type": "carpet"
           }
          ],
          "choropleth": [
           {
            "colorbar": {
             "outlinewidth": 0,
             "ticks": ""
            },
            "type": "choropleth"
           }
          ],
          "contour": [
           {
            "colorbar": {
             "outlinewidth": 0,
             "ticks": ""
            },
            "colorscale": [
             [
              0,
              "#0d0887"
             ],
             [
              0.1111111111111111,
              "#46039f"
             ],
             [
              0.2222222222222222,
              "#7201a8"
             ],
             [
              0.3333333333333333,
              "#9c179e"
             ],
             [
              0.4444444444444444,
              "#bd3786"
             ],
             [
              0.5555555555555556,
              "#d8576b"
             ],
             [
              0.6666666666666666,
              "#ed7953"
             ],
             [
              0.7777777777777778,
              "#fb9f3a"
             ],
             [
              0.8888888888888888,
              "#fdca26"
             ],
             [
              1,
              "#f0f921"
             ]
            ],
            "type": "contour"
           }
          ],
          "contourcarpet": [
           {
            "colorbar": {
             "outlinewidth": 0,
             "ticks": ""
            },
            "type": "contourcarpet"
           }
          ],
          "heatmap": [
           {
            "colorbar": {
             "outlinewidth": 0,
             "ticks": ""
            },
            "colorscale": [
             [
              0,
              "#0d0887"
             ],
             [
              0.1111111111111111,
              "#46039f"
             ],
             [
              0.2222222222222222,
              "#7201a8"
             ],
             [
              0.3333333333333333,
              "#9c179e"
             ],
             [
              0.4444444444444444,
              "#bd3786"
             ],
             [
              0.5555555555555556,
              "#d8576b"
             ],
             [
              0.6666666666666666,
              "#ed7953"
             ],
             [
              0.7777777777777778,
              "#fb9f3a"
             ],
             [
              0.8888888888888888,
              "#fdca26"
             ],
             [
              1,
              "#f0f921"
             ]
            ],
            "type": "heatmap"
           }
          ],
          "heatmapgl": [
           {
            "colorbar": {
             "outlinewidth": 0,
             "ticks": ""
            },
            "colorscale": [
             [
              0,
              "#0d0887"
             ],
             [
              0.1111111111111111,
              "#46039f"
             ],
             [
              0.2222222222222222,
              "#7201a8"
             ],
             [
              0.3333333333333333,
              "#9c179e"
             ],
             [
              0.4444444444444444,
              "#bd3786"
             ],
             [
              0.5555555555555556,
              "#d8576b"
             ],
             [
              0.6666666666666666,
              "#ed7953"
             ],
             [
              0.7777777777777778,
              "#fb9f3a"
             ],
             [
              0.8888888888888888,
              "#fdca26"
             ],
             [
              1,
              "#f0f921"
             ]
            ],
            "type": "heatmapgl"
           }
          ],
          "histogram": [
           {
            "marker": {
             "pattern": {
              "fillmode": "overlay",
              "size": 10,
              "solidity": 0.2
             }
            },
            "type": "histogram"
           }
          ],
          "histogram2d": [
           {
            "colorbar": {
             "outlinewidth": 0,
             "ticks": ""
            },
            "colorscale": [
             [
              0,
              "#0d0887"
             ],
             [
              0.1111111111111111,
              "#46039f"
             ],
             [
              0.2222222222222222,
              "#7201a8"
             ],
             [
              0.3333333333333333,
              "#9c179e"
             ],
             [
              0.4444444444444444,
              "#bd3786"
             ],
             [
              0.5555555555555556,
              "#d8576b"
             ],
             [
              0.6666666666666666,
              "#ed7953"
             ],
             [
              0.7777777777777778,
              "#fb9f3a"
             ],
             [
              0.8888888888888888,
              "#fdca26"
             ],
             [
              1,
              "#f0f921"
             ]
            ],
            "type": "histogram2d"
           }
          ],
          "histogram2dcontour": [
           {
            "colorbar": {
             "outlinewidth": 0,
             "ticks": ""
            },
            "colorscale": [
             [
              0,
              "#0d0887"
             ],
             [
              0.1111111111111111,
              "#46039f"
             ],
             [
              0.2222222222222222,
              "#7201a8"
             ],
             [
              0.3333333333333333,
              "#9c179e"
             ],
             [
              0.4444444444444444,
              "#bd3786"
             ],
             [
              0.5555555555555556,
              "#d8576b"
             ],
             [
              0.6666666666666666,
              "#ed7953"
             ],
             [
              0.7777777777777778,
              "#fb9f3a"
             ],
             [
              0.8888888888888888,
              "#fdca26"
             ],
             [
              1,
              "#f0f921"
             ]
            ],
            "type": "histogram2dcontour"
           }
          ],
          "mesh3d": [
           {
            "colorbar": {
             "outlinewidth": 0,
             "ticks": ""
            },
            "type": "mesh3d"
           }
          ],
          "parcoords": [
           {
            "line": {
             "colorbar": {
              "outlinewidth": 0,
              "ticks": ""
             }
            },
            "type": "parcoords"
           }
          ],
          "pie": [
           {
            "automargin": true,
            "type": "pie"
           }
          ],
          "scatter": [
           {
            "fillpattern": {
             "fillmode": "overlay",
             "size": 10,
             "solidity": 0.2
            },
            "type": "scatter"
           }
          ],
          "scatter3d": [
           {
            "line": {
             "colorbar": {
              "outlinewidth": 0,
              "ticks": ""
             }
            },
            "marker": {
             "colorbar": {
              "outlinewidth": 0,
              "ticks": ""
             }
            },
            "type": "scatter3d"
           }
          ],
          "scattercarpet": [
           {
            "marker": {
             "colorbar": {
              "outlinewidth": 0,
              "ticks": ""
             }
            },
            "type": "scattercarpet"
           }
          ],
          "scattergeo": [
           {
            "marker": {
             "colorbar": {
              "outlinewidth": 0,
              "ticks": ""
             }
            },
            "type": "scattergeo"
           }
          ],
          "scattergl": [
           {
            "marker": {
             "colorbar": {
              "outlinewidth": 0,
              "ticks": ""
             }
            },
            "type": "scattergl"
           }
          ],
          "scattermapbox": [
           {
            "marker": {
             "colorbar": {
              "outlinewidth": 0,
              "ticks": ""
             }
            },
            "type": "scattermapbox"
           }
          ],
          "scatterpolar": [
           {
            "marker": {
             "colorbar": {
              "outlinewidth": 0,
              "ticks": ""
             }
            },
            "type": "scatterpolar"
           }
          ],
          "scatterpolargl": [
           {
            "marker": {
             "colorbar": {
              "outlinewidth": 0,
              "ticks": ""
             }
            },
            "type": "scatterpolargl"
           }
          ],
          "scatterternary": [
           {
            "marker": {
             "colorbar": {
              "outlinewidth": 0,
              "ticks": ""
             }
            },
            "type": "scatterternary"
           }
          ],
          "surface": [
           {
            "colorbar": {
             "outlinewidth": 0,
             "ticks": ""
            },
            "colorscale": [
             [
              0,
              "#0d0887"
             ],
             [
              0.1111111111111111,
              "#46039f"
             ],
             [
              0.2222222222222222,
              "#7201a8"
             ],
             [
              0.3333333333333333,
              "#9c179e"
             ],
             [
              0.4444444444444444,
              "#bd3786"
             ],
             [
              0.5555555555555556,
              "#d8576b"
             ],
             [
              0.6666666666666666,
              "#ed7953"
             ],
             [
              0.7777777777777778,
              "#fb9f3a"
             ],
             [
              0.8888888888888888,
              "#fdca26"
             ],
             [
              1,
              "#f0f921"
             ]
            ],
            "type": "surface"
           }
          ],
          "table": [
           {
            "cells": {
             "fill": {
              "color": "#EBF0F8"
             },
             "line": {
              "color": "white"
             }
            },
            "header": {
             "fill": {
              "color": "#C8D4E3"
             },
             "line": {
              "color": "white"
             }
            },
            "type": "table"
           }
          ]
         },
         "layout": {
          "annotationdefaults": {
           "arrowcolor": "#2a3f5f",
           "arrowhead": 0,
           "arrowwidth": 1
          },
          "autotypenumbers": "strict",
          "coloraxis": {
           "colorbar": {
            "outlinewidth": 0,
            "ticks": ""
           }
          },
          "colorscale": {
           "diverging": [
            [
             0,
             "#8e0152"
            ],
            [
             0.1,
             "#c51b7d"
            ],
            [
             0.2,
             "#de77ae"
            ],
            [
             0.3,
             "#f1b6da"
            ],
            [
             0.4,
             "#fde0ef"
            ],
            [
             0.5,
             "#f7f7f7"
            ],
            [
             0.6,
             "#e6f5d0"
            ],
            [
             0.7,
             "#b8e186"
            ],
            [
             0.8,
             "#7fbc41"
            ],
            [
             0.9,
             "#4d9221"
            ],
            [
             1,
             "#276419"
            ]
           ],
           "sequential": [
            [
             0,
             "#0d0887"
            ],
            [
             0.1111111111111111,
             "#46039f"
            ],
            [
             0.2222222222222222,
             "#7201a8"
            ],
            [
             0.3333333333333333,
             "#9c179e"
            ],
            [
             0.4444444444444444,
             "#bd3786"
            ],
            [
             0.5555555555555556,
             "#d8576b"
            ],
            [
             0.6666666666666666,
             "#ed7953"
            ],
            [
             0.7777777777777778,
             "#fb9f3a"
            ],
            [
             0.8888888888888888,
             "#fdca26"
            ],
            [
             1,
             "#f0f921"
            ]
           ],
           "sequentialminus": [
            [
             0,
             "#0d0887"
            ],
            [
             0.1111111111111111,
             "#46039f"
            ],
            [
             0.2222222222222222,
             "#7201a8"
            ],
            [
             0.3333333333333333,
             "#9c179e"
            ],
            [
             0.4444444444444444,
             "#bd3786"
            ],
            [
             0.5555555555555556,
             "#d8576b"
            ],
            [
             0.6666666666666666,
             "#ed7953"
            ],
            [
             0.7777777777777778,
             "#fb9f3a"
            ],
            [
             0.8888888888888888,
             "#fdca26"
            ],
            [
             1,
             "#f0f921"
            ]
           ]
          },
          "colorway": [
           "#636efa",
           "#EF553B",
           "#00cc96",
           "#ab63fa",
           "#FFA15A",
           "#19d3f3",
           "#FF6692",
           "#B6E880",
           "#FF97FF",
           "#FECB52"
          ],
          "font": {
           "color": "#2a3f5f"
          },
          "geo": {
           "bgcolor": "white",
           "lakecolor": "white",
           "landcolor": "#E5ECF6",
           "showlakes": true,
           "showland": true,
           "subunitcolor": "white"
          },
          "hoverlabel": {
           "align": "left"
          },
          "hovermode": "closest",
          "mapbox": {
           "style": "light"
          },
          "paper_bgcolor": "white",
          "plot_bgcolor": "#E5ECF6",
          "polar": {
           "angularaxis": {
            "gridcolor": "white",
            "linecolor": "white",
            "ticks": ""
           },
           "bgcolor": "#E5ECF6",
           "radialaxis": {
            "gridcolor": "white",
            "linecolor": "white",
            "ticks": ""
           }
          },
          "scene": {
           "xaxis": {
            "backgroundcolor": "#E5ECF6",
            "gridcolor": "white",
            "gridwidth": 2,
            "linecolor": "white",
            "showbackground": true,
            "ticks": "",
            "zerolinecolor": "white"
           },
           "yaxis": {
            "backgroundcolor": "#E5ECF6",
            "gridcolor": "white",
            "gridwidth": 2,
            "linecolor": "white",
            "showbackground": true,
            "ticks": "",
            "zerolinecolor": "white"
           },
           "zaxis": {
            "backgroundcolor": "#E5ECF6",
            "gridcolor": "white",
            "gridwidth": 2,
            "linecolor": "white",
            "showbackground": true,
            "ticks": "",
            "zerolinecolor": "white"
           }
          },
          "shapedefaults": {
           "line": {
            "color": "#2a3f5f"
           }
          },
          "ternary": {
           "aaxis": {
            "gridcolor": "white",
            "linecolor": "white",
            "ticks": ""
           },
           "baxis": {
            "gridcolor": "white",
            "linecolor": "white",
            "ticks": ""
           },
           "bgcolor": "#E5ECF6",
           "caxis": {
            "gridcolor": "white",
            "linecolor": "white",
            "ticks": ""
           }
          },
          "title": {
           "x": 0.05
          },
          "xaxis": {
           "automargin": true,
           "gridcolor": "white",
           "linecolor": "white",
           "ticks": "",
           "title": {
            "standoff": 15
           },
           "zerolinecolor": "white",
           "zerolinewidth": 2
          },
          "yaxis": {
           "automargin": true,
           "gridcolor": "white",
           "linecolor": "white",
           "ticks": "",
           "title": {
            "standoff": 15
           },
           "zerolinecolor": "white",
           "zerolinewidth": 2
          }
         }
        },
        "title": {
         "text": "Histogram of Rating"
        },
        "xaxis": {
         "anchor": "y",
         "autorange": true,
         "domain": [
          0,
          1
         ],
         "range": [
          4.050000000000001,
          5.05
         ],
         "title": {
          "text": "rating"
         },
         "type": "linear"
        },
        "yaxis": {
         "anchor": "x",
         "autorange": true,
         "domain": [
          0,
          1
         ],
         "range": [
          0,
          68.42105263157895
         ],
         "title": {
          "text": "count"
         }
        }
       }
      },
      "image/png": "[encoded data removed]",
      "text/html": [
       "<div>                            <div id=\"2cf07123-8e75-4951-8369-3def4dd3190b\" class=\"plotly-graph-div\" style=\"height:525px; width:100%;\"></div>            <script type=\"text/javascript\">                require([\"plotly\"], function(Plotly) {                    window.PLOTLYENV=window.PLOTLYENV || {};                                    if (document.getElementById(\"2cf07123-8e75-4951-8369-3def4dd3190b\")) {                    Plotly.newPlot(                        \"2cf07123-8e75-4951-8369-3def4dd3190b\",                        [{\"alignmentgroup\":\"True\",\"bingroup\":\"x\",\"hovertemplate\":\"rating=%{x}<br>count=%{y}<extra></extra>\",\"legendgroup\":\"\",\"marker\":{\"color\":\"rgb(20,33,61)\",\"pattern\":{\"shape\":\"\"}},\"name\":\"\",\"nbinsx\":10,\"offsetgroup\":\"\",\"orientation\":\"v\",\"showlegend\":false,\"x\":[4.9,4.6,4.8,4.8,4.7,4.5,4.5,4.6,4.7,4.7,4.6,4.7,4.5,4.8,4.8,4.7,4.7,4.7,4.8,4.8,4.8,4.5,4.6,4.8,4.3,4.6,4.8,4.7,4.7,4.8,4.6,4.7,4.8,4.8,4.8,4.6,4.6,4.8,4.6,4.8,5.0,4.6,4.6,4.3,4.6,4.7,4.8,4.7,4.8,4.6,4.8,4.8,4.9,4.9,4.6,4.8,4.7,4.6,4.5,4.6,4.8,4.6,4.7,4.8,4.8,4.6,4.9,4.7,4.6,4.8,4.8,4.6,4.7,4.9,5.0,4.5,4.8,4.8,4.6,4.8,4.9,4.8,4.7,4.6,4.7,4.7,4.7,4.7,4.6,4.8,4.7,4.6,4.7,4.8,4.8,4.7,4.7,4.8,4.7,4.6,4.8,4.7,4.6,4.6,4.8,4.6,4.8,4.7,4.8,4.6,4.7,4.9,4.6,4.7,4.6,4.5,4.8,4.9,4.8,4.8,4.7,4.8,4.5,4.5,4.4,4.7,4.6,4.7,4.6,4.5,4.7,4.7,4.7,4.5,4.8,4.8,4.9,4.4,4.8,4.6,4.9,4.7,4.5,4.8,4.6,4.7,4.6,4.7,4.8,4.8,4.8,4.8,4.6,4.1,4.7,4.8,4.6,4.6,4.9,4.5,4.7,4.8,4.7,4.7,4.6,4.8,4.5,4.1,4.8,4.8,4.6,4.7,4.8,4.6,4.6,4.6,4.7,4.6,4.7,4.7,4.6,5.0,4.5,4.4,4.6,4.6,4.7,4.8,4.7,4.6,4.8,4.8,4.6,4.8,4.8,4.8,4.6,4.8,4.9,4.6,4.7,4.7,4.7,4.8,4.7,4.9,4.8,4.8],\"xaxis\":\"x\",\"yaxis\":\"y\",\"type\":\"histogram\"}],                        {\"template\":{\"data\":{\"histogram2dcontour\":[{\"type\":\"histogram2dcontour\",\"colorbar\":{\"outlinewidth\":0,\"ticks\":\"\"},\"colorscale\":[[0.0,\"#0d0887\"],[0.1111111111111111,\"#46039f\"],[0.2222222222222222,\"#7201a8\"],[0.3333333333333333,\"#9c179e\"],[0.4444444444444444,\"#bd3786\"],[0.5555555555555556,\"#d8576b\"],[0.6666666666666666,\"#ed7953\"],[0.7777777777777778,\"#fb9f3a\"],[0.8888888888888888,\"#fdca26\"],[1.0,\"#f0f921\"]]}],\"choropleth\":[{\"type\":\"choropleth\",\"colorbar\":{\"outlinewidth\":0,\"ticks\":\"\"}}],\"histogram2d\":[{\"type\":\"histogram2d\",\"colorbar\":{\"outlinewidth\":0,\"ticks\":\"\"},\"colorscale\":[[0.0,\"#0d0887\"],[0.1111111111111111,\"#46039f\"],[0.2222222222222222,\"#7201a8\"],[0.3333333333333333,\"#9c179e\"],[0.4444444444444444,\"#bd3786\"],[0.5555555555555556,\"#d8576b\"],[0.6666666666666666,\"#ed7953\"],[0.7777777777777778,\"#fb9f3a\"],[0.8888888888888888,\"#fdca26\"],[1.0,\"#f0f921\"]]}],\"heatmap\":[{\"type\":\"heatmap\",\"colorbar\":{\"outlinewidth\":0,\"ticks\":\"\"},\"colorscale\":[[0.0,\"#0d0887\"],[0.1111111111111111,\"#46039f\"],[0.2222222222222222,\"#7201a8\"],[0.3333333333333333,\"#9c179e\"],[0.4444444444444444,\"#bd3786\"],[0.5555555555555556,\"#d8576b\"],[0.6666666666666666,\"#ed7953\"],[0.7777777777777778,\"#fb9f3a\"],[0.8888888888888888,\"#fdca26\"],[1.0,\"#f0f921\"]]}],\"heatmapgl\":[{\"type\":\"heatmapgl\",\"colorbar\":{\"outlinewidth\":0,\"ticks\":\"\"},\"colorscale\":[[0.0,\"#0d0887\"],[0.1111111111111111,\"#46039f\"],[0.2222222222222222,\"#7201a8\"],[0.3333333333333333,\"#9c179e\"],[0.4444444444444444,\"#bd3786\"],[0.5555555555555556,\"#d8576b\"],[0.6666666666666666,\"#ed7953\"],[0.7777777777777778,\"#fb9f3a\"],[0.8888888888888888,\"#fdca26\"],[1.0,\"#f0f921\"]]}],\"contourcarpet\":[{\"type\":\"contourcarpet\",\"colorbar\":{\"outlinewidth\":0,\"ticks\":\"\"}}],\"contour\":[{\"type\":\"contour\",\"colorbar\":{\"outlinewidth\":0,\"ticks\":\"\"},\"colorscale\":[[0.0,\"#0d0887\"],[0.1111111111111111,\"#46039f\"],[0.2222222222222222,\"#7201a8\"],[0.3333333333333333,\"#9c179e\"],[0.4444444444444444,\"#bd3786\"],[0.5555555555555556,\"#d8576b\"],[0.6666666666666666,\"#ed7953\"],[0.7777777777777778,\"#fb9f3a\"],[0.8888888888888888,\"#fdca26\"],[1.0,\"#f0f921\"]]}],\"surface\":[{\"type\":\"surface\",\"colorbar\":{\"outlinewidth\":0,\"ticks\":\"\"},\"colorscale\":[[0.0,\"#0d0887\"],[0.1111111111111111,\"#46039f\"],[0.2222222222222222,\"#7201a8\"],[0.3333333333333333,\"#9c179e\"],[0.4444444444444444,\"#bd3786\"],[0.5555555555555556,\"#d8576b\"],[0.6666666666666666,\"#ed7953\"],[0.7777777777777778,\"#fb9f3a\"],[0.8888888888888888,\"#fdca26\"],[1.0,\"#f0f921\"]]}],\"mesh3d\":[{\"type\":\"mesh3d\",\"colorbar\":{\"outlinewidth\":0,\"ticks\":\"\"}}],\"scatter\":[{\"fillpattern\":{\"fillmode\":\"overlay\",\"size\":10,\"solidity\":0.2},\"type\":\"scatter\"}],\"parcoords\":[{\"type\":\"parcoords\",\"line\":{\"colorbar\":{\"outlinewidth\":0,\"ticks\":\"\"}}}],\"scatterpolargl\":[{\"type\":\"scatterpolargl\",\"marker\":{\"colorbar\":{\"outlinewidth\":0,\"ticks\":\"\"}}}],\"bar\":[{\"error_x\":{\"color\":\"#2a3f5f\"},\"error_y\":{\"color\":\"#2a3f5f\"},\"marker\":{\"line\":{\"color\":\"#E5ECF6\",\"width\":0.5},\"pattern\":{\"fillmode\":\"overlay\",\"size\":10,\"solidity\":0.2}},\"type\":\"bar\"}],\"scattergeo\":[{\"type\":\"scattergeo\",\"marker\":{\"colorbar\":{\"outlinewidth\":0,\"ticks\":\"\"}}}],\"scatterpolar\":[{\"type\":\"scatterpolar\",\"marker\":{\"colorbar\":{\"outlinewidth\":0,\"ticks\":\"\"}}}],\"histogram\":[{\"marker\":{\"pattern\":{\"fillmode\":\"overlay\",\"size\":10,\"solidity\":0.2}},\"type\":\"histogram\"}],\"scattergl\":[{\"type\":\"scattergl\",\"marker\":{\"colorbar\":{\"outlinewidth\":0,\"ticks\":\"\"}}}],\"scatter3d\":[{\"type\":\"scatter3d\",\"line\":{\"colorbar\":{\"outlinewidth\":0,\"ticks\":\"\"}},\"marker\":{\"colorbar\":{\"outlinewidth\":0,\"ticks\":\"\"}}}],\"scattermapbox\":[{\"type\":\"scattermapbox\",\"marker\":{\"colorbar\":{\"outlinewidth\":0,\"ticks\":\"\"}}}],\"scatterternary\":[{\"type\":\"scatterternary\",\"marker\":{\"colorbar\":{\"outlinewidth\":0,\"ticks\":\"\"}}}],\"scattercarpet\":[{\"type\":\"scattercarpet\",\"marker\":{\"colorbar\":{\"outlinewidth\":0,\"ticks\":\"\"}}}],\"carpet\":[{\"aaxis\":{\"endlinecolor\":\"#2a3f5f\",\"gridcolor\":\"white\",\"linecolor\":\"white\",\"minorgridcolor\":\"white\",\"startlinecolor\":\"#2a3f5f\"},\"baxis\":{\"endlinecolor\":\"#2a3f5f\",\"gridcolor\":\"white\",\"linecolor\":\"white\",\"minorgridcolor\":\"white\",\"startlinecolor\":\"#2a3f5f\"},\"type\":\"carpet\"}],\"table\":[{\"cells\":{\"fill\":{\"color\":\"#EBF0F8\"},\"line\":{\"color\":\"white\"}},\"header\":{\"fill\":{\"color\":\"#C8D4E3\"},\"line\":{\"color\":\"white\"}},\"type\":\"table\"}],\"barpolar\":[{\"marker\":{\"line\":{\"color\":\"#E5ECF6\",\"width\":0.5},\"pattern\":{\"fillmode\":\"overlay\",\"size\":10,\"solidity\":0.2}},\"type\":\"barpolar\"}],\"pie\":[{\"automargin\":true,\"type\":\"pie\"}]},\"layout\":{\"autotypenumbers\":\"strict\",\"colorway\":[\"#636efa\",\"#EF553B\",\"#00cc96\",\"#ab63fa\",\"#FFA15A\",\"#19d3f3\",\"#FF6692\",\"#B6E880\",\"#FF97FF\",\"#FECB52\"],\"font\":{\"color\":\"#2a3f5f\"},\"hovermode\":\"closest\",\"hoverlabel\":{\"align\":\"left\"},\"paper_bgcolor\":\"white\",\"plot_bgcolor\":\"#E5ECF6\",\"polar\":{\"bgcolor\":\"#E5ECF6\",\"angularaxis\":{\"gridcolor\":\"white\",\"linecolor\":\"white\",\"ticks\":\"\"},\"radialaxis\":{\"gridcolor\":\"white\",\"linecolor\":\"white\",\"ticks\":\"\"}},\"ternary\":{\"bgcolor\":\"#E5ECF6\",\"aaxis\":{\"gridcolor\":\"white\",\"linecolor\":\"white\",\"ticks\":\"\"},\"baxis\":{\"gridcolor\":\"white\",\"linecolor\":\"white\",\"ticks\":\"\"},\"caxis\":{\"gridcolor\":\"white\",\"linecolor\":\"white\",\"ticks\":\"\"}},\"coloraxis\":{\"colorbar\":{\"outlinewidth\":0,\"ticks\":\"\"}},\"colorscale\":{\"sequential\":[[0.0,\"#0d0887\"],[0.1111111111111111,\"#46039f\"],[0.2222222222222222,\"#7201a8\"],[0.3333333333333333,\"#9c179e\"],[0.4444444444444444,\"#bd3786\"],[0.5555555555555556,\"#d8576b\"],[0.6666666666666666,\"#ed7953\"],[0.7777777777777778,\"#fb9f3a\"],[0.8888888888888888,\"#fdca26\"],[1.0,\"#f0f921\"]],\"sequentialminus\":[[0.0,\"#0d0887\"],[0.1111111111111111,\"#46039f\"],[0.2222222222222222,\"#7201a8\"],[0.3333333333333333,\"#9c179e\"],[0.4444444444444444,\"#bd3786\"],[0.5555555555555556,\"#d8576b\"],[0.6666666666666666,\"#ed7953\"],[0.7777777777777778,\"#fb9f3a\"],[0.8888888888888888,\"#fdca26\"],[1.0,\"#f0f921\"]],\"diverging\":[[0,\"#8e0152\"],[0.1,\"#c51b7d\"],[0.2,\"#de77ae\"],[0.3,\"#f1b6da\"],[0.4,\"#fde0ef\"],[0.5,\"#f7f7f7\"],[0.6,\"#e6f5d0\"],[0.7,\"#b8e186\"],[0.8,\"#7fbc41\"],[0.9,\"#4d9221\"],[1,\"#276419\"]]},\"xaxis\":{\"gridcolor\":\"white\",\"linecolor\":\"white\",\"ticks\":\"\",\"title\":{\"standoff\":15},\"zerolinecolor\":\"white\",\"automargin\":true,\"zerolinewidth\":2},\"yaxis\":{\"gridcolor\":\"white\",\"linecolor\":\"white\",\"ticks\":\"\",\"title\":{\"standoff\":15},\"zerolinecolor\":\"white\",\"automargin\":true,\"zerolinewidth\":2},\"scene\":{\"xaxis\":{\"backgroundcolor\":\"#E5ECF6\",\"gridcolor\":\"white\",\"linecolor\":\"white\",\"showbackground\":true,\"ticks\":\"\",\"zerolinecolor\":\"white\",\"gridwidth\":2},\"yaxis\":{\"backgroundcolor\":\"#E5ECF6\",\"gridcolor\":\"white\",\"linecolor\":\"white\",\"showbackground\":true,\"ticks\":\"\",\"zerolinecolor\":\"white\",\"gridwidth\":2},\"zaxis\":{\"backgroundcolor\":\"#E5ECF6\",\"gridcolor\":\"white\",\"linecolor\":\"white\",\"showbackground\":true,\"ticks\":\"\",\"zerolinecolor\":\"white\",\"gridwidth\":2}},\"shapedefaults\":{\"line\":{\"color\":\"#2a3f5f\"}},\"annotationdefaults\":{\"arrowcolor\":\"#2a3f5f\",\"arrowhead\":0,\"arrowwidth\":1},\"geo\":{\"bgcolor\":\"white\",\"landcolor\":\"#E5ECF6\",\"subunitcolor\":\"white\",\"showland\":true,\"showlakes\":true,\"lakecolor\":\"white\"},\"title\":{\"x\":0.05},\"mapbox\":{\"style\":\"light\"}}},\"xaxis\":{\"anchor\":\"y\",\"domain\":[0.0,1.0],\"title\":{\"text\":\"rating\"}},\"yaxis\":{\"anchor\":\"x\",\"domain\":[0.0,1.0],\"title\":{\"text\":\"count\"}},\"legend\":{\"tracegroupgap\":0},\"margin\":{\"t\":60},\"barmode\":\"relative\",\"font\":{\"size\":18},\"title\":{\"text\":\"Histogram of Rating\"}},                        {\"responsive\": true}                    ).then(function(){\n",
       "                            \n",
       "var gd = document.getElementById('2cf07123-8e75-4951-8369-3def4dd3190b');\n",
       "var x = new MutationObserver(function (mutations, observer) {{\n",
       "        var display = window.getComputedStyle(gd).display;\n",
       "        if (!display || display === 'none') {{\n",
       "            console.log([gd, 'removed!']);\n",
       "            Plotly.purge(gd);\n",
       "            observer.disconnect();\n",
       "        }}\n",
       "}});\n",
       "\n",
       "// Listen for the removal of the full notebook cells\n",
       "var notebookContainer = gd.closest('#notebook-container');\n",
       "if (notebookContainer) {{\n",
       "    x.observe(notebookContainer, {childList: true});\n",
       "}}\n",
       "\n",
       "// Listen for the clearing of the current output cell\n",
       "var outputEl = gd.closest('.output');\n",
       "if (outputEl) {{\n",
       "    x.observe(outputEl, {childList: true});\n",
       "}}\n",
       "\n",
       "                        })                };                });            </script>        </div>"
      ]
     },
     "metadata": {},
     "output_type": "display_data"
    }
   ],
   "source": [
    "#distribution of ratings\n",
    "fig = px.histogram(df, x='rating',color_discrete_sequence=  ['rgb(20,33,61)', 'rgb(252,163,17)'],nbins=10)\n",
    "\n",
    "fig.update_layout(\n",
    "    title='Histogram of Rating',\n",
    "    xaxis_title='rating',\n",
    "    font=dict(size=18),\n",
    ")\n",
    "fig.show()\n",
    "fig.write_image('Hist of rating.png')\n"
   ]
  },
  {
   "cell_type": "code",
   "execution_count": null,
   "id": "1a9e2221-4c92-42a5-ae00-f224b8ded2d5",
   "metadata": {},
   "outputs": [],
   "source": []
  }
 ],
 "metadata": {
  "kernelspec": {
   "display_name": "Python 3 (ipykernel)",
   "language": "python",
   "name": "python3"
  },
  "language_info": {
   "codemirror_mode": {
    "name": "ipython",
    "version": 3
   },
   "file_extension": ".py",
   "mimetype": "text/x-python",
   "name": "python",
   "nbconvert_exporter": "python",
   "pygments_lexer": "ipython3",
   "version": "3.9.13"
  }
 },
 "nbformat": 4,
 "nbformat_minor": 5
}
